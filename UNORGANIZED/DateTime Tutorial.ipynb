{
 "cells": [
  {
   "cell_type": "markdown",
   "metadata": {},
   "source": [
    "# Import Required Libraries\n",
    "Import the necessary libraries, including datetime and dateutil."
   ]
  },
  {
   "cell_type": "code",
   "execution_count": 1,
   "metadata": {},
   "outputs": [],
   "source": [
    "# Import Required Libraries\n",
    "\n",
    "import datetime\n",
    "from dateutil import parser"
   ]
  },
  {
   "cell_type": "markdown",
   "metadata": {},
   "source": [
    "Sure! Let's break down an ISO 8601 date string into its components: day, month, and year. ISO 8601 date strings are typically formatted as `YYYY-MM-DD`.\n",
    "\n",
    "Here's a step-by-step explanation and a Python code example:\n",
    "\n",
    "1. **Extract the Year**: The first four characters represent the year.\n",
    "2. **Extract the Month**: The next two characters after the hyphen represent the month.\n",
    "3. **Extract the Day**: The last two characters after the second hyphen represent the day.\n",
    "\n",
    "Here's a Python code example to demonstrate this:\n",
    "\n"
   ]
  },
  {
   "cell_type": "code",
   "execution_count": 2,
   "metadata": {},
   "outputs": [
    {
     "name": "stdout",
     "output_type": "stream",
     "text": [
      "Year: 2023\n",
      "Month: 10\n",
      "Day: 05\n"
     ]
    }
   ],
   "source": [
    "# Example ISO 8601 date string\n",
    "iso_date = \"2023-10-05\"\n",
    "\n",
    "# Extracting year, month, and day\n",
    "year = iso_date[:4]\n",
    "month = iso_date[5:7]\n",
    "day = iso_date[8:10]\n",
    "\n",
    "# Printing the extracted components\n",
    "print(f\"Year: {year}\")\n",
    "print(f\"Month: {month}\")\n",
    "print(f\"Day: {day}\")"
   ]
  },
  {
   "cell_type": "markdown",
   "metadata": {},
   "source": [
    "\n",
    "\n",
    "### Explanation:\n",
    "- `iso_date[:4]` extracts the first four characters, which represent the year.\n",
    "- `iso_date[5:7]` extracts the characters from index 5 to 7, which represent the month.\n",
    "- `iso_date[8:10]` extracts the characters from index 8 to 10, which represent the day.\n",
    "\n",
    "This code will output:\n"
   ]
  },
  {
   "cell_type": "code",
   "execution_count": null,
   "metadata": {},
   "outputs": [],
   "source": [
    "Year: 2023\n",
    "Month: 10\n",
    "Day: 05"
   ]
  },
  {
   "cell_type": "markdown",
   "metadata": {},
   "source": [
    "\n",
    "\n",
    "This is a simple way to break down an ISO 8601 date string into its components using Python."
   ]
  },
  {
   "cell_type": "markdown",
   "metadata": {},
   "source": [
    "# Parse ISO 8601 Dates\n",
    "Use the dateutil.parser module to parse ISO 8601 date strings into datetime objects."
   ]
  },
  {
   "cell_type": "code",
   "execution_count": 3,
   "metadata": {},
   "outputs": [
    {
     "data": {
      "text/plain": [
       "datetime.datetime(2023, 10, 5, 14, 48, tzinfo=tzutc())"
      ]
     },
     "execution_count": 3,
     "metadata": {},
     "output_type": "execute_result"
    }
   ],
   "source": [
    "# Parse ISO 8601 Dates\n",
    "\n",
    "# Example ISO 8601 date string\n",
    "iso_date_str = \"2023-10-05T14:48:00.000Z\"\n",
    "\n",
    "# Parse the ISO 8601 date string into a datetime object\n",
    "parsed_date = parser.parse(iso_date_str)\n",
    "\n",
    "# Display the parsed datetime object\n",
    "parsed_date"
   ]
  },
  {
   "cell_type": "markdown",
   "metadata": {},
   "source": [
    "# Format Dates to ISO 8601\n",
    "Use the datetime module to format datetime objects into ISO 8601 date strings."
   ]
  },
  {
   "cell_type": "code",
   "execution_count": 4,
   "metadata": {},
   "outputs": [
    {
     "data": {
      "text/plain": [
       "'2024-12-31T00:15:49.504223'"
      ]
     },
     "execution_count": 4,
     "metadata": {},
     "output_type": "execute_result"
    }
   ],
   "source": [
    "# Format Dates to ISO 8601\n",
    "\n",
    "# Create a datetime object for the current date and time\n",
    "current_datetime = datetime.datetime.now()\n",
    "\n",
    "# Format the datetime object to an ISO 8601 date string\n",
    "iso_formatted_date = current_datetime.isoformat()\n",
    "\n",
    "# Display the ISO 8601 formatted date string\n",
    "iso_formatted_date"
   ]
  },
  {
   "cell_type": "markdown",
   "metadata": {},
   "source": [
    "# Handling Time Zones\n",
    "Use the pytz library to handle time zones when working with ISO 8601 dates."
   ]
  },
  {
   "cell_type": "code",
   "execution_count": 5,
   "metadata": {},
   "outputs": [
    {
     "ename": "ValueError",
     "evalue": "Not naive datetime (tzinfo is already set)",
     "output_type": "error",
     "traceback": [
      "\u001b[1;31m---------------------------------------------------------------------------\u001b[0m",
      "\u001b[1;31mValueError\u001b[0m                                Traceback (most recent call last)",
      "Cell \u001b[1;32mIn[5], line 9\u001b[0m\n\u001b[0;32m      6\u001b[0m utc_timezone \u001b[38;5;241m=\u001b[39m pytz\u001b[38;5;241m.\u001b[39mtimezone(\u001b[38;5;124m'\u001b[39m\u001b[38;5;124mUTC\u001b[39m\u001b[38;5;124m'\u001b[39m)\n\u001b[0;32m      8\u001b[0m \u001b[38;5;66;03m# Localize the parsed date to the UTC timezone\u001b[39;00m\n\u001b[1;32m----> 9\u001b[0m localized_date \u001b[38;5;241m=\u001b[39m \u001b[43mutc_timezone\u001b[49m\u001b[38;5;241;43m.\u001b[39;49m\u001b[43mlocalize\u001b[49m\u001b[43m(\u001b[49m\u001b[43mparsed_date\u001b[49m\u001b[43m)\u001b[49m\n\u001b[0;32m     11\u001b[0m \u001b[38;5;66;03m# Display the localized datetime object\u001b[39;00m\n\u001b[0;32m     12\u001b[0m localized_date\n",
      "File \u001b[1;32m~\\AppData\\Roaming\\Python\\Python38\\site-packages\\pytz\\__init__.py:245\u001b[0m, in \u001b[0;36mUTC.localize\u001b[1;34m(self, dt, is_dst)\u001b[0m\n\u001b[0;32m    243\u001b[0m \u001b[38;5;250m\u001b[39m\u001b[38;5;124;03m'''Convert naive time to local time'''\u001b[39;00m\n\u001b[0;32m    244\u001b[0m \u001b[38;5;28;01mif\u001b[39;00m dt\u001b[38;5;241m.\u001b[39mtzinfo \u001b[38;5;129;01mis\u001b[39;00m \u001b[38;5;129;01mnot\u001b[39;00m \u001b[38;5;28;01mNone\u001b[39;00m:\n\u001b[1;32m--> 245\u001b[0m     \u001b[38;5;28;01mraise\u001b[39;00m \u001b[38;5;167;01mValueError\u001b[39;00m(\u001b[38;5;124m'\u001b[39m\u001b[38;5;124mNot naive datetime (tzinfo is already set)\u001b[39m\u001b[38;5;124m'\u001b[39m)\n\u001b[0;32m    246\u001b[0m \u001b[38;5;28;01mreturn\u001b[39;00m dt\u001b[38;5;241m.\u001b[39mreplace(tzinfo\u001b[38;5;241m=\u001b[39m\u001b[38;5;28mself\u001b[39m)\n",
      "\u001b[1;31mValueError\u001b[0m: Not naive datetime (tzinfo is already set)"
     ]
    }
   ],
   "source": [
    "# Handling Time Zones\n",
    "\n",
    "import pytz\n",
    "\n",
    "# Define a timezone (e.g., UTC)\n",
    "utc_timezone = pytz.timezone('UTC')\n",
    "\n",
    "# Localize the parsed date to the UTC timezone\n",
    "localized_date = utc_timezone.localize(parsed_date)\n",
    "\n",
    "# Display the localized datetime object\n",
    "localized_date\n",
    "\n",
    "# Convert the localized date to another timezone (e.g., US/Eastern)\n",
    "eastern_timezone = pytz.timezone('US/Eastern')\n",
    "eastern_date = localized_date.astimezone(eastern_timezone)\n",
    "\n",
    "# Display the datetime object in the new timezone\n",
    "eastern_date"
   ]
  },
  {
   "cell_type": "markdown",
   "metadata": {},
   "source": [
    "# Working with Durations\n",
    "Use the datetime module to work with durations and intervals in ISO 8601 format."
   ]
  },
  {
   "cell_type": "code",
   "execution_count": 6,
   "metadata": {},
   "outputs": [
    {
     "ename": "ValueError",
     "evalue": "invalid literal for int() with base 10: b'P5DT'",
     "output_type": "error",
     "traceback": [
      "\u001b[1;31m---------------------------------------------------------------------------\u001b[0m",
      "\u001b[1;31mValueError\u001b[0m                                Traceback (most recent call last)",
      "File \u001b[1;32m~\\AppData\\Roaming\\Python\\Python38\\site-packages\\dateutil\\parser\\isoparser.py:208\u001b[0m, in \u001b[0;36misoparser._parse_isodate\u001b[1;34m(self, dt_str)\u001b[0m\n\u001b[0;32m    207\u001b[0m \u001b[38;5;28;01mtry\u001b[39;00m:\n\u001b[1;32m--> 208\u001b[0m     \u001b[38;5;28;01mreturn\u001b[39;00m \u001b[38;5;28;43mself\u001b[39;49m\u001b[38;5;241;43m.\u001b[39;49m\u001b[43m_parse_isodate_common\u001b[49m\u001b[43m(\u001b[49m\u001b[43mdt_str\u001b[49m\u001b[43m)\u001b[49m\n\u001b[0;32m    209\u001b[0m \u001b[38;5;28;01mexcept\u001b[39;00m \u001b[38;5;167;01mValueError\u001b[39;00m:\n",
      "File \u001b[1;32m~\\AppData\\Roaming\\Python\\Python38\\site-packages\\dateutil\\parser\\isoparser.py:220\u001b[0m, in \u001b[0;36misoparser._parse_isodate_common\u001b[1;34m(self, dt_str)\u001b[0m\n\u001b[0;32m    219\u001b[0m \u001b[38;5;66;03m# Year\u001b[39;00m\n\u001b[1;32m--> 220\u001b[0m components[\u001b[38;5;241m0\u001b[39m] \u001b[38;5;241m=\u001b[39m \u001b[38;5;28;43mint\u001b[39;49m\u001b[43m(\u001b[49m\u001b[43mdt_str\u001b[49m\u001b[43m[\u001b[49m\u001b[38;5;241;43m0\u001b[39;49m\u001b[43m:\u001b[49m\u001b[38;5;241;43m4\u001b[39;49m\u001b[43m]\u001b[49m\u001b[43m)\u001b[49m\n\u001b[0;32m    221\u001b[0m pos \u001b[38;5;241m=\u001b[39m \u001b[38;5;241m4\u001b[39m\n",
      "\u001b[1;31mValueError\u001b[0m: invalid literal for int() with base 10: b'P5DT'",
      "\nDuring handling of the above exception, another exception occurred:\n",
      "\u001b[1;31mValueError\u001b[0m                                Traceback (most recent call last)",
      "Cell \u001b[1;32mIn[6], line 25\u001b[0m\n\u001b[0;32m     23\u001b[0m \u001b[38;5;66;03m# Parse an ISO 8601 duration string (e.g., \"P5DT4H30M\")\u001b[39;00m\n\u001b[0;32m     24\u001b[0m iso_duration_str \u001b[38;5;241m=\u001b[39m \u001b[38;5;124m\"\u001b[39m\u001b[38;5;124mP5DT4H30M\u001b[39m\u001b[38;5;124m\"\u001b[39m\n\u001b[1;32m---> 25\u001b[0m parsed_duration \u001b[38;5;241m=\u001b[39m \u001b[43mparser\u001b[49m\u001b[38;5;241;43m.\u001b[39;49m\u001b[43misoparse\u001b[49m\u001b[43m(\u001b[49m\u001b[43miso_duration_str\u001b[49m\u001b[43m)\u001b[49m\n\u001b[0;32m     27\u001b[0m \u001b[38;5;66;03m# Display the parsed duration\u001b[39;00m\n\u001b[0;32m     28\u001b[0m parsed_duration\n",
      "File \u001b[1;32m~\\AppData\\Roaming\\Python\\Python38\\site-packages\\dateutil\\parser\\isoparser.py:37\u001b[0m, in \u001b[0;36m_takes_ascii.<locals>.func\u001b[1;34m(self, str_in, *args, **kwargs)\u001b[0m\n\u001b[0;32m     34\u001b[0m         msg \u001b[38;5;241m=\u001b[39m \u001b[38;5;124m'\u001b[39m\u001b[38;5;124mISO-8601 strings should contain only ASCII characters\u001b[39m\u001b[38;5;124m'\u001b[39m\n\u001b[0;32m     35\u001b[0m         six\u001b[38;5;241m.\u001b[39mraise_from(\u001b[38;5;167;01mValueError\u001b[39;00m(msg), e)\n\u001b[1;32m---> 37\u001b[0m \u001b[38;5;28;01mreturn\u001b[39;00m \u001b[43mf\u001b[49m\u001b[43m(\u001b[49m\u001b[38;5;28;43mself\u001b[39;49m\u001b[43m,\u001b[49m\u001b[43m \u001b[49m\u001b[43mstr_in\u001b[49m\u001b[43m,\u001b[49m\u001b[43m \u001b[49m\u001b[38;5;241;43m*\u001b[39;49m\u001b[43margs\u001b[49m\u001b[43m,\u001b[49m\u001b[43m \u001b[49m\u001b[38;5;241;43m*\u001b[39;49m\u001b[38;5;241;43m*\u001b[39;49m\u001b[43mkwargs\u001b[49m\u001b[43m)\u001b[49m\n",
      "File \u001b[1;32m~\\AppData\\Roaming\\Python\\Python38\\site-packages\\dateutil\\parser\\isoparser.py:134\u001b[0m, in \u001b[0;36misoparser.isoparse\u001b[1;34m(self, dt_str)\u001b[0m\n\u001b[0;32m     59\u001b[0m \u001b[38;5;129m@_takes_ascii\u001b[39m\n\u001b[0;32m     60\u001b[0m \u001b[38;5;28;01mdef\u001b[39;00m \u001b[38;5;21misoparse\u001b[39m(\u001b[38;5;28mself\u001b[39m, dt_str):\n\u001b[0;32m     61\u001b[0m \u001b[38;5;250m    \u001b[39m\u001b[38;5;124;03m\"\"\"\u001b[39;00m\n\u001b[0;32m     62\u001b[0m \u001b[38;5;124;03m    Parse an ISO-8601 datetime string into a :class:`datetime.datetime`.\u001b[39;00m\n\u001b[0;32m     63\u001b[0m \n\u001b[1;32m   (...)\u001b[0m\n\u001b[0;32m    132\u001b[0m \u001b[38;5;124;03m    .. versionadded:: 2.7.0\u001b[39;00m\n\u001b[0;32m    133\u001b[0m \u001b[38;5;124;03m    \"\"\"\u001b[39;00m\n\u001b[1;32m--> 134\u001b[0m     components, pos \u001b[38;5;241m=\u001b[39m \u001b[38;5;28;43mself\u001b[39;49m\u001b[38;5;241;43m.\u001b[39;49m\u001b[43m_parse_isodate\u001b[49m\u001b[43m(\u001b[49m\u001b[43mdt_str\u001b[49m\u001b[43m)\u001b[49m\n\u001b[0;32m    136\u001b[0m     \u001b[38;5;28;01mif\u001b[39;00m \u001b[38;5;28mlen\u001b[39m(dt_str) \u001b[38;5;241m>\u001b[39m pos:\n\u001b[0;32m    137\u001b[0m         \u001b[38;5;28;01mif\u001b[39;00m \u001b[38;5;28mself\u001b[39m\u001b[38;5;241m.\u001b[39m_sep \u001b[38;5;129;01mis\u001b[39;00m \u001b[38;5;28;01mNone\u001b[39;00m \u001b[38;5;129;01mor\u001b[39;00m dt_str[pos:pos \u001b[38;5;241m+\u001b[39m \u001b[38;5;241m1\u001b[39m] \u001b[38;5;241m==\u001b[39m \u001b[38;5;28mself\u001b[39m\u001b[38;5;241m.\u001b[39m_sep:\n",
      "File \u001b[1;32m~\\AppData\\Roaming\\Python\\Python38\\site-packages\\dateutil\\parser\\isoparser.py:210\u001b[0m, in \u001b[0;36misoparser._parse_isodate\u001b[1;34m(self, dt_str)\u001b[0m\n\u001b[0;32m    208\u001b[0m     \u001b[38;5;28;01mreturn\u001b[39;00m \u001b[38;5;28mself\u001b[39m\u001b[38;5;241m.\u001b[39m_parse_isodate_common(dt_str)\n\u001b[0;32m    209\u001b[0m \u001b[38;5;28;01mexcept\u001b[39;00m \u001b[38;5;167;01mValueError\u001b[39;00m:\n\u001b[1;32m--> 210\u001b[0m     \u001b[38;5;28;01mreturn\u001b[39;00m \u001b[38;5;28;43mself\u001b[39;49m\u001b[38;5;241;43m.\u001b[39;49m\u001b[43m_parse_isodate_uncommon\u001b[49m\u001b[43m(\u001b[49m\u001b[43mdt_str\u001b[49m\u001b[43m)\u001b[49m\n",
      "File \u001b[1;32m~\\AppData\\Roaming\\Python\\Python38\\site-packages\\dateutil\\parser\\isoparser.py:258\u001b[0m, in \u001b[0;36misoparser._parse_isodate_uncommon\u001b[1;34m(self, dt_str)\u001b[0m\n\u001b[0;32m    255\u001b[0m     \u001b[38;5;28;01mraise\u001b[39;00m \u001b[38;5;167;01mValueError\u001b[39;00m(\u001b[38;5;124m'\u001b[39m\u001b[38;5;124mISO string too short\u001b[39m\u001b[38;5;124m'\u001b[39m)\n\u001b[0;32m    257\u001b[0m \u001b[38;5;66;03m# All ISO formats start with the year\u001b[39;00m\n\u001b[1;32m--> 258\u001b[0m year \u001b[38;5;241m=\u001b[39m \u001b[38;5;28;43mint\u001b[39;49m\u001b[43m(\u001b[49m\u001b[43mdt_str\u001b[49m\u001b[43m[\u001b[49m\u001b[38;5;241;43m0\u001b[39;49m\u001b[43m:\u001b[49m\u001b[38;5;241;43m4\u001b[39;49m\u001b[43m]\u001b[49m\u001b[43m)\u001b[49m\n\u001b[0;32m    260\u001b[0m has_sep \u001b[38;5;241m=\u001b[39m dt_str[\u001b[38;5;241m4\u001b[39m:\u001b[38;5;241m5\u001b[39m] \u001b[38;5;241m==\u001b[39m \u001b[38;5;28mself\u001b[39m\u001b[38;5;241m.\u001b[39m_DATE_SEP\n\u001b[0;32m    262\u001b[0m pos \u001b[38;5;241m=\u001b[39m \u001b[38;5;241m4\u001b[39m \u001b[38;5;241m+\u001b[39m has_sep       \u001b[38;5;66;03m# Skip '-' if it's there\u001b[39;00m\n",
      "\u001b[1;31mValueError\u001b[0m: invalid literal for int() with base 10: b'P5DT'"
     ]
    }
   ],
   "source": [
    "# Working with Durations\n",
    "\n",
    "from datetime import timedelta\n",
    "\n",
    "# Define a duration of 5 days, 4 hours, and 30 minutes\n",
    "duration = timedelta(days=5, hours=4, minutes=30)\n",
    "\n",
    "# Display the duration\n",
    "duration\n",
    "\n",
    "# Add the duration to the current datetime\n",
    "future_datetime = current_datetime + duration\n",
    "\n",
    "# Display the future datetime\n",
    "future_datetime\n",
    "\n",
    "# Subtract the duration from the current datetime\n",
    "past_datetime = current_datetime - duration\n",
    "\n",
    "# Display the past datetime\n",
    "past_datetime\n",
    "\n",
    "# Parse an ISO 8601 duration string (e.g., \"P5DT4H30M\")\n",
    "iso_duration_str = \"P5DT4H30M\"\n",
    "parsed_duration = parser.isoparse(iso_duration_str)\n",
    "\n",
    "# Display the parsed duration\n",
    "parsed_duration"
   ]
  },
  {
   "cell_type": "code",
   "execution_count": 7,
   "metadata": {},
   "outputs": [
    {
     "data": {
      "text/plain": [
       "datetime.datetime(2023, 10, 5, 14, 48)"
      ]
     },
     "execution_count": 7,
     "metadata": {},
     "output_type": "execute_result"
    }
   ],
   "source": [
    "# Example string of numbers representing a date and time\n",
    "date_str = \"20231005T144800\"\n",
    "\n",
    "# Convert the string to a datetime object\n",
    "date_obj = datetime.datetime.strptime(date_str, \"%Y%m%dT%H%M%S\")\n",
    "\n",
    "# Display the datetime object\n",
    "date_obj"
   ]
  },
  {
   "cell_type": "markdown",
   "metadata": {},
   "source": [
    "In Python, when working with dates and times, the `strftime` and `strptime` methods from the `datetime` module are used to format and parse date strings, respectively. The format codes (like `%Y`, `%m`, etc.) within the quotation marks specify the components of the date and time.\n",
    "\n",
    "Here are some common format codes:\n",
    "\n",
    "- `%Y`: Year with century (e.g., 2023)\n",
    "- `%y`: Year without century (e.g., 23)\n",
    "- `%m`: Month as a zero-padded decimal number (e.g., 01 for January)\n",
    "- `%d`: Day of the month as a zero-padded decimal number (e.g., 01 to 31)\n",
    "- `%H`: Hour (24-hour clock) as a zero-padded decimal number (e.g., 00 to 23)\n",
    "- `%I`: Hour (12-hour clock) as a zero-padded decimal number (e.g., 01 to 12)\n",
    "- `%M`: Minute as a zero-padded decimal number (e.g., 00 to 59)\n",
    "- `%S`: Second as a zero-padded decimal number (e.g., 00 to 59)\n",
    "- `%f`: Microsecond as a decimal number, zero-padded on the left (e.g., 000000 to 999999)\n",
    "- `%p`: AM or PM\n",
    "- `%A`: Weekday name (e.g., Monday)\n",
    "- `%a`: Abbreviated weekday name (e.g., Mon)\n",
    "- `%B`: Month name (e.g., January)\n",
    "- `%b`: Abbreviated month name (e.g., Jan)\n",
    "\n",
    "### Example Usage\n",
    "\n",
    "To format a `datetime` object into a string:\n",
    "\n"
   ]
  },
  {
   "cell_type": "code",
   "execution_count": null,
   "metadata": {},
   "outputs": [],
   "source": [
    "from datetime import datetime\n",
    "\n",
    "# Create a datetime object\n",
    "now = datetime.now()\n",
    "\n",
    "# Format the datetime object as a string\n",
    "formatted_date = now.strftime(\"%Y-%m-%d %H:%M:%S\")\n",
    "print(formatted_date)  # Output: 2023-10-05 14:30:00"
   ]
  },
  {
   "cell_type": "markdown",
   "metadata": {},
   "source": [
    "\n",
    "\n",
    "To parse a string into a `datetime` object:\n",
    "\n"
   ]
  },
  {
   "cell_type": "code",
   "execution_count": null,
   "metadata": {},
   "outputs": [],
   "source": [
    "from datetime import datetime\n",
    "\n",
    "# Define a date string\n",
    "date_string = \"2023-10-05 14:30:00\"\n",
    "\n",
    "# Parse the date string into a datetime object\n",
    "parsed_date = datetime.strptime(date_string, \"%Y-%m-%d %H:%M:%S\")\n",
    "print(parsed_date)  # Output: 2023-10-05 14:30:00"
   ]
  },
  {
   "cell_type": "markdown",
   "metadata": {},
   "source": [
    "\n",
    "\n",
    "These format codes allow you to control the exact format of the date and time strings you are working with."
   ]
  }
 ],
 "metadata": {
  "kernelspec": {
   "display_name": "Python 3",
   "language": "python",
   "name": "python3"
  },
  "language_info": {
   "codemirror_mode": {
    "name": "ipython",
    "version": 3
   },
   "file_extension": ".py",
   "mimetype": "text/x-python",
   "name": "python",
   "nbconvert_exporter": "python",
   "pygments_lexer": "ipython3",
   "version": "3.8.2"
  }
 },
 "nbformat": 4,
 "nbformat_minor": 2
}

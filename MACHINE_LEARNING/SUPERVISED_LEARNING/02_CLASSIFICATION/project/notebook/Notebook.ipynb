{
 "cells": [
  {
   "cell_type": "markdown",
   "id": "e9a1a101",
   "metadata": {},
   "source": [
    "# Practice Scenario: Binary Classification of Malicious vs Benign Network Flows\n",
    "\n",
    "Dataset: https://research.unsw.edu.au/projects/unsw-nb15-dataset\n",
    "\n",
    "Description: The raw network packets of the **UNSW-NB 15 dataset** was created by the IXIA PerfectStorm tool in the Cyber Range Lab of UNSW Canberra for generating a hybrid of **real modern normal activities and synthetic contemporary attack behaviours**. The tcpdump tool was utilised to capture 100 GB of the raw traffic (e.g., Pcap files). This dataset has nine types of attacks, namely, `Fuzzers`, `Analysis`, `Backdoors`, `DoS`, `Exploits`, `Generic`, `Reconnaissance`, `Shellcode` and `Worms`. The Argus, Bro-IDS tools are used and twelve algorithms are developed to generate totally 49 features with the class label. These features are described in the UNSW-NB15_features.csv file.\n",
    "\n",
    "\n",
    "Problem Statement: *Given 49 flow-based features, predict whether a network connection is malicious (1) or benign (0) using Logistic Regression. Achieve an acceptable AUC-ROC and interpret the top 5 drivers of malice.*"
   ]
  },
  {
   "cell_type": "markdown",
   "id": "02fcefd0",
   "metadata": {},
   "source": [
    "Start with the pcap files, convert them using zeek, fix the naming, create logistic regression model, scale to MLOps architecture, connect back to laptop for live tcpdump testing.\n",
    "\n",
    "PLAN:\n",
    "1. Create Logistic Regression Model with Training & Testing Data / Gather Insights\n",
    "2. Move Project to MLOps environment\n",
    "3. Ingestion of data should be capable in pcap formatt\n",
    "4. Deploy and test model with laptop "
   ]
  }
 ],
 "metadata": {
  "language_info": {
   "name": "python"
  }
 },
 "nbformat": 4,
 "nbformat_minor": 5
}

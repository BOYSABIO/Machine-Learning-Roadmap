{
 "cells": [
  {
   "cell_type": "markdown",
   "id": "4af7cfb3",
   "metadata": {},
   "source": [
    "# Practice Scenario: Logistic Regression  \n",
    "\n",
    "*You're working as a data analyst for an e-commerce company. Your goal is to help the marketing team identify which website visitors are most likely to make a purchase, based on their behavior and profile.*\n",
    "\n",
    "---\n",
    "\n",
    "You will need a dataset with features like: Age, Gender, time-on-site, pages-viewed, traffic-source (google, facebook, direct), location, device-type. With a target: PURCHASED (1 or 0)"
   ]
  },
  {
   "cell_type": "code",
   "execution_count": 1,
   "id": "03580c28",
   "metadata": {},
   "outputs": [],
   "source": [
    "import pandas as pd"
   ]
  }
 ],
 "metadata": {
  "kernelspec": {
   "display_name": "base",
   "language": "python",
   "name": "python3"
  },
  "language_info": {
   "codemirror_mode": {
    "name": "ipython",
    "version": 3
   },
   "file_extension": ".py",
   "mimetype": "text/x-python",
   "name": "python",
   "nbconvert_exporter": "python",
   "pygments_lexer": "ipython3",
   "version": "3.12.7"
  }
 },
 "nbformat": 4,
 "nbformat_minor": 5
}

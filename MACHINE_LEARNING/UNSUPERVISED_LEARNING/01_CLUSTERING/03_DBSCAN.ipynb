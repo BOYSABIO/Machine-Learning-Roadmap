{
 "cells": [
  {
   "cell_type": "markdown",
   "metadata": {},
   "source": [
    "# DBSCAN  \n"
   ]
  },
  {
   "cell_type": "markdown",
   "metadata": {},
   "source": [
    "It is by far the most popular density-based clustering algorithm with plenty of citations on Google Scholar.\n",
    "It uses two important hyperparameters:\n",
    "- Epsilon (ε): It is the maximum distance between two points to be considered as part of the same\n",
    "neighborhood or dense region.\n",
    "- minPoints: It is the minimum number of points necessary to form a dense cluster (including the\n",
    "central point).\n",
    "The central idea is to divide the observations into 3 groups of points:\n",
    "1. Core points: There are more than minPoints points in the ε-neighborhood.\n",
    "2. Boundary points: Fewer than minPoints within ε but close to a core point.\n",
    "3. Noise or Outlier points: All remaining points: Not a core point, and not close enough to be reachable\n",
    "from a core point.  \n",
    "  \n",
    "The algorithm is particularly valid since it can determine arbitrarily or complex shaped clusters. It is also less sensitivity to outliers than others and can be used for their detection. Also, it works effectively with any size of datasets.  \n",
    "  \n",
    "On the other hand, it does not scale well for a high-dimensional dataset, it shows some Problems in finding clusters of different densities and it works only with metric variables. It is widely used in anomaly detection, spatial analysis, scientific literature, and others.\n",
    "\n",
    "---"
   ]
  },
  {
   "cell_type": "markdown",
   "metadata": {},
   "source": [
    "You’re analyzing GPS data from vehicles moving in a city and want to group vehicles into areas of high activity (clusters) while ignoring sparsely active areas (noise)."
   ]
  },
  {
   "cell_type": "code",
   "execution_count": 28,
   "metadata": {},
   "outputs": [
    {
     "data": {
      "image/png": "[encoded data removed]",
      "text/plain": [
       "<Figure size 640x480 with 1 Axes>"
      ]
     },
     "metadata": {},
     "output_type": "display_data"
    }
   ],
   "source": [
    "from sklearn.neighbors import NearestNeighbors\n",
    "import numpy as np\n",
    "import pandas as pd\n",
    "import matplotlib.pyplot as plt\n",
    "\n",
    "# K-Distance Plot to find EPS\n",
    "data = pd.DataFrame({\n",
    "    \"X\": [1, 2, 2, 8, 8, 25, 26, 25, 24, 50, 49],\n",
    "    \"Y\": [1, 2, 3, 8, 7, 25, 24, 26, 24, 50, 49]\n",
    "})\n",
    "\n",
    "# Compute the distances to the 3rd nearest neighbor (min_samples = 3)\n",
    "neighbors = NearestNeighbors(n_neighbors=3)  # min_samples=3\n",
    "neighbors_fit = neighbors.fit(data)\n",
    "distances, indices = neighbors_fit.kneighbors(data)\n",
    "\n",
    "# Sort the distances and plot\n",
    "distances = np.sort(distances[:, 2])  # 2 because min_samples=3-1 (3rd nearest neighbor)\n",
    "plt.plot(distances)\n",
    "plt.title(\"k-Distance Plot\")\n",
    "plt.xlabel(\"Data Points (sorted)\")\n",
    "plt.ylabel(\"Distance to 3rd Nearest Neighbor\")\n",
    "plt.grid(True)\n",
    "plt.show()"
   ]
  },
  {
   "cell_type": "code",
   "execution_count": 29,
   "metadata": {},
   "outputs": [
    {
     "name": "stdout",
     "output_type": "stream",
     "text": [
      "Recommended eps (elbow): 2.23606797749979\n"
     ]
    }
   ],
   "source": [
    "# Optional to find exact EPS\n",
    "from kneed import KneeLocator\n",
    "\n",
    "# Compute distances to the 3rd nearest neighbor\n",
    "neighbors = NearestNeighbors(n_neighbors=3)\n",
    "neighbors_fit = neighbors.fit(data)\n",
    "distances, indices = neighbors_fit.kneighbors(data)\n",
    "distances = np.sort(distances[:, 2])  # 3rd nearest neighbor\n",
    "\n",
    "# Find the elbow point\n",
    "knee = KneeLocator(range(len(distances)), distances, curve=\"convex\", direction=\"increasing\")\n",
    "print(f\"Recommended eps (elbow): {distances[knee.knee]}\")"
   ]
  },
  {
   "cell_type": "code",
   "execution_count": 30,
   "metadata": {},
   "outputs": [
    {
     "data": {
      "text/html": [
       "<div>\n",
       "<style scoped>\n",
       "    .dataframe tbody tr th:only-of-type {\n",
       "        vertical-align: middle;\n",
       "    }\n",
       "\n",
       "    .dataframe tbody tr th {\n",
       "        vertical-align: top;\n",
       "    }\n",
       "\n",
       "    .dataframe thead th {\n",
       "        text-align: right;\n",
       "    }\n",
       "</style>\n",
       "<table border=\"1\" class=\"dataframe\">\n",
       "  <thead>\n",
       "    <tr style=\"text-align: right;\">\n",
       "      <th></th>\n",
       "      <th>X</th>\n",
       "      <th>Y</th>\n",
       "    </tr>\n",
       "  </thead>\n",
       "  <tbody>\n",
       "    <tr>\n",
       "      <th>0</th>\n",
       "      <td>1</td>\n",
       "      <td>1</td>\n",
       "    </tr>\n",
       "    <tr>\n",
       "      <th>1</th>\n",
       "      <td>2</td>\n",
       "      <td>2</td>\n",
       "    </tr>\n",
       "    <tr>\n",
       "      <th>2</th>\n",
       "      <td>2</td>\n",
       "      <td>3</td>\n",
       "    </tr>\n",
       "    <tr>\n",
       "      <th>3</th>\n",
       "      <td>8</td>\n",
       "      <td>8</td>\n",
       "    </tr>\n",
       "    <tr>\n",
       "      <th>4</th>\n",
       "      <td>8</td>\n",
       "      <td>7</td>\n",
       "    </tr>\n",
       "  </tbody>\n",
       "</table>\n",
       "</div>"
      ],
      "text/plain": [
       "   X  Y\n",
       "0  1  1\n",
       "1  2  2\n",
       "2  2  3\n",
       "3  8  8\n",
       "4  8  7"
      ]
     },
     "execution_count": 30,
     "metadata": {},
     "output_type": "execute_result"
    }
   ],
   "source": [
    "import pandas as pd\n",
    "import matplotlib.pyplot as plt\n",
    "from sklearn.cluster import DBSCAN\n",
    "\n",
    "# Load the dataset\n",
    "data = pd.DataFrame({\n",
    "    \"X\": [1, 2, 2, 8, 8, 25, 26, 25, 24, 50, 49],\n",
    "    \"Y\": [1, 2, 3, 8, 7, 25, 24, 26, 24, 50, 49]\n",
    "})\n",
    "\n",
    "data.head()"
   ]
  },
  {
   "cell_type": "code",
   "execution_count": 31,
   "metadata": {},
   "outputs": [
    {
     "data": {
      "image/png": "[encoded data removed]",
      "text/plain": [
       "<Figure size 640x480 with 1 Axes>"
      ]
     },
     "metadata": {},
     "output_type": "display_data"
    }
   ],
   "source": [
    "# Visualize the data\n",
    "plt.scatter(data['X'], data['Y'], label = 'Points', s = 50)\n",
    "plt.xlabel('X')\n",
    "plt.ylabel('Y')\n",
    "plt.title('GPS Data')\n",
    "plt.legend()\n",
    "plt.show()"
   ]
  },
  {
   "cell_type": "code",
   "execution_count": 37,
   "metadata": {},
   "outputs": [
    {
     "data": {
      "text/html": [
       "<div>\n",
       "<style scoped>\n",
       "    .dataframe tbody tr th:only-of-type {\n",
       "        vertical-align: middle;\n",
       "    }\n",
       "\n",
       "    .dataframe tbody tr th {\n",
       "        vertical-align: top;\n",
       "    }\n",
       "\n",
       "    .dataframe thead th {\n",
       "        text-align: right;\n",
       "    }\n",
       "</style>\n",
       "<table border=\"1\" class=\"dataframe\">\n",
       "  <thead>\n",
       "    <tr style=\"text-align: right;\">\n",
       "      <th></th>\n",
       "      <th>X</th>\n",
       "      <th>Y</th>\n",
       "      <th>Cluster</th>\n",
       "    </tr>\n",
       "  </thead>\n",
       "  <tbody>\n",
       "    <tr>\n",
       "      <th>0</th>\n",
       "      <td>1</td>\n",
       "      <td>1</td>\n",
       "      <td>0</td>\n",
       "    </tr>\n",
       "    <tr>\n",
       "      <th>1</th>\n",
       "      <td>2</td>\n",
       "      <td>2</td>\n",
       "      <td>0</td>\n",
       "    </tr>\n",
       "    <tr>\n",
       "      <th>2</th>\n",
       "      <td>2</td>\n",
       "      <td>3</td>\n",
       "      <td>0</td>\n",
       "    </tr>\n",
       "    <tr>\n",
       "      <th>3</th>\n",
       "      <td>8</td>\n",
       "      <td>8</td>\n",
       "      <td>-1</td>\n",
       "    </tr>\n",
       "    <tr>\n",
       "      <th>4</th>\n",
       "      <td>8</td>\n",
       "      <td>7</td>\n",
       "      <td>-1</td>\n",
       "    </tr>\n",
       "  </tbody>\n",
       "</table>\n",
       "</div>"
      ],
      "text/plain": [
       "   X  Y  Cluster\n",
       "0  1  1        0\n",
       "1  2  2        0\n",
       "2  2  3        0\n",
       "3  8  8       -1\n",
       "4  8  7       -1"
      ]
     },
     "execution_count": 37,
     "metadata": {},
     "output_type": "execute_result"
    }
   ],
   "source": [
    "# Apply DBSCAN\n",
    "dbscan = DBSCAN(eps = 2, min_samples = 3)\n",
    "data['Cluster'] = dbscan.fit_predict(data)\n",
    "data.head()"
   ]
  },
  {
   "cell_type": "markdown",
   "metadata": {},
   "source": [
    "The process begins by randomly selecting a point that hasn't been assigned to a cluster yet. The algorithm then determines whether it is a core point or an outlier. When a core point is found, all the points that are density-reachable from it are added to the cluster.\n",
    "\n",
    "Next, the algorithm performs neighbour jumps to each directly reachable point and adds them to the cluster. If an outlier is added, it will be labelled as a boundary point. \n",
    "\n",
    "The algorithm then selects another core point and repeats the previous steps until all points are either assigned to a cluster or labelled as outliers.\n",
    "\n",
    "---"
   ]
  },
  {
   "cell_type": "code",
   "execution_count": 38,
   "metadata": {},
   "outputs": [
    {
     "data": {
      "text/plain": [
       "(     X   Y  Cluster\n",
       " 3    8   8       -1\n",
       " 4    8   7       -1\n",
       " 9   50  50       -1\n",
       " 10  49  49       -1,\n",
       "     X   Y  Cluster\n",
       " 0   1   1        0\n",
       " 1   2   2        0\n",
       " 2   2   3        0\n",
       " 5  25  25        1\n",
       " 6  26  24        1\n",
       " 7  25  26        1\n",
       " 8  24  24        1)"
      ]
     },
     "execution_count": 38,
     "metadata": {},
     "output_type": "execute_result"
    }
   ],
   "source": [
    "# Identify what is considered noise (-1)\n",
    "noise = data[data['Cluster'] == -1]\n",
    "clusters = data[data['Cluster'] != -1]\n",
    "\n",
    "noise, clusters"
   ]
  },
  {
   "cell_type": "code",
   "execution_count": 43,
   "metadata": {},
   "outputs": [
    {
     "data": {
      "image/png": "[encoded data removed]",
      "text/plain": [
       "<Figure size 640x480 with 1 Axes>"
      ]
     },
     "metadata": {},
     "output_type": "display_data"
    }
   ],
   "source": [
    "# Visualize the clusters\n",
    "for cluster in data['Cluster'].unique():\n",
    "    cluster_data = data[data['Cluster'] == cluster]\n",
    "    label = 'Noise' if cluster == -1 else f'Cluster {cluster}'\n",
    "    marker = 'x' if cluster == -1 else 'o'\n",
    "    c = 'red' if cluster == -1 else None\n",
    "    plt.scatter(cluster_data['X'], cluster_data['Y'], label = label, s = 50, marker = marker, c = c)\n",
    "\n",
    "plt.xlabel('X')\n",
    "plt.ylabel('Y')\n",
    "plt.title('GPS DBSCAN')\n",
    "plt.legend()\n",
    "plt.show()"
   ]
  },
  {
   "cell_type": "markdown",
   "metadata": {},
   "source": [
    "# Metrics"
   ]
  },
  {
   "cell_type": "markdown",
   "metadata": {},
   "source": [
    "Range:  \n",
    "-1: Poor clustering (points assigned to wrong clusters).  \n",
    "0: Overlapping clusters.  \n",
    "1: Perfect clustering.  "
   ]
  },
  {
   "cell_type": "code",
   "execution_count": 44,
   "metadata": {},
   "outputs": [
    {
     "name": "stdout",
     "output_type": "stream",
     "text": [
      "Silhouette Score: 0.9495190426629782\n",
      "Good\n"
     ]
    }
   ],
   "source": [
    "# Silhouette Score\n",
    "from sklearn.metrics import silhouette_score\n",
    "\n",
    "# Compute Silhouette Score (ignore noise points: Cluster = -1)\n",
    "filtered_data = data[data['Cluster'] != -1]\n",
    "score = silhouette_score(\n",
    "    filtered_data[[\"X\", \"Y\"]],\n",
    "    filtered_data[\"Cluster\"]\n",
    ")\n",
    "print(f\"Silhouette Score: {score}\")\n",
    "print('Good' if score > 0 and score <= 1 else 'Bad') "
   ]
  },
  {
   "cell_type": "markdown",
   "metadata": {},
   "source": [
    "Generally, the higher the value, the better the solution. You can determine if it's good or not by eye"
   ]
  },
  {
   "cell_type": "code",
   "execution_count": 45,
   "metadata": {},
   "outputs": [
    {
     "name": "stdout",
     "output_type": "stream",
     "text": [
      "Calinski-Harabasz Index: 1227.359550561798\n"
     ]
    }
   ],
   "source": [
    "from sklearn.metrics import calinski_harabasz_score\n",
    "\n",
    "# Compute Calinski-Harabasz Index (ignore noise points: Cluster = -1)\n",
    "filtered_data = data[data['Cluster'] != -1]\n",
    "score = calinski_harabasz_score(\n",
    "    filtered_data[[\"X\", \"Y\"]],\n",
    "    filtered_data[\"Cluster\"]\n",
    ")\n",
    "print(f\"Calinski-Harabasz Index: {score}\")"
   ]
  }
 ],
 "metadata": {
  "kernelspec": {
   "display_name": "Python 3",
   "language": "python",
   "name": "python3"
  },
  "language_info": {
   "codemirror_mode": {
    "name": "ipython",
    "version": 3
   },
   "file_extension": ".py",
   "mimetype": "text/x-python",
   "name": "python",
   "nbconvert_exporter": "python",
   "pygments_lexer": "ipython3",
   "version": "3.8.2"
  }
 },
 "nbformat": 4,
 "nbformat_minor": 2
}

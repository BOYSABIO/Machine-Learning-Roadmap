{
 "cells": [
  {
   "cell_type": "code",
   "execution_count": null,
   "metadata": {},
   "outputs": [],
   "source": [
    "from google.colab import userdata\n",
    "\n",
    "\n",
    "\n",
    "GROQ_KEY = userdata.get('GROQ_KEY')\n",
    "\n",
    "\n",
    "\n",
    "from openai import OpenAI\n",
    "\n",
    "\n",
    "\n",
    "# establish a GROQ client connection\n",
    "\n",
    "client = OpenAI(api_key = GROQ_KEY, base_url=\"https://api.groq.com/openai/v1\")\n",
    "\n",
    "\n",
    "\n",
    "response = get_response(prompt, model =\"llama3-70b-8192\")"
   ]
  }
 ],
 "metadata": {
  "language_info": {
   "name": "python"
  }
 },
 "nbformat": 4,
 "nbformat_minor": 2
}

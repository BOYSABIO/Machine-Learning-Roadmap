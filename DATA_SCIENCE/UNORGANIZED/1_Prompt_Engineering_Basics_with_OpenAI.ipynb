{
  "nbformat": 4,
  "nbformat_minor": 0,
  "metadata": {
    "colab": {
      "provenance": []
    },
    "kernelspec": {
      "name": "python3",
      "display_name": "Python 3"
    },
    "language_info": {
      "name": "python"
    }
  },
  "cells": [
    {
      "cell_type": "markdown",
      "source": [
        "# Prompt Engineering Basics with OpenAI\n",
        "\n",
        "Federico Castanedo\n",
        "fcastanedo@faculty.ie.edu"
      ],
      "metadata": {
        "id": "5mS0Pk2PuSZ3"
      }
    },
    {
      "cell_type": "code",
      "source": [
        "# Line Wrapping\n",
        "from IPython.display import HTML, display\n",
        "\n",
        "def set_css():\n",
        "  display(HTML('''\n",
        "  <style>\n",
        "    pre {\n",
        "        white-space: pre-wrap;\n",
        "    }\n",
        "  </style>\n",
        "  '''))\n",
        "get_ipython().events.register('pre_run_cell', set_css)"
      ],
      "metadata": {
        "id": "IkNCND3ULQYD",
        "colab": {
          "base_uri": "https://localhost:8080/",
          "height": 17
        },
        "outputId": "2d26ae0e-edd1-4022-8652-428dd7d590cc"
      },
      "execution_count": null,
      "outputs": [
        {
          "output_type": "display_data",
          "data": {
            "text/plain": [
              "<IPython.core.display.HTML object>"
            ],
            "text/html": [
              "\n",
              "  <style>\n",
              "    pre {\n",
              "        white-space: pre-wrap;\n",
              "    }\n",
              "  </style>\n",
              "  "
            ]
          },
          "metadata": {}
        },
        {
          "output_type": "display_data",
          "data": {
            "text/plain": [
              "<IPython.core.display.HTML object>"
            ],
            "text/html": [
              "\n",
              "  <style>\n",
              "    pre {\n",
              "        white-space: pre-wrap;\n",
              "    }\n",
              "  </style>\n",
              "  "
            ]
          },
          "metadata": {}
        }
      ]
    },
    {
      "cell_type": "code",
      "source": [
        "!pip install openai"
      ],
      "metadata": {
        "id": "efDy4imPtamS",
        "colab": {
          "base_uri": "https://localhost:8080/",
          "height": 564
        },
        "outputId": "8c182d7b-c97f-488d-ad37-f9e28b2b4e7e"
      },
      "execution_count": null,
      "outputs": [
        {
          "output_type": "display_data",
          "data": {
            "text/plain": [
              "<IPython.core.display.HTML object>"
            ],
            "text/html": [
              "\n",
              "  <style>\n",
              "    pre {\n",
              "        white-space: pre-wrap;\n",
              "    }\n",
              "  </style>\n",
              "  "
            ]
          },
          "metadata": {}
        },
        {
          "output_type": "display_data",
          "data": {
            "text/plain": [
              "<IPython.core.display.HTML object>"
            ],
            "text/html": [
              "\n",
              "  <style>\n",
              "    pre {\n",
              "        white-space: pre-wrap;\n",
              "    }\n",
              "  </style>\n",
              "  "
            ]
          },
          "metadata": {}
        },
        {
          "output_type": "display_data",
          "data": {
            "text/plain": [
              "<IPython.core.display.HTML object>"
            ],
            "text/html": [
              "\n",
              "  <style>\n",
              "    pre {\n",
              "        white-space: pre-wrap;\n",
              "    }\n",
              "  </style>\n",
              "  "
            ]
          },
          "metadata": {}
        },
        {
          "output_type": "stream",
          "name": "stdout",
          "text": [
            "Requirement already satisfied: openai in /usr/local/lib/python3.10/dist-packages (1.54.4)\n",
            "Requirement already satisfied: anyio<5,>=3.5.0 in /usr/local/lib/python3.10/dist-packages (from openai) (3.7.1)\n",
            "Requirement already satisfied: distro<2,>=1.7.0 in /usr/local/lib/python3.10/dist-packages (from openai) (1.9.0)\n",
            "Requirement already satisfied: httpx<1,>=0.23.0 in /usr/local/lib/python3.10/dist-packages (from openai) (0.27.2)\n",
            "Requirement already satisfied: jiter<1,>=0.4.0 in /usr/local/lib/python3.10/dist-packages (from openai) (0.7.1)\n",
            "Requirement already satisfied: pydantic<3,>=1.9.0 in /usr/local/lib/python3.10/dist-packages (from openai) (2.9.2)\n",
            "Requirement already satisfied: sniffio in /usr/local/lib/python3.10/dist-packages (from openai) (1.3.1)\n",
            "Requirement already satisfied: tqdm>4 in /usr/local/lib/python3.10/dist-packages (from openai) (4.66.6)\n",
            "Requirement already satisfied: typing-extensions<5,>=4.11 in /usr/local/lib/python3.10/dist-packages (from openai) (4.12.2)\n",
            "Requirement already satisfied: idna>=2.8 in /usr/local/lib/python3.10/dist-packages (from anyio<5,>=3.5.0->openai) (3.10)\n",
            "Requirement already satisfied: exceptiongroup in /usr/local/lib/python3.10/dist-packages (from anyio<5,>=3.5.0->openai) (1.2.2)\n",
            "Requirement already satisfied: certifi in /usr/local/lib/python3.10/dist-packages (from httpx<1,>=0.23.0->openai) (2024.8.30)\n",
            "Requirement already satisfied: httpcore==1.* in /usr/local/lib/python3.10/dist-packages (from httpx<1,>=0.23.0->openai) (1.0.7)\n",
            "Requirement already satisfied: h11<0.15,>=0.13 in /usr/local/lib/python3.10/dist-packages (from httpcore==1.*->httpx<1,>=0.23.0->openai) (0.14.0)\n",
            "Requirement already satisfied: annotated-types>=0.6.0 in /usr/local/lib/python3.10/dist-packages (from pydantic<3,>=1.9.0->openai) (0.7.0)\n",
            "Requirement already satisfied: pydantic-core==2.23.4 in /usr/local/lib/python3.10/dist-packages (from pydantic<3,>=1.9.0->openai) (2.23.4)\n"
          ]
        }
      ]
    },
    {
      "cell_type": "code",
      "execution_count": null,
      "metadata": {
        "id": "AIZsUd_PtSQ9",
        "colab": {
          "base_uri": "https://localhost:8080/",
          "height": 17
        },
        "outputId": "c086046f-d7cc-4ef7-f5d6-88eabc984de6"
      },
      "outputs": [
        {
          "output_type": "display_data",
          "data": {
            "text/plain": [
              "<IPython.core.display.HTML object>"
            ],
            "text/html": [
              "\n",
              "  <style>\n",
              "    pre {\n",
              "        white-space: pre-wrap;\n",
              "    }\n",
              "  </style>\n",
              "  "
            ]
          },
          "metadata": {}
        },
        {
          "output_type": "display_data",
          "data": {
            "text/plain": [
              "<IPython.core.display.HTML object>"
            ],
            "text/html": [
              "\n",
              "  <style>\n",
              "    pre {\n",
              "        white-space: pre-wrap;\n",
              "    }\n",
              "  </style>\n",
              "  "
            ]
          },
          "metadata": {}
        },
        {
          "output_type": "display_data",
          "data": {
            "text/plain": [
              "<IPython.core.display.HTML object>"
            ],
            "text/html": [
              "\n",
              "  <style>\n",
              "    pre {\n",
              "        white-space: pre-wrap;\n",
              "    }\n",
              "  </style>\n",
              "  "
            ]
          },
          "metadata": {}
        }
      ],
      "source": [
        "from google.colab import userdata\n",
        "\n",
        "OPENAI_API_KEY = userdata.get('OPENAI_API_KEY')\n",
        "\n",
        "from openai import OpenAI\n",
        "\n",
        "client = OpenAI(api_key = OPENAI_API_KEY)"
      ]
    },
    {
      "cell_type": "code",
      "source": [
        "from google.colab import userdata\n",
        "\n",
        "GROQ_KEY = userdata.get('GROQ_KEY')\n",
        "\n",
        "from openai import OpenAI\n",
        "\n",
        "# establish a GROQ client connection\n",
        "client = OpenAI(api_key = GROQ_KEY, base_url=\"https://api.groq.com/openai/v1\")"
      ],
      "metadata": {
        "colab": {
          "base_uri": "https://localhost:8080/",
          "height": 17
        },
        "id": "E0BTaH2UYuzT",
        "outputId": "e54ba5bb-1c0e-4481-e0be-b1e24df120e5"
      },
      "execution_count": null,
      "outputs": [
        {
          "output_type": "display_data",
          "data": {
            "text/plain": [
              "<IPython.core.display.HTML object>"
            ],
            "text/html": [
              "\n",
              "  <style>\n",
              "    pre {\n",
              "        white-space: pre-wrap;\n",
              "    }\n",
              "  </style>\n",
              "  "
            ]
          },
          "metadata": {}
        },
        {
          "output_type": "display_data",
          "data": {
            "text/plain": [
              "<IPython.core.display.HTML object>"
            ],
            "text/html": [
              "\n",
              "  <style>\n",
              "    pre {\n",
              "        white-space: pre-wrap;\n",
              "    }\n",
              "  </style>\n",
              "  "
            ]
          },
          "metadata": {}
        },
        {
          "output_type": "display_data",
          "data": {
            "text/plain": [
              "<IPython.core.display.HTML object>"
            ],
            "text/html": [
              "\n",
              "  <style>\n",
              "    pre {\n",
              "        white-space: pre-wrap;\n",
              "    }\n",
              "  </style>\n",
              "  "
            ]
          },
          "metadata": {}
        }
      ]
    },
    {
      "cell_type": "code",
      "source": [
        "response = get_response(prompt, model =\"llama3-70b-8192\")\n"
      ],
      "metadata": {
        "id": "e3mCBPDDY1-p"
      },
      "execution_count": null,
      "outputs": []
    },
    {
      "cell_type": "code",
      "source": [
        "client"
      ],
      "metadata": {
        "colab": {
          "base_uri": "https://localhost:8080/",
          "height": 35
        },
        "id": "Vgvmugrpv2i8",
        "outputId": "51f94ba9-65f2-42e9-b142-e3ae5c75a505"
      },
      "execution_count": null,
      "outputs": [
        {
          "output_type": "display_data",
          "data": {
            "text/plain": [
              "<IPython.core.display.HTML object>"
            ],
            "text/html": [
              "\n",
              "  <style>\n",
              "    pre {\n",
              "        white-space: pre-wrap;\n",
              "    }\n",
              "  </style>\n",
              "  "
            ]
          },
          "metadata": {}
        },
        {
          "output_type": "display_data",
          "data": {
            "text/plain": [
              "<IPython.core.display.HTML object>"
            ],
            "text/html": [
              "\n",
              "  <style>\n",
              "    pre {\n",
              "        white-space: pre-wrap;\n",
              "    }\n",
              "  </style>\n",
              "  "
            ]
          },
          "metadata": {}
        },
        {
          "output_type": "display_data",
          "data": {
            "text/plain": [
              "<IPython.core.display.HTML object>"
            ],
            "text/html": [
              "\n",
              "  <style>\n",
              "    pre {\n",
              "        white-space: pre-wrap;\n",
              "    }\n",
              "  </style>\n",
              "  "
            ]
          },
          "metadata": {}
        },
        {
          "output_type": "execute_result",
          "data": {
            "text/plain": [
              "<openai.OpenAI at 0x7c4d0d0e76a0>"
            ]
          },
          "metadata": {},
          "execution_count": 80
        }
      ]
    },
    {
      "cell_type": "markdown",
      "source": [],
      "metadata": {
        "id": "C7t5sGXyxwXa"
      }
    },
    {
      "cell_type": "code",
      "source": [
        "def get_response(prompt, temperature = 0, model = \"gpt-3.5-turbo\", max_tokens = 512):\n",
        "  # Create a request to the chat completions endpoint\n",
        "  response = client.chat.completions.create(\n",
        "    model = model,\n",
        "    temperature = temperature,\n",
        "    max_tokens = max_tokens,\n",
        "    # Assign the role and content for the message\n",
        "    messages=[{\"role\": \"user\", \"content\": prompt}],\n",
        "    )\n",
        "  return response.choices[0].message.content"
      ],
      "metadata": {
        "colab": {
          "base_uri": "https://localhost:8080/",
          "height": 17
        },
        "id": "mUroc6BPGgUD",
        "outputId": "eaa3045e-c998-4707-a9ec-05e0d5fe93fc"
      },
      "execution_count": null,
      "outputs": [
        {
          "output_type": "display_data",
          "data": {
            "text/plain": [
              "<IPython.core.display.HTML object>"
            ],
            "text/html": [
              "\n",
              "  <style>\n",
              "    pre {\n",
              "        white-space: pre-wrap;\n",
              "    }\n",
              "  </style>\n",
              "  "
            ]
          },
          "metadata": {}
        },
        {
          "output_type": "display_data",
          "data": {
            "text/plain": [
              "<IPython.core.display.HTML object>"
            ],
            "text/html": [
              "\n",
              "  <style>\n",
              "    pre {\n",
              "        white-space: pre-wrap;\n",
              "    }\n",
              "  </style>\n",
              "  "
            ]
          },
          "metadata": {}
        },
        {
          "output_type": "display_data",
          "data": {
            "text/plain": [
              "<IPython.core.display.HTML object>"
            ],
            "text/html": [
              "\n",
              "  <style>\n",
              "    pre {\n",
              "        white-space: pre-wrap;\n",
              "    }\n",
              "  </style>\n",
              "  "
            ]
          },
          "metadata": {}
        }
      ]
    },
    {
      "cell_type": "markdown",
      "source": [
        "# Test"
      ],
      "metadata": {
        "id": "F50FPkydCpV1"
      }
    },
    {
      "cell_type": "code",
      "source": [
        "# Test the function with your prompt\n",
        "prompt = \"What I can do for learning Deep Learning?. Answer in 50 words\"\n",
        "response = get_response(prompt)\n",
        "print(response)"
      ],
      "metadata": {
        "id": "TIw1A5dtteUb",
        "colab": {
          "base_uri": "https://localhost:8080/",
          "height": 88
        },
        "outputId": "69eaf9b7-d45b-415b-eab0-e876c930361e"
      },
      "execution_count": null,
      "outputs": [
        {
          "output_type": "display_data",
          "data": {
            "text/plain": [
              "<IPython.core.display.HTML object>"
            ],
            "text/html": [
              "\n",
              "  <style>\n",
              "    pre {\n",
              "        white-space: pre-wrap;\n",
              "    }\n",
              "  </style>\n",
              "  "
            ]
          },
          "metadata": {}
        },
        {
          "output_type": "display_data",
          "data": {
            "text/plain": [
              "<IPython.core.display.HTML object>"
            ],
            "text/html": [
              "\n",
              "  <style>\n",
              "    pre {\n",
              "        white-space: pre-wrap;\n",
              "    }\n",
              "  </style>\n",
              "  "
            ]
          },
          "metadata": {}
        },
        {
          "output_type": "display_data",
          "data": {
            "text/plain": [
              "<IPython.core.display.HTML object>"
            ],
            "text/html": [
              "\n",
              "  <style>\n",
              "    pre {\n",
              "        white-space: pre-wrap;\n",
              "    }\n",
              "  </style>\n",
              "  "
            ]
          },
          "metadata": {}
        },
        {
          "output_type": "stream",
          "name": "stdout",
          "text": [
            "To learn Deep Learning, you can start by taking online courses or tutorials on platforms like Coursera, Udemy, or edX. You can also read books on the subject, join online communities or forums to discuss and learn from others, and practice by working on projects or participating in Kaggle competitions.\n"
          ]
        }
      ]
    },
    {
      "cell_type": "code",
      "source": [
        "prompt = \"What I can do in Barcelona. Respond in HTML format\"\n",
        "response = get_response(prompt)\n",
        "print(response)"
      ],
      "metadata": {
        "colab": {
          "base_uri": "https://localhost:8080/",
          "height": 211
        },
        "id": "JGkAqN-Tb52S",
        "outputId": "d7c8c1ea-5e45-4db6-c3f6-a12a5db10c6a"
      },
      "execution_count": null,
      "outputs": [
        {
          "output_type": "display_data",
          "data": {
            "text/plain": [
              "<IPython.core.display.HTML object>"
            ],
            "text/html": [
              "\n",
              "  <style>\n",
              "    pre {\n",
              "        white-space: pre-wrap;\n",
              "    }\n",
              "  </style>\n",
              "  "
            ]
          },
          "metadata": {}
        },
        {
          "output_type": "display_data",
          "data": {
            "text/plain": [
              "<IPython.core.display.HTML object>"
            ],
            "text/html": [
              "\n",
              "  <style>\n",
              "    pre {\n",
              "        white-space: pre-wrap;\n",
              "    }\n",
              "  </style>\n",
              "  "
            ]
          },
          "metadata": {}
        },
        {
          "output_type": "display_data",
          "data": {
            "text/plain": [
              "<IPython.core.display.HTML object>"
            ],
            "text/html": [
              "\n",
              "  <style>\n",
              "    pre {\n",
              "        white-space: pre-wrap;\n",
              "    }\n",
              "  </style>\n",
              "  "
            ]
          },
          "metadata": {}
        },
        {
          "output_type": "stream",
          "name": "stdout",
          "text": [
            "<h2>Things to do in Barcelona</h2>\n",
            "<ul>\n",
            "  <li>Visit the famous Sagrada Familia</li>\n",
            "  <li>Stroll down Las Ramblas and explore the Gothic Quarter</li>\n",
            "  <li>Relax on the beaches of Barceloneta</li>\n",
            "  <li>Explore the Park Guell and enjoy the views of the city</li>\n",
            "  <li>Visit the Picasso Museum and other art galleries</li>\n",
            "  <li>Try delicious tapas and paella at local restaurants</li>\n",
            "  <li>Watch a flamenco show for a taste of Spanish culture</li>\n",
            "  <li>Take a day trip to Montserrat or Sitges for a change of scenery</li>\n",
            "</ul>\n"
          ]
        }
      ]
    },
    {
      "cell_type": "code",
      "source": [
        "# Now try with a higher temperature\n",
        "response = get_response(prompt, temperature = 1)\n",
        "print(response)"
      ],
      "metadata": {
        "colab": {
          "base_uri": "https://localhost:8080/",
          "height": 388
        },
        "id": "WCVThrovAfYF",
        "outputId": "209e6482-0fed-4d72-ac1b-8fc76084d5ee",
        "collapsed": true
      },
      "execution_count": null,
      "outputs": [
        {
          "output_type": "display_data",
          "data": {
            "text/plain": [
              "<IPython.core.display.HTML object>"
            ],
            "text/html": [
              "\n",
              "  <style>\n",
              "    pre {\n",
              "        white-space: pre-wrap;\n",
              "    }\n",
              "  </style>\n",
              "  "
            ]
          },
          "metadata": {}
        },
        {
          "output_type": "display_data",
          "data": {
            "text/plain": [
              "<IPython.core.display.HTML object>"
            ],
            "text/html": [
              "\n",
              "  <style>\n",
              "    pre {\n",
              "        white-space: pre-wrap;\n",
              "    }\n",
              "  </style>\n",
              "  "
            ]
          },
          "metadata": {}
        },
        {
          "output_type": "display_data",
          "data": {
            "text/plain": [
              "<IPython.core.display.HTML object>"
            ],
            "text/html": [
              "\n",
              "  <style>\n",
              "    pre {\n",
              "        white-space: pre-wrap;\n",
              "    }\n",
              "  </style>\n",
              "  "
            ]
          },
          "metadata": {}
        },
        {
          "output_type": "stream",
          "name": "stdout",
          "text": [
            "<!DOCTYPE html>\n",
            "<html>\n",
            "<head>\n",
            "  <title>Things to do in Barcelona</title>\n",
            "</head>\n",
            "<body>\n",
            "  <h1>Things to do in Barcelona:</h1>\n",
            "  <ul>\n",
            "    <li>Visit the famous Sagrada Familia</li>\n",
            "    <li>Stroll down Las Ramblas and explore the Gothic Quarter</li>\n",
            "    <li>Relax on the beaches of Barceloneta</li>\n",
            "    <li>Enjoy delicious tapas at local restaurants</li>\n",
            "    <li>Explore Park Guell and admire the works of Antoni Gaudi</li>\n",
            "    <li>Watch a live Flamenco show</li>\n",
            "    <li>Visit the Picasso Museum</li>\n",
            "    <li>Take a cable car ride to Montjuic Castle for panoramic views of the city</li>\n",
            "    <li>Go shopping at the trendy boutiques in the El Born neighborhood</li>\n",
            "    <li>Experience the vibrant nightlife at bars and clubs in the city</li>\n",
            "  </ul>\n",
            "</body>\n",
            "</html>\n"
          ]
        }
      ]
    },
    {
      "cell_type": "markdown",
      "source": [
        "# 1.-Appropriate action verbs"
      ],
      "metadata": {
        "id": "hx-EW8hZKQwU"
      }
    },
    {
      "cell_type": "code",
      "source": [
        "prompt = \"Think about the issue of deforestation.\"\n",
        "response = get_response(prompt)\n",
        "print(response)"
      ],
      "metadata": {
        "colab": {
          "base_uri": "https://localhost:8080/",
          "height": 440
        },
        "id": "Wx0212FEKT8q",
        "outputId": "b7f6ec8d-ce74-47e0-e8a9-fa10e2d3a365"
      },
      "execution_count": null,
      "outputs": [
        {
          "output_type": "display_data",
          "data": {
            "text/plain": [
              "<IPython.core.display.HTML object>"
            ],
            "text/html": [
              "\n",
              "  <style>\n",
              "    pre {\n",
              "        white-space: pre-wrap;\n",
              "    }\n",
              "  </style>\n",
              "  "
            ]
          },
          "metadata": {}
        },
        {
          "output_type": "display_data",
          "data": {
            "text/plain": [
              "<IPython.core.display.HTML object>"
            ],
            "text/html": [
              "\n",
              "  <style>\n",
              "    pre {\n",
              "        white-space: pre-wrap;\n",
              "    }\n",
              "  </style>\n",
              "  "
            ]
          },
          "metadata": {}
        },
        {
          "output_type": "display_data",
          "data": {
            "text/plain": [
              "<IPython.core.display.HTML object>"
            ],
            "text/html": [
              "\n",
              "  <style>\n",
              "    pre {\n",
              "        white-space: pre-wrap;\n",
              "    }\n",
              "  </style>\n",
              "  "
            ]
          },
          "metadata": {}
        },
        {
          "output_type": "stream",
          "name": "stdout",
          "text": [
            "Deforestation is the clearing of trees and forests on a large scale, often for agricultural or commercial purposes. This practice has significant negative impacts on the environment, including loss of biodiversity, disruption of ecosystems, and contribution to climate change.\n",
            "\n",
            "One of the major consequences of deforestation is the loss of habitat for countless plant and animal species. When forests are cleared, many species are displaced or unable to survive in the new environment, leading to a decrease in biodiversity. This can have cascading effects on ecosystems, as different species rely on each other for food, shelter, and other resources.\n",
            "\n",
            "Deforestation also contributes to climate change by releasing carbon dioxide into the atmosphere. Trees store carbon as they grow, so when they are cut down and burned or left to decay, this carbon is released back into the air. This contributes to the greenhouse effect and global warming, leading to more extreme weather patterns and other negative impacts on the environment.\n",
            "\n",
            "In addition to these environmental concerns, deforestation can also have social and economic impacts. Indigenous communities and local populations who rely on forests for their livelihoods may be displaced or lose access to important resources. Deforestation can also lead to soil erosion, water pollution, and other environmental degradation that can harm communities and economies in the long run.\n",
            "\n",
            "To address the issue of deforestation, it is important to promote sustainable land management practices, protect and restore forests, and support initiatives that promote conservation and reforestation. By working together to address this issue, we can help protect our planet's forests and the many benefits they provide to both humans and the environment.\n"
          ]
        }
      ]
    },
    {
      "cell_type": "code",
      "source": [
        "prompt = \"Propose five strategies to reduce deforestation.\"\n",
        "response = get_response(prompt)\n",
        "print(response)"
      ],
      "metadata": {
        "id": "dLbuldpFLeKa",
        "colab": {
          "base_uri": "https://localhost:8080/",
          "height": 370
        },
        "outputId": "2cace2b6-7899-4806-df41-5292f3722665"
      },
      "execution_count": null,
      "outputs": [
        {
          "output_type": "display_data",
          "data": {
            "text/plain": [
              "<IPython.core.display.HTML object>"
            ],
            "text/html": [
              "\n",
              "  <style>\n",
              "    pre {\n",
              "        white-space: pre-wrap;\n",
              "    }\n",
              "  </style>\n",
              "  "
            ]
          },
          "metadata": {}
        },
        {
          "output_type": "display_data",
          "data": {
            "text/plain": [
              "<IPython.core.display.HTML object>"
            ],
            "text/html": [
              "\n",
              "  <style>\n",
              "    pre {\n",
              "        white-space: pre-wrap;\n",
              "    }\n",
              "  </style>\n",
              "  "
            ]
          },
          "metadata": {}
        },
        {
          "output_type": "display_data",
          "data": {
            "text/plain": [
              "<IPython.core.display.HTML object>"
            ],
            "text/html": [
              "\n",
              "  <style>\n",
              "    pre {\n",
              "        white-space: pre-wrap;\n",
              "    }\n",
              "  </style>\n",
              "  "
            ]
          },
          "metadata": {}
        },
        {
          "output_type": "stream",
          "name": "stdout",
          "text": [
            "1. Implement strict regulations and enforcement mechanisms to prevent illegal logging and land clearing. This can include increasing penalties for those caught engaging in deforestation activities and conducting regular monitoring and surveillance of forested areas.\n",
            "\n",
            "2. Promote sustainable land use practices, such as agroforestry and reforestation, to provide alternative sources of income for communities that rely on deforestation for livelihoods. This can help reduce the pressure on forests and encourage the preservation of natural habitats.\n",
            "\n",
            "3. Support and incentivize companies to adopt sustainable sourcing practices and certification programs, such as the Forest Stewardship Council (FSC) certification, which ensures that products come from responsibly managed forests. Consumers can also play a role by choosing products that are certified sustainable.\n",
            "\n",
            "4. Invest in conservation and restoration efforts, such as protected areas and wildlife corridors, to preserve biodiversity and ecosystem services. This can help maintain the health and resilience of forests and mitigate the impacts of deforestation on climate change.\n",
            "\n",
            "5. Raise awareness and educate the public about the importance of forests and the negative impacts of deforestation. This can be done through campaigns, educational programs, and community engagement initiatives to foster a sense of stewardship and responsibility towards the environment.\n"
          ]
        }
      ]
    },
    {
      "cell_type": "markdown",
      "source": [
        "# 2.-Detailed instructions and adopting a persona"
      ],
      "metadata": {
        "id": "Jkiusz5HHJqQ"
      }
    },
    {
      "cell_type": "code",
      "source": [
        "story = \"Madrid is the capital and largest city of Spain, with a vibrant nightlife\"\n",
        "#story = \"Barcelona is a city of Spain,\"\n",
        "\n",
        "# Create a request to complete the story\n",
        "#prompt = f\"\"\"Complete the story delimited by triple backticks with only two paragraphs\\\n",
        "#using the style of William Shakespeare.\n",
        "# ```{story}```\"\"\"\n",
        "\n",
        "prompt = f\"\"\"Complete the story delimited by triple backticks with only one paragraph\\\n",
        " for soccer fans.\n",
        " ```{story}```\"\"\"\n",
        "\n",
        "# Get the generated response\n",
        "response = get_response(prompt)\n",
        "\n",
        "print(\"\\n Original story: \\n\", story)\n",
        "print(\"\\n Generated story: \\n\", response)"
      ],
      "metadata": {
        "colab": {
          "base_uri": "https://localhost:8080/",
          "height": 211
        },
        "id": "QnGx9AdhyDA2",
        "outputId": "01cf3cfb-8522-47b5-ec6c-b6d020b7e597"
      },
      "execution_count": null,
      "outputs": [
        {
          "output_type": "display_data",
          "data": {
            "text/plain": [
              "<IPython.core.display.HTML object>"
            ],
            "text/html": [
              "\n",
              "  <style>\n",
              "    pre {\n",
              "        white-space: pre-wrap;\n",
              "    }\n",
              "  </style>\n",
              "  "
            ]
          },
          "metadata": {}
        },
        {
          "output_type": "display_data",
          "data": {
            "text/plain": [
              "<IPython.core.display.HTML object>"
            ],
            "text/html": [
              "\n",
              "  <style>\n",
              "    pre {\n",
              "        white-space: pre-wrap;\n",
              "    }\n",
              "  </style>\n",
              "  "
            ]
          },
          "metadata": {}
        },
        {
          "output_type": "display_data",
          "data": {
            "text/plain": [
              "<IPython.core.display.HTML object>"
            ],
            "text/html": [
              "\n",
              "  <style>\n",
              "    pre {\n",
              "        white-space: pre-wrap;\n",
              "    }\n",
              "  </style>\n",
              "  "
            ]
          },
          "metadata": {}
        },
        {
          "output_type": "stream",
          "name": "stdout",
          "text": [
            "\n",
            " Original story: \n",
            " Madrid is the capital and largest city of Spain, with a vibrant nightlife\n",
            "\n",
            " Generated story: \n",
            " and a rich history of soccer. Home to two of the most successful clubs in the world, Real Madrid and Atletico Madrid, the city is a mecca for soccer fans. The rivalry between these two teams is legendary, with matches between them drawing huge crowds and intense passion. The Santiago Bernabeu and Wanda Metropolitano stadiums are iconic landmarks in the city, where fans gather to cheer on their beloved teams. Whether you're a fan of the Galacticos or the Colchoneros, Madrid is a must-visit destination for any soccer enthusiast.\n"
          ]
        }
      ]
    },
    {
      "cell_type": "code",
      "source": [
        "story = \"Madrid, the vibrant heart of Spain, is not just a geographical entity but a living mosaic of history and modernity.\\\n",
        "As one of Europe's most dynamic capitals, it dances to the rhythm of daily life that seamlessly blends tradition with contemporary flair.\\\n",
        "Culturally rich, Madrid is a treasure trove of museums, historic sites, and theaters, with the Prado Museum holding the city's artistic crown\"\n",
        "\n",
        "#  Create a request to summarize the story\n",
        "prompt = f\"\"\"Summarize in 30 words the text delimited by triple backticks\n",
        " ```{story}```\"\"\"\n",
        "\n",
        "# Get the generated response\n",
        "response = get_response(prompt)\n",
        "\n",
        "print(\"\\n Original story: \\n\", story)\n",
        "print(\"\\n Summarized story: \\n\", response)"
      ],
      "metadata": {
        "colab": {
          "base_uri": "https://localhost:8080/",
          "height": 211
        },
        "id": "jrqBqK2dOWgx",
        "outputId": "0d2a4992-6995-444e-909d-037d50c0dc0d"
      },
      "execution_count": null,
      "outputs": [
        {
          "output_type": "display_data",
          "data": {
            "text/plain": [
              "<IPython.core.display.HTML object>"
            ],
            "text/html": [
              "\n",
              "  <style>\n",
              "    pre {\n",
              "        white-space: pre-wrap;\n",
              "    }\n",
              "  </style>\n",
              "  "
            ]
          },
          "metadata": {}
        },
        {
          "output_type": "display_data",
          "data": {
            "text/plain": [
              "<IPython.core.display.HTML object>"
            ],
            "text/html": [
              "\n",
              "  <style>\n",
              "    pre {\n",
              "        white-space: pre-wrap;\n",
              "    }\n",
              "  </style>\n",
              "  "
            ]
          },
          "metadata": {}
        },
        {
          "output_type": "display_data",
          "data": {
            "text/plain": [
              "<IPython.core.display.HTML object>"
            ],
            "text/html": [
              "\n",
              "  <style>\n",
              "    pre {\n",
              "        white-space: pre-wrap;\n",
              "    }\n",
              "  </style>\n",
              "  "
            ]
          },
          "metadata": {}
        },
        {
          "output_type": "stream",
          "name": "stdout",
          "text": [
            "\n",
            " Original story: \n",
            " Madrid, the vibrant heart of Spain, is not just a geographical entity but a living mosaic of history and modernity.As one of Europe's most dynamic capitals, it dances to the rhythm of daily life that seamlessly blends tradition with contemporary flair.Culturally rich, Madrid is a treasure trove of museums, historic sites, and theaters, with the Prado Museum holding the city's artistic crown\n",
            "\n",
            " Summarized story: \n",
            " Madrid is a vibrant city in Spain that seamlessly blends history with modernity. It is culturally rich with museums, historic sites, and theaters, including the renowned Prado Museum.\n"
          ]
        }
      ]
    },
    {
      "cell_type": "code",
      "source": [],
      "metadata": {
        "id": "wwIKw433M0hO"
      },
      "execution_count": null,
      "outputs": []
    },
    {
      "cell_type": "markdown",
      "source": [
        "# 3.-Precise Descriptions"
      ],
      "metadata": {
        "id": "Z6kV4dKLLnlq"
      }
    },
    {
      "cell_type": "code",
      "source": [
        "#prompt = \"Write a 1 sentence text explaining prompt engineering.\"\n",
        "prompt = \"What is Prompt Engineering?\"\n",
        "response = get_response(prompt)\n",
        "print(response)"
      ],
      "metadata": {
        "colab": {
          "base_uri": "https://localhost:8080/",
          "height": 105
        },
        "id": "Mfj-p-6oL3CT",
        "outputId": "9238d3eb-2bbf-4d00-d84f-fe3c23864707"
      },
      "execution_count": null,
      "outputs": [
        {
          "output_type": "display_data",
          "data": {
            "text/plain": [
              "<IPython.core.display.HTML object>"
            ],
            "text/html": [
              "\n",
              "  <style>\n",
              "    pre {\n",
              "        white-space: pre-wrap;\n",
              "    }\n",
              "  </style>\n",
              "  "
            ]
          },
          "metadata": {}
        },
        {
          "output_type": "display_data",
          "data": {
            "text/plain": [
              "<IPython.core.display.HTML object>"
            ],
            "text/html": [
              "\n",
              "  <style>\n",
              "    pre {\n",
              "        white-space: pre-wrap;\n",
              "    }\n",
              "  </style>\n",
              "  "
            ]
          },
          "metadata": {}
        },
        {
          "output_type": "display_data",
          "data": {
            "text/plain": [
              "<IPython.core.display.HTML object>"
            ],
            "text/html": [
              "\n",
              "  <style>\n",
              "    pre {\n",
              "        white-space: pre-wrap;\n",
              "    }\n",
              "  </style>\n",
              "  "
            ]
          },
          "metadata": {}
        },
        {
          "output_type": "stream",
          "name": "stdout",
          "text": [
            "Prompt engineering is a process in which engineers work quickly and efficiently to solve problems or develop solutions in a timely manner. This may involve brainstorming ideas, creating prototypes, testing and refining designs, and ultimately implementing the final product or solution. Prompt engineering requires a combination of technical skills, creativity, and problem-solving abilities to effectively address challenges and meet project deadlines.\n"
          ]
        }
      ]
    },
    {
      "cell_type": "markdown",
      "source": [
        "# 4.-Well Structured and delimited prompts"
      ],
      "metadata": {
        "id": "Gm-0wEmkzaAk"
      }
    },
    {
      "cell_type": "code",
      "source": [
        "prompt = \"Generate a table in pandas dataframe containing 10 movies I should watch if I am a drama lover with columns for \\\n",
        "Title, Year and Rating.\"\n",
        "print(get_response(prompt))"
      ],
      "metadata": {
        "colab": {
          "base_uri": "https://localhost:8080/",
          "height": 193
        },
        "id": "kuDjUq4hzF_B",
        "outputId": "d3c1623f-009c-436f-ce9b-180252bb4561"
      },
      "execution_count": null,
      "outputs": [
        {
          "output_type": "display_data",
          "data": {
            "text/plain": [
              "<IPython.core.display.HTML object>"
            ],
            "text/html": [
              "\n",
              "  <style>\n",
              "    pre {\n",
              "        white-space: pre-wrap;\n",
              "    }\n",
              "  </style>\n",
              "  "
            ]
          },
          "metadata": {}
        },
        {
          "output_type": "display_data",
          "data": {
            "text/plain": [
              "<IPython.core.display.HTML object>"
            ],
            "text/html": [
              "\n",
              "  <style>\n",
              "    pre {\n",
              "        white-space: pre-wrap;\n",
              "    }\n",
              "  </style>\n",
              "  "
            ]
          },
          "metadata": {}
        },
        {
          "output_type": "display_data",
          "data": {
            "text/plain": [
              "<IPython.core.display.HTML object>"
            ],
            "text/html": [
              "\n",
              "  <style>\n",
              "    pre {\n",
              "        white-space: pre-wrap;\n",
              "    }\n",
              "  </style>\n",
              "  "
            ]
          },
          "metadata": {}
        },
        {
          "output_type": "stream",
          "name": "stdout",
          "text": [
            "import pandas as pd\n",
            "\n",
            "data = {'Title': ['The Shawshank Redemption', 'The Godfather', 'Schindler\\'s List', 'Forrest Gump', 'The Green Mile', 'The Pianist', 'The Departed', 'The Prestige', 'The Social Network', 'A Beautiful Mind'],\n",
            "        'Year': [1994, 1972, 1993, 1994, 1999, 2002, 2006, 2006, 2010, 2001],\n",
            "        'Rating': [9.3, 9.2, 8.9, 8.8, 8.6, 8.5, 8.5, 8.5, 7.7, 8.2]}\n",
            "\n",
            "df = pd.DataFrame(data)\n",
            "print(df)\n"
          ]
        }
      ]
    },
    {
      "cell_type": "code",
      "source": [
        "import pandas as pd\n",
        "\n",
        "data = {'Title': ['The Shawshank Redemption', 'The Godfather', 'Schindler\\'s List', 'Forrest Gump', 'The Green Mile', 'The Pianist', 'The Departed', 'The Prestige', 'The Social Network', 'A Beautiful Mind'],\n",
        "        'Year': [1994, 1972, 1993, 1994, 1999, 2002, 2006, 2006, 2010, 2001],\n",
        "        'Rating': [9.3, 9.2, 8.9, 8.8, 8.6, 8.5, 8.5, 8.5, 7.7, 8.2]}\n",
        "\n",
        "df = pd.DataFrame(data)\n",
        "print(df)"
      ],
      "metadata": {
        "colab": {
          "base_uri": "https://localhost:8080/",
          "height": 211
        },
        "id": "HNiEMvnYNQPk",
        "outputId": "633961b7-cc71-48ed-bef9-4a352e82c00d"
      },
      "execution_count": null,
      "outputs": [
        {
          "output_type": "display_data",
          "data": {
            "text/plain": [
              "<IPython.core.display.HTML object>"
            ],
            "text/html": [
              "\n",
              "  <style>\n",
              "    pre {\n",
              "        white-space: pre-wrap;\n",
              "    }\n",
              "  </style>\n",
              "  "
            ]
          },
          "metadata": {}
        },
        {
          "output_type": "display_data",
          "data": {
            "text/plain": [
              "<IPython.core.display.HTML object>"
            ],
            "text/html": [
              "\n",
              "  <style>\n",
              "    pre {\n",
              "        white-space: pre-wrap;\n",
              "    }\n",
              "  </style>\n",
              "  "
            ]
          },
          "metadata": {}
        },
        {
          "output_type": "display_data",
          "data": {
            "text/plain": [
              "<IPython.core.display.HTML object>"
            ],
            "text/html": [
              "\n",
              "  <style>\n",
              "    pre {\n",
              "        white-space: pre-wrap;\n",
              "    }\n",
              "  </style>\n",
              "  "
            ]
          },
          "metadata": {}
        },
        {
          "output_type": "stream",
          "name": "stdout",
          "text": [
            "                      Title  Year  Rating\n",
            "0  The Shawshank Redemption  1994     9.3\n",
            "1             The Godfather  1972     9.2\n",
            "2          Schindler's List  1993     8.9\n",
            "3              Forrest Gump  1994     8.8\n",
            "4            The Green Mile  1999     8.6\n",
            "5               The Pianist  2002     8.5\n",
            "6              The Departed  2006     8.5\n",
            "7              The Prestige  2006     8.5\n",
            "8        The Social Network  2010     7.7\n",
            "9          A Beautiful Mind  2001     8.2\n"
          ]
        }
      ]
    },
    {
      "cell_type": "code",
      "source": [
        "prompt = \"Generate a list with the names top 10 countries to visit\"\n",
        "print(get_response(prompt))"
      ],
      "metadata": {
        "colab": {
          "base_uri": "https://localhost:8080/",
          "height": 193
        },
        "id": "fR1cpKpWziv2",
        "outputId": "db1a0b53-2b45-4c66-84b5-72fae6db0ba9"
      },
      "execution_count": null,
      "outputs": [
        {
          "output_type": "display_data",
          "data": {
            "text/plain": [
              "<IPython.core.display.HTML object>"
            ],
            "text/html": [
              "\n",
              "  <style>\n",
              "    pre {\n",
              "        white-space: pre-wrap;\n",
              "    }\n",
              "  </style>\n",
              "  "
            ]
          },
          "metadata": {}
        },
        {
          "output_type": "display_data",
          "data": {
            "text/plain": [
              "<IPython.core.display.HTML object>"
            ],
            "text/html": [
              "\n",
              "  <style>\n",
              "    pre {\n",
              "        white-space: pre-wrap;\n",
              "    }\n",
              "  </style>\n",
              "  "
            ]
          },
          "metadata": {}
        },
        {
          "output_type": "display_data",
          "data": {
            "text/plain": [
              "<IPython.core.display.HTML object>"
            ],
            "text/html": [
              "\n",
              "  <style>\n",
              "    pre {\n",
              "        white-space: pre-wrap;\n",
              "    }\n",
              "  </style>\n",
              "  "
            ]
          },
          "metadata": {}
        },
        {
          "output_type": "stream",
          "name": "stdout",
          "text": [
            "1. Italy\n",
            "2. Japan\n",
            "3. Australia\n",
            "4. France\n",
            "5. Spain\n",
            "6. United States\n",
            "7. Greece\n",
            "8. Thailand\n",
            "9. New Zealand\n",
            "10. Iceland\n"
          ]
        }
      ]
    },
    {
      "cell_type": "code",
      "source": [
        "prompt = \"Generate only a list with the names top 10 countries to visit if I love food\"\n",
        "print(get_response(prompt))"
      ],
      "metadata": {
        "colab": {
          "base_uri": "https://localhost:8080/",
          "height": 191
        },
        "id": "it_s5_2EQXI7",
        "outputId": "bb82ee64-1a10-497b-c625-7175582539a1"
      },
      "execution_count": null,
      "outputs": [
        {
          "output_type": "display_data",
          "data": {
            "text/plain": [
              "<IPython.core.display.HTML object>"
            ],
            "text/html": [
              "\n",
              "  <style>\n",
              "    pre {\n",
              "        white-space: pre-wrap;\n",
              "    }\n",
              "  </style>\n",
              "  "
            ]
          },
          "metadata": {}
        },
        {
          "output_type": "display_data",
          "data": {
            "text/plain": [
              "<IPython.core.display.HTML object>"
            ],
            "text/html": [
              "\n",
              "  <style>\n",
              "    pre {\n",
              "        white-space: pre-wrap;\n",
              "    }\n",
              "  </style>\n",
              "  "
            ]
          },
          "metadata": {}
        },
        {
          "output_type": "stream",
          "name": "stdout",
          "text": [
            "1. Italy\n",
            "2. Japan\n",
            "3. France\n",
            "4. Spain\n",
            "5. Thailand\n",
            "6. Mexico\n",
            "7. India\n",
            "8. Greece\n",
            "9. Vietnam\n",
            "10. Peru\n"
          ]
        }
      ]
    },
    {
      "cell_type": "code",
      "source": [
        "prompt = \"Generate a list with the names top 10 countries to visit if I love history\"\n",
        "print(get_response(prompt))"
      ],
      "metadata": {
        "colab": {
          "base_uri": "https://localhost:8080/",
          "height": 191
        },
        "id": "4AGnz-rRQkPP",
        "outputId": "917a8088-f368-4d64-dabf-7f61c1d6be41"
      },
      "execution_count": null,
      "outputs": [
        {
          "output_type": "display_data",
          "data": {
            "text/plain": [
              "<IPython.core.display.HTML object>"
            ],
            "text/html": [
              "\n",
              "  <style>\n",
              "    pre {\n",
              "        white-space: pre-wrap;\n",
              "    }\n",
              "  </style>\n",
              "  "
            ]
          },
          "metadata": {}
        },
        {
          "output_type": "display_data",
          "data": {
            "text/plain": [
              "<IPython.core.display.HTML object>"
            ],
            "text/html": [
              "\n",
              "  <style>\n",
              "    pre {\n",
              "        white-space: pre-wrap;\n",
              "    }\n",
              "  </style>\n",
              "  "
            ]
          },
          "metadata": {}
        },
        {
          "output_type": "stream",
          "name": "stdout",
          "text": [
            "1. Egypt\n",
            "2. Italy\n",
            "3. Greece\n",
            "4. Turkey\n",
            "5. China\n",
            "6. Mexico\n",
            "7. India\n",
            "8. Peru\n",
            "9. Cambodia\n",
            "10. United Kingdom\n"
          ]
        }
      ]
    },
    {
      "cell_type": "code",
      "source": [
        "prompt = \"Generate an unordered list with the names top 5 countries to visit\"\n",
        "print(get_response(prompt))"
      ],
      "metadata": {
        "colab": {
          "base_uri": "https://localhost:8080/",
          "height": 104
        },
        "id": "wd4AUQpWz-G1",
        "outputId": "e2136d0b-ced9-4b3d-f021-da8d7be2d2cf"
      },
      "execution_count": null,
      "outputs": [
        {
          "output_type": "display_data",
          "data": {
            "text/plain": [
              "<IPython.core.display.HTML object>"
            ],
            "text/html": [
              "\n",
              "  <style>\n",
              "    pre {\n",
              "        white-space: pre-wrap;\n",
              "    }\n",
              "  </style>\n",
              "  "
            ]
          },
          "metadata": {}
        },
        {
          "output_type": "display_data",
          "data": {
            "text/plain": [
              "<IPython.core.display.HTML object>"
            ],
            "text/html": [
              "\n",
              "  <style>\n",
              "    pre {\n",
              "        white-space: pre-wrap;\n",
              "    }\n",
              "  </style>\n",
              "  "
            ]
          },
          "metadata": {}
        },
        {
          "output_type": "stream",
          "name": "stdout",
          "text": [
            "- Italy\n",
            "- Japan\n",
            "- Australia\n",
            "- Iceland\n",
            "- New Zealand\n"
          ]
        }
      ]
    },
    {
      "cell_type": "code",
      "source": [
        "prompt = \"Provide a structured paragraph with clear headings and subheadings about the\\\n",
        "benefit of regular exercise on overall health and well-being in HTML\"\n",
        "print(get_response(prompt))"
      ],
      "metadata": {
        "id": "fi8foyE00Hac",
        "colab": {
          "base_uri": "https://localhost:8080/",
          "height": 458
        },
        "outputId": "2bd8a030-2148-4a7e-9636-f1d1d670ae1f"
      },
      "execution_count": null,
      "outputs": [
        {
          "output_type": "display_data",
          "data": {
            "text/plain": [
              "<IPython.core.display.HTML object>"
            ],
            "text/html": [
              "\n",
              "  <style>\n",
              "    pre {\n",
              "        white-space: pre-wrap;\n",
              "    }\n",
              "  </style>\n",
              "  "
            ]
          },
          "metadata": {}
        },
        {
          "output_type": "display_data",
          "data": {
            "text/plain": [
              "<IPython.core.display.HTML object>"
            ],
            "text/html": [
              "\n",
              "  <style>\n",
              "    pre {\n",
              "        white-space: pre-wrap;\n",
              "    }\n",
              "  </style>\n",
              "  "
            ]
          },
          "metadata": {}
        },
        {
          "output_type": "display_data",
          "data": {
            "text/plain": [
              "<IPython.core.display.HTML object>"
            ],
            "text/html": [
              "\n",
              "  <style>\n",
              "    pre {\n",
              "        white-space: pre-wrap;\n",
              "    }\n",
              "  </style>\n",
              "  "
            ]
          },
          "metadata": {}
        },
        {
          "output_type": "stream",
          "name": "stdout",
          "text": [
            "<!DOCTYPE html>\n",
            "<html>\n",
            "<head>\n",
            "<title>Benefits of Regular Exercise on Overall Health and Well-being</title>\n",
            "</head>\n",
            "<body>\n",
            "\n",
            "<h1>Benefits of Regular Exercise on Overall Health and Well-being</h1>\n",
            "\n",
            "<h2>Physical Health</h2>\n",
            "<p>Regular exercise can improve cardiovascular health, strengthen muscles and bones, and help maintain a healthy weight. It can also reduce the risk of chronic diseases such as heart disease, diabetes, and certain types of cancer.</p>\n",
            "\n",
            "<h2>Mental Health</h2>\n",
            "<p>Exercise has been shown to reduce symptoms of anxiety and depression, improve mood, and enhance cognitive function. It can also help with stress management and promote better sleep.</p>\n",
            "\n",
            "<h2>Emotional Well-being</h2>\n",
            "<p>Engaging in regular physical activity can boost self-esteem, increase feelings of happiness and satisfaction, and provide a sense of accomplishment. It can also help individuals cope with life's challenges and improve overall quality of life.</p>\n",
            "\n",
            "</body>\n",
            "</html>\n"
          ]
        }
      ]
    },
    {
      "cell_type": "code",
      "source": [
        "prompt = f\"\"\"\n",
        "Generate a list of 5 movies with their titles along \\\n",
        "with their authors and genres.\n",
        "Provide them in JSON format with the following keys:\n",
        "book_id, title, author, genre.\n",
        "\"\"\"\n",
        "print(get_response(prompt, max_tokens=512))\n"
      ],
      "metadata": {
        "colab": {
          "base_uri": "https://localhost:8080/",
          "height": 582
        },
        "id": "6bjE1vRYSxLN",
        "outputId": "fc780421-def2-4806-9056-5fcb5d197a4b"
      },
      "execution_count": null,
      "outputs": [
        {
          "output_type": "display_data",
          "data": {
            "text/plain": [
              "<IPython.core.display.HTML object>"
            ],
            "text/html": [
              "\n",
              "  <style>\n",
              "    pre {\n",
              "        white-space: pre-wrap;\n",
              "    }\n",
              "  </style>\n",
              "  "
            ]
          },
          "metadata": {}
        },
        {
          "output_type": "display_data",
          "data": {
            "text/plain": [
              "<IPython.core.display.HTML object>"
            ],
            "text/html": [
              "\n",
              "  <style>\n",
              "    pre {\n",
              "        white-space: pre-wrap;\n",
              "    }\n",
              "  </style>\n",
              "  "
            ]
          },
          "metadata": {}
        },
        {
          "output_type": "display_data",
          "data": {
            "text/plain": [
              "<IPython.core.display.HTML object>"
            ],
            "text/html": [
              "\n",
              "  <style>\n",
              "    pre {\n",
              "        white-space: pre-wrap;\n",
              "    }\n",
              "  </style>\n",
              "  "
            ]
          },
          "metadata": {}
        },
        {
          "output_type": "stream",
          "name": "stdout",
          "text": [
            "[\n",
            "    {\n",
            "        \"book_id\": 1,\n",
            "        \"title\": \"The Shawshank Redemption\",\n",
            "        \"author\": \"Stephen King\",\n",
            "        \"genre\": \"Drama\"\n",
            "    },\n",
            "    {\n",
            "        \"book_id\": 2,\n",
            "        \"title\": \"The Godfather\",\n",
            "        \"author\": \"Mario Puzo\",\n",
            "        \"genre\": \"Crime\"\n",
            "    },\n",
            "    {\n",
            "        \"book_id\": 3,\n",
            "        \"title\": \"The Lord of the Rings: The Fellowship of the Ring\",\n",
            "        \"author\": \"J.R.R. Tolkien\",\n",
            "        \"genre\": \"Fantasy\"\n",
            "    },\n",
            "    {\n",
            "        \"book_id\": 4,\n",
            "        \"title\": \"Inception\",\n",
            "        \"author\": \"Christopher Nolan\",\n",
            "        \"genre\": \"Sci-Fi\"\n",
            "    },\n",
            "    {\n",
            "        \"book_id\": 5,\n",
            "        \"title\": \"The Dark Knight\",\n",
            "        \"author\": \"Christopher Nolan\",\n",
            "        \"genre\": \"Action\"\n",
            "    }\n",
            "]\n"
          ]
        }
      ]
    },
    {
      "cell_type": "markdown",
      "source": [
        "# 5.-Conditional Prompts"
      ],
      "metadata": {
        "id": "RALXoRjlD-I-"
      }
    },
    {
      "cell_type": "code",
      "source": [
        "text = \"Madrid, the vibrant capital of Spain, stands at the heart of the Iberian Peninsula.\\\n",
        "Renowned for its rich cultural heritage, Madrid boasts an impressive array of historic sites,\\\n",
        "including the Royal Palace, Prado Museum, and Plaza Mayor. It's a city where art and history intersect,\\\n",
        "home to masterpieces by Spanish painters like Velázquez and Goya. \"\n",
        "\n",
        "#text = \"Hoy es el dia en el que aprendo prompt engineering\"\n",
        "\n",
        "prompt = f\"\"\"You will be provided with a text delimiter by triple hashtags.\\\n",
        "If the text is written in english, translate into Japanese, othwerwise write 'I only understand English'.\n",
        "###{text}###\"\"\"\n",
        "\n",
        "print(get_response(prompt))"
      ],
      "metadata": {
        "colab": {
          "base_uri": "https://localhost:8080/",
          "height": 70
        },
        "id": "moeoBeiBEIus",
        "outputId": "1f1d3d1e-d56d-44ee-c936-27dfb121966a"
      },
      "execution_count": null,
      "outputs": [
        {
          "output_type": "display_data",
          "data": {
            "text/plain": [
              "<IPython.core.display.HTML object>"
            ],
            "text/html": [
              "\n",
              "  <style>\n",
              "    pre {\n",
              "        white-space: pre-wrap;\n",
              "    }\n",
              "  </style>\n",
              "  "
            ]
          },
          "metadata": {}
        },
        {
          "output_type": "display_data",
          "data": {
            "text/plain": [
              "<IPython.core.display.HTML object>"
            ],
            "text/html": [
              "\n",
              "  <style>\n",
              "    pre {\n",
              "        white-space: pre-wrap;\n",
              "    }\n",
              "  </style>\n",
              "  "
            ]
          },
          "metadata": {}
        },
        {
          "output_type": "display_data",
          "data": {
            "text/plain": [
              "<IPython.core.display.HTML object>"
            ],
            "text/html": [
              "\n",
              "  <style>\n",
              "    pre {\n",
              "        white-space: pre-wrap;\n",
              "    }\n",
              "  </style>\n",
              "  "
            ]
          },
          "metadata": {}
        },
        {
          "output_type": "stream",
          "name": "stdout",
          "text": [
            "マドリードは、スペインの活気ある首都であり、イベリア半島の中心に位置しています。豊かな文化遺産で知られるマドリードには、王宮、プラド美術館、プラサ・マヨールなど、歴史的な名所が数多くあります。マドリードは、スペインの画家たちによるベラスケスやゴヤの名作が収められている、芸術と歴史が交差する街です。\n"
          ]
        }
      ]
    },
    {
      "cell_type": "code",
      "source": [
        "prompt"
      ],
      "metadata": {
        "colab": {
          "base_uri": "https://localhost:8080/",
          "height": 88
        },
        "id": "zZxjqECeSrAK",
        "outputId": "b92efc7f-11d3-4881-9b94-013bceb5c36a"
      },
      "execution_count": null,
      "outputs": [
        {
          "output_type": "display_data",
          "data": {
            "text/plain": [
              "<IPython.core.display.HTML object>"
            ],
            "text/html": [
              "\n",
              "  <style>\n",
              "    pre {\n",
              "        white-space: pre-wrap;\n",
              "    }\n",
              "  </style>\n",
              "  "
            ]
          },
          "metadata": {}
        },
        {
          "output_type": "display_data",
          "data": {
            "text/plain": [
              "<IPython.core.display.HTML object>"
            ],
            "text/html": [
              "\n",
              "  <style>\n",
              "    pre {\n",
              "        white-space: pre-wrap;\n",
              "    }\n",
              "  </style>\n",
              "  "
            ]
          },
          "metadata": {}
        },
        {
          "output_type": "execute_result",
          "data": {
            "text/plain": [
              "\"You will be provided with a text delimiter by triple backtips.If the text is written in english, suggest a title, othwerwise write 'I only understand English'.\\n```Madrid, the vibrant capital of Spain, stands at the heart of the Iberian Peninsula.Renowned for its rich cultural heritage, Madrid boasts an impressive array of historic sites,including the Royal Palace, Prado Museum, and Plaza Mayor. It's a city where art and history intersect,home to masterpieces by Spanish painters like Velázquez and Goya. ´´´\""
            ],
            "application/vnd.google.colaboratory.intrinsic+json": {
              "type": "string"
            }
          },
          "metadata": {},
          "execution_count": 47
        }
      ]
    },
    {
      "cell_type": "markdown",
      "source": [
        "We can add multiple conditions"
      ],
      "metadata": {
        "id": "8P8viSimEXaV"
      }
    },
    {
      "cell_type": "code",
      "source": [
        "#text = \"I like using LLMs in the class today with OpenAI APIs\"\n",
        "text = \"Madrid es la capital de España\"\n",
        "\n",
        "prompt = f\"\"\"You will be provided with a text delimiter by triple backtips.\\\n",
        "If the text is written in english and contains the word love or like, suggest a title,\\\n",
        "othwerwise write 'I only understand English with the word love or like'.\n",
        "```{text}´´´\"\"\"\n",
        "\n",
        "\n",
        "print(get_response(prompt))"
      ],
      "metadata": {
        "colab": {
          "base_uri": "https://localhost:8080/",
          "height": 35
        },
        "id": "ZU92GFGaEZR5",
        "outputId": "2c13b748-b878-40cd-8095-bf8979d75f98"
      },
      "execution_count": null,
      "outputs": [
        {
          "output_type": "display_data",
          "data": {
            "text/plain": [
              "<IPython.core.display.HTML object>"
            ],
            "text/html": [
              "\n",
              "  <style>\n",
              "    pre {\n",
              "        white-space: pre-wrap;\n",
              "    }\n",
              "  </style>\n",
              "  "
            ]
          },
          "metadata": {}
        },
        {
          "output_type": "display_data",
          "data": {
            "text/plain": [
              "<IPython.core.display.HTML object>"
            ],
            "text/html": [
              "\n",
              "  <style>\n",
              "    pre {\n",
              "        white-space: pre-wrap;\n",
              "    }\n",
              "  </style>\n",
              "  "
            ]
          },
          "metadata": {}
        },
        {
          "output_type": "display_data",
          "data": {
            "text/plain": [
              "<IPython.core.display.HTML object>"
            ],
            "text/html": [
              "\n",
              "  <style>\n",
              "    pre {\n",
              "        white-space: pre-wrap;\n",
              "    }\n",
              "  </style>\n",
              "  "
            ]
          },
          "metadata": {}
        },
        {
          "output_type": "stream",
          "name": "stdout",
          "text": [
            "I only understand English with the word love or like.\n"
          ]
        }
      ]
    },
    {
      "cell_type": "code",
      "source": [
        "prompt"
      ],
      "metadata": {
        "id": "NPBHDu-L2t-2",
        "outputId": "c1a058cc-c3d7-41dd-fcc6-1a2ba0fa619c",
        "colab": {
          "base_uri": "https://localhost:8080/",
          "height": 71
        }
      },
      "execution_count": null,
      "outputs": [
        {
          "output_type": "display_data",
          "data": {
            "text/plain": [
              "<IPython.core.display.HTML object>"
            ],
            "text/html": [
              "\n",
              "  <style>\n",
              "    pre {\n",
              "        white-space: pre-wrap;\n",
              "    }\n",
              "  </style>\n",
              "  "
            ]
          },
          "metadata": {}
        },
        {
          "output_type": "execute_result",
          "data": {
            "text/plain": [
              "\"You will be provided with a text delimiter by triple backtips.If the text is written in english and contains the word love or like, suggest a title,othwerwise write 'I only understand English with the word love or like'.\\n```I like using LLMs in the class today with OpenAI APIs´´´\""
            ],
            "application/vnd.google.colaboratory.intrinsic+json": {
              "type": "string"
            }
          },
          "metadata": {},
          "execution_count": 37
        }
      ]
    }
  ]
}
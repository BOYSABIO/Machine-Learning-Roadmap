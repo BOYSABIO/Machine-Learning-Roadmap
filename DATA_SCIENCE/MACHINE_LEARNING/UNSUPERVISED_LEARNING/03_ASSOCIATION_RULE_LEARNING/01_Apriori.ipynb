{
 "cells": [
  {
   "cell_type": "markdown",
   "metadata": {},
   "source": [
    "# Apriori  "
   ]
  },
  {
   "attachments": {
    "image-2.png": {
     "image/png": "[encoded data removed]"
    },
    "image-3.png": {
     "image/png": "[encoded data removed]"
    },
    "image-4.png": {
     "image/png": "[encoded data removed]"
    },
    "image.png": {
     "image/png": "[encoded data removed]"
    }
   },
   "cell_type": "markdown",
   "metadata": {},
   "source": [
    "It uses a simple but famous principle: “If an itemset is frequent, then all of its subsets must also be frequent”. Conversely, “if an itemset is infrequent, then all its subsets must be infrequent too”. It has a slightly more efficient approach to association detection than other known methods and it is fast to train for big datasets. Another advantage is that consequents can be selected in advance.  \n",
    "  \n",
    "APRIORI complexity is affected by database volume, average transaction width and dimensionality of data set (number of existing items). However, APRIORI is recommended if:  \n",
    "- You wish to focus on only certain consequents or antecedents (Apriori can provide more control).\n",
    "- You want to create rules for false values (negative rules).\n",
    "- You have datasets with numeric fields (Apriori can handle numeric fields as antecedents in rules)\n",
    "- You want to have more control over the method of rule selection (Apriori gives you more options in the advanced selection setting)\n",
    "- You want to focus on the frequency of the antecedents (not only on rule support)  \n",
    "\n",
    "Finding a rule is about “discovering” a set of events that are usually presented in the form:  \n",
    "  \n",
    "![image-2.png](attachment:image-2.png)  \n",
    "  \n",
    "Where, as said before, the “conditions” are known as the antecedents of the rule, and the “conclusion” is known as the consequent.  \n",
    "  \n",
    "Market Basket analysis can be understood as a tool to CLUSTER customers into similar groups according to the different rule/s they tend to follow or to CLUSTER products that are bought together, but we should say that the connection with Cluster analysis is somewhat incidental.  \n",
    "  \n",
    "- Instances (#): is the number of records in the dataset that match the antecedents.\n",
    "- Support (%): the percentage of records that match the antecedents. A rule with low support is likely to be uninteresting from a business perspective because it may not be profitable to promote items that customers seldom buy.  \n",
    "![image.png](attachment:image.png)  \n",
    "- Confidence (%): is the percentage of records matching the antecedents that also match the consequent. Confidence measures the consistency of the interpretation made by a rule. For a given rule, the higher the confidence, the more likely it is for the consequent to be present in transactions that contain antecedents (a kind of an estimate of the conditional probability of a consequent given a set of antecedents)  \n",
    "![image-3.png](attachment:image-3.png)  \n",
    "- Rule Support (%): percentage of TOTAL records that match the entire rule, both the antecedents and consequent. Support is obviously an important measure because a low value may occur simply by chance.  \n",
    "![image-4.png](attachment:image-4.png)  \n",
    "\n",
    "---"
   ]
  },
  {
   "cell_type": "markdown",
   "metadata": {},
   "source": [
    "Scenario:  \n",
    "You are analyzing transaction data to uncover frequent itemsets and generate association rules."
   ]
  },
  {
   "cell_type": "code",
   "execution_count": 3,
   "metadata": {},
   "outputs": [
    {
     "data": {
      "text/html": [
       "<div>\n",
       "<style scoped>\n",
       "    .dataframe tbody tr th:only-of-type {\n",
       "        vertical-align: middle;\n",
       "    }\n",
       "\n",
       "    .dataframe tbody tr th {\n",
       "        vertical-align: top;\n",
       "    }\n",
       "\n",
       "    .dataframe thead th {\n",
       "        text-align: right;\n",
       "    }\n",
       "</style>\n",
       "<table border=\"1\" class=\"dataframe\">\n",
       "  <thead>\n",
       "    <tr style=\"text-align: right;\">\n",
       "      <th></th>\n",
       "      <th>Item1</th>\n",
       "      <th>Item2</th>\n",
       "      <th>Item3</th>\n",
       "      <th>Item4</th>\n",
       "    </tr>\n",
       "  </thead>\n",
       "  <tbody>\n",
       "    <tr>\n",
       "      <th>0</th>\n",
       "      <td>Milk</td>\n",
       "      <td>Bread</td>\n",
       "      <td>Butter</td>\n",
       "      <td>None</td>\n",
       "    </tr>\n",
       "    <tr>\n",
       "      <th>1</th>\n",
       "      <td>Milk</td>\n",
       "      <td>Bread</td>\n",
       "      <td>None</td>\n",
       "      <td>None</td>\n",
       "    </tr>\n",
       "    <tr>\n",
       "      <th>2</th>\n",
       "      <td>Bread</td>\n",
       "      <td>Butter</td>\n",
       "      <td>Jam</td>\n",
       "      <td>None</td>\n",
       "    </tr>\n",
       "    <tr>\n",
       "      <th>3</th>\n",
       "      <td>Milk</td>\n",
       "      <td>Butter</td>\n",
       "      <td>None</td>\n",
       "      <td>None</td>\n",
       "    </tr>\n",
       "    <tr>\n",
       "      <th>4</th>\n",
       "      <td>Milk</td>\n",
       "      <td>Bread</td>\n",
       "      <td>Butter</td>\n",
       "      <td>Jam</td>\n",
       "    </tr>\n",
       "  </tbody>\n",
       "</table>\n",
       "</div>"
      ],
      "text/plain": [
       "   Item1   Item2   Item3 Item4\n",
       "0   Milk   Bread  Butter  None\n",
       "1   Milk   Bread    None  None\n",
       "2  Bread  Butter     Jam  None\n",
       "3   Milk  Butter    None  None\n",
       "4   Milk   Bread  Butter   Jam"
      ]
     },
     "execution_count": 3,
     "metadata": {},
     "output_type": "execute_result"
    }
   ],
   "source": [
    "from mlxtend.frequent_patterns import apriori, association_rules\n",
    "import pandas as pd\n",
    "\n",
    "# Step 1: Create a dataset of transactions\n",
    "transactions = pd.DataFrame([\n",
    "    ['Milk', 'Bread', 'Butter'],\n",
    "    ['Milk', 'Bread'],\n",
    "    ['Bread', 'Butter', 'Jam'],\n",
    "    ['Milk', 'Butter'],\n",
    "    ['Milk', 'Bread', 'Butter', 'Jam']\n",
    "], columns=['Item1', 'Item2', 'Item3', 'Item4'])\n",
    "\n",
    "transactions"
   ]
  },
  {
   "cell_type": "code",
   "execution_count": 5,
   "metadata": {},
   "outputs": [
    {
     "data": {
      "text/html": [
       "<div>\n",
       "<style scoped>\n",
       "    .dataframe tbody tr th:only-of-type {\n",
       "        vertical-align: middle;\n",
       "    }\n",
       "\n",
       "    .dataframe tbody tr th {\n",
       "        vertical-align: top;\n",
       "    }\n",
       "\n",
       "    .dataframe thead th {\n",
       "        text-align: right;\n",
       "    }\n",
       "</style>\n",
       "<table border=\"1\" class=\"dataframe\">\n",
       "  <thead>\n",
       "    <tr style=\"text-align: right;\">\n",
       "      <th></th>\n",
       "      <th>Bread</th>\n",
       "      <th>Butter</th>\n",
       "      <th>Jam</th>\n",
       "      <th>Milk</th>\n",
       "    </tr>\n",
       "  </thead>\n",
       "  <tbody>\n",
       "    <tr>\n",
       "      <th>0</th>\n",
       "      <td>1</td>\n",
       "      <td>1</td>\n",
       "      <td>0</td>\n",
       "      <td>1</td>\n",
       "    </tr>\n",
       "    <tr>\n",
       "      <th>1</th>\n",
       "      <td>1</td>\n",
       "      <td>0</td>\n",
       "      <td>0</td>\n",
       "      <td>1</td>\n",
       "    </tr>\n",
       "    <tr>\n",
       "      <th>2</th>\n",
       "      <td>1</td>\n",
       "      <td>1</td>\n",
       "      <td>1</td>\n",
       "      <td>0</td>\n",
       "    </tr>\n",
       "    <tr>\n",
       "      <th>3</th>\n",
       "      <td>0</td>\n",
       "      <td>1</td>\n",
       "      <td>0</td>\n",
       "      <td>1</td>\n",
       "    </tr>\n",
       "    <tr>\n",
       "      <th>4</th>\n",
       "      <td>1</td>\n",
       "      <td>1</td>\n",
       "      <td>1</td>\n",
       "      <td>1</td>\n",
       "    </tr>\n",
       "  </tbody>\n",
       "</table>\n",
       "</div>"
      ],
      "text/plain": [
       "   Bread  Butter  Jam  Milk\n",
       "0      1       1    0     1\n",
       "1      1       0    0     1\n",
       "2      1       1    1     0\n",
       "3      0       1    0     1\n",
       "4      1       1    1     1"
      ]
     },
     "execution_count": 5,
     "metadata": {},
     "output_type": "execute_result"
    }
   ],
   "source": [
    "# Convert dataset to one-hot encoded format\n",
    "one_hot = pd.get_dummies(transactions.apply(pd.Series).stack()).groupby(level=0).sum()\n",
    "one_hot"
   ]
  },
  {
   "cell_type": "code",
   "execution_count": 6,
   "metadata": {},
   "outputs": [
    {
     "name": "stdout",
     "output_type": "stream",
     "text": [
      "Frequent Itemsets:\n",
      "   support         itemsets\n",
      "0      0.8          (Bread)\n",
      "1      0.8         (Butter)\n",
      "2      0.8           (Milk)\n",
      "3      0.6  (Butter, Bread)\n",
      "4      0.6    (Bread, Milk)\n",
      "5      0.6   (Butter, Milk)\n"
     ]
    },
    {
     "name": "stderr",
     "output_type": "stream",
     "text": [
      "c:\\Users\\SABIO\\Documents\\GitHub\\Personal-Projects\\myenv\\Lib\\site-packages\\mlxtend\\frequent_patterns\\fpcommon.py:161: DeprecationWarning: DataFrames with non-bool types result in worse computationalperformance and their support might be discontinued in the future.Please use a DataFrame with bool type\n",
      "  warnings.warn(\n"
     ]
    }
   ],
   "source": [
    "# Generate frequent itemsets using Apriori\n",
    "frequent_itemsets = apriori(one_hot, min_support = 0.5, use_colnames = True)\n",
    "print(\"Frequent Itemsets:\")\n",
    "print(frequent_itemsets)"
   ]
  },
  {
   "attachments": {
    "image-2.png": {
     "image/png": "[encoded data removed]"
    },
    "image-3.png": {
     "image/png": "[encoded data removed]"
    },
    "image-4.png": {
     "image/png": "[encoded data removed]"
    },
    "image.png": {
     "image/png": "[encoded data removed]"
    }
   },
   "cell_type": "markdown",
   "metadata": {},
   "source": [
    "To circumvent some of the previous limitations pf using minimum confidence and confidence support as rule selection, other measures have been used commonly for rule selection. For better understanding, we will use two basic definitions:\n",
    "- Prior confidence: the relative frequency of the Consequent\n",
    "- Posterior confidence: Confidence of a rule with one or more Antecedents\n",
    "- Lift: The ratio of the posterior confidence to the prior confidence (the ratio of the rule’s confidence to the overall consequent’s support). If both items were independent, numerator and denominator would equal, therefore Lift would be one. The higher the vale, the greater the theoretical association between both.  \n",
    "![image.png](attachment:image.png)  ![image-2.png](attachment:image-2.png)  \n",
    "- Confidence difference: based on the absolute difference between the posterior and prior confidence (also called leverage). This measure gives extra input on selecting or discarding some rules:\n",
    "    - Allows selecting negative rules, as the absolute value of the difference is being used. A Negative rule is one in which the Consequent occurs less often when conditions are added.\n",
    "    - Allows discarding obvious rules. So, a rule usually true will only be selected if its prior confidence is low  \n",
    "![image-3.png](attachment:image-3.png)  \n",
    "- Confidence ratio: Another simple way to compare Prior and Posterior confidences is to compute their ratio (min between max) and subtract it from 1. \n",
    "    - Since this method uses a ratio, unlike the Confidence Difference measure, it is more sensitive to ratios in the lower confidence regions. The ratio between 30% (prior) and 40% (posterior) is greater than that between 70% (prior) and 80%(posterior), even though the absolute difference is identical.\n",
    "    - This option can find rarities and negative effects, and it can be more finely tuned than the confidence difference. It will find both positive and negative rules across a range of prior confidences. So, if the Prior Confidence is low, then only a small change in the Posterior Confidence is required to select a rule, even for negative values.  \n",
    "![image-4.png](attachment:image-4.png)  \n",
    "\n",
    "---"
   ]
  },
  {
   "cell_type": "code",
   "execution_count": 8,
   "metadata": {},
   "outputs": [
    {
     "name": "stdout",
     "output_type": "stream",
     "text": [
      "\n",
      "Association Rules:\n"
     ]
    },
    {
     "data": {
      "text/html": [
       "<div>\n",
       "<style scoped>\n",
       "    .dataframe tbody tr th:only-of-type {\n",
       "        vertical-align: middle;\n",
       "    }\n",
       "\n",
       "    .dataframe tbody tr th {\n",
       "        vertical-align: top;\n",
       "    }\n",
       "\n",
       "    .dataframe thead th {\n",
       "        text-align: right;\n",
       "    }\n",
       "</style>\n",
       "<table border=\"1\" class=\"dataframe\">\n",
       "  <thead>\n",
       "    <tr style=\"text-align: right;\">\n",
       "      <th></th>\n",
       "      <th>antecedents</th>\n",
       "      <th>consequents</th>\n",
       "      <th>antecedent support</th>\n",
       "      <th>consequent support</th>\n",
       "      <th>support</th>\n",
       "      <th>confidence</th>\n",
       "      <th>lift</th>\n",
       "      <th>representativity</th>\n",
       "      <th>leverage</th>\n",
       "      <th>conviction</th>\n",
       "      <th>zhangs_metric</th>\n",
       "      <th>jaccard</th>\n",
       "      <th>certainty</th>\n",
       "      <th>kulczynski</th>\n",
       "    </tr>\n",
       "  </thead>\n",
       "  <tbody>\n",
       "    <tr>\n",
       "      <th>0</th>\n",
       "      <td>(Butter)</td>\n",
       "      <td>(Bread)</td>\n",
       "      <td>0.8</td>\n",
       "      <td>0.8</td>\n",
       "      <td>0.6</td>\n",
       "      <td>0.75</td>\n",
       "      <td>0.9375</td>\n",
       "      <td>1.0</td>\n",
       "      <td>-0.04</td>\n",
       "      <td>0.8</td>\n",
       "      <td>-0.25</td>\n",
       "      <td>0.6</td>\n",
       "      <td>-0.25</td>\n",
       "      <td>0.75</td>\n",
       "    </tr>\n",
       "    <tr>\n",
       "      <th>1</th>\n",
       "      <td>(Bread)</td>\n",
       "      <td>(Butter)</td>\n",
       "      <td>0.8</td>\n",
       "      <td>0.8</td>\n",
       "      <td>0.6</td>\n",
       "      <td>0.75</td>\n",
       "      <td>0.9375</td>\n",
       "      <td>1.0</td>\n",
       "      <td>-0.04</td>\n",
       "      <td>0.8</td>\n",
       "      <td>-0.25</td>\n",
       "      <td>0.6</td>\n",
       "      <td>-0.25</td>\n",
       "      <td>0.75</td>\n",
       "    </tr>\n",
       "    <tr>\n",
       "      <th>2</th>\n",
       "      <td>(Bread)</td>\n",
       "      <td>(Milk)</td>\n",
       "      <td>0.8</td>\n",
       "      <td>0.8</td>\n",
       "      <td>0.6</td>\n",
       "      <td>0.75</td>\n",
       "      <td>0.9375</td>\n",
       "      <td>1.0</td>\n",
       "      <td>-0.04</td>\n",
       "      <td>0.8</td>\n",
       "      <td>-0.25</td>\n",
       "      <td>0.6</td>\n",
       "      <td>-0.25</td>\n",
       "      <td>0.75</td>\n",
       "    </tr>\n",
       "    <tr>\n",
       "      <th>3</th>\n",
       "      <td>(Milk)</td>\n",
       "      <td>(Bread)</td>\n",
       "      <td>0.8</td>\n",
       "      <td>0.8</td>\n",
       "      <td>0.6</td>\n",
       "      <td>0.75</td>\n",
       "      <td>0.9375</td>\n",
       "      <td>1.0</td>\n",
       "      <td>-0.04</td>\n",
       "      <td>0.8</td>\n",
       "      <td>-0.25</td>\n",
       "      <td>0.6</td>\n",
       "      <td>-0.25</td>\n",
       "      <td>0.75</td>\n",
       "    </tr>\n",
       "    <tr>\n",
       "      <th>4</th>\n",
       "      <td>(Butter)</td>\n",
       "      <td>(Milk)</td>\n",
       "      <td>0.8</td>\n",
       "      <td>0.8</td>\n",
       "      <td>0.6</td>\n",
       "      <td>0.75</td>\n",
       "      <td>0.9375</td>\n",
       "      <td>1.0</td>\n",
       "      <td>-0.04</td>\n",
       "      <td>0.8</td>\n",
       "      <td>-0.25</td>\n",
       "      <td>0.6</td>\n",
       "      <td>-0.25</td>\n",
       "      <td>0.75</td>\n",
       "    </tr>\n",
       "    <tr>\n",
       "      <th>5</th>\n",
       "      <td>(Milk)</td>\n",
       "      <td>(Butter)</td>\n",
       "      <td>0.8</td>\n",
       "      <td>0.8</td>\n",
       "      <td>0.6</td>\n",
       "      <td>0.75</td>\n",
       "      <td>0.9375</td>\n",
       "      <td>1.0</td>\n",
       "      <td>-0.04</td>\n",
       "      <td>0.8</td>\n",
       "      <td>-0.25</td>\n",
       "      <td>0.6</td>\n",
       "      <td>-0.25</td>\n",
       "      <td>0.75</td>\n",
       "    </tr>\n",
       "  </tbody>\n",
       "</table>\n",
       "</div>"
      ],
      "text/plain": [
       "  antecedents consequents  antecedent support  consequent support  support  \\\n",
       "0    (Butter)     (Bread)                 0.8                 0.8      0.6   \n",
       "1     (Bread)    (Butter)                 0.8                 0.8      0.6   \n",
       "2     (Bread)      (Milk)                 0.8                 0.8      0.6   \n",
       "3      (Milk)     (Bread)                 0.8                 0.8      0.6   \n",
       "4    (Butter)      (Milk)                 0.8                 0.8      0.6   \n",
       "5      (Milk)    (Butter)                 0.8                 0.8      0.6   \n",
       "\n",
       "   confidence    lift  representativity  leverage  conviction  zhangs_metric  \\\n",
       "0        0.75  0.9375               1.0     -0.04         0.8          -0.25   \n",
       "1        0.75  0.9375               1.0     -0.04         0.8          -0.25   \n",
       "2        0.75  0.9375               1.0     -0.04         0.8          -0.25   \n",
       "3        0.75  0.9375               1.0     -0.04         0.8          -0.25   \n",
       "4        0.75  0.9375               1.0     -0.04         0.8          -0.25   \n",
       "5        0.75  0.9375               1.0     -0.04         0.8          -0.25   \n",
       "\n",
       "   jaccard  certainty  kulczynski  \n",
       "0      0.6      -0.25        0.75  \n",
       "1      0.6      -0.25        0.75  \n",
       "2      0.6      -0.25        0.75  \n",
       "3      0.6      -0.25        0.75  \n",
       "4      0.6      -0.25        0.75  \n",
       "5      0.6      -0.25        0.75  "
      ]
     },
     "execution_count": 8,
     "metadata": {},
     "output_type": "execute_result"
    }
   ],
   "source": [
    "# Generate association rules\n",
    "rules = association_rules(frequent_itemsets, metric = \"confidence\", min_threshold = 0.7)\n",
    "print(\"\\nAssociation Rules:\")\n",
    "rules"
   ]
  }
 ],
 "metadata": {
  "kernelspec": {
   "display_name": "myenv",
   "language": "python",
   "name": "python3"
  },
  "language_info": {
   "codemirror_mode": {
    "name": "ipython",
    "version": 3
   },
   "file_extension": ".py",
   "mimetype": "text/x-python",
   "name": "python",
   "nbconvert_exporter": "python",
   "pygments_lexer": "ipython3",
   "version": "3.13.2"
  }
 },
 "nbformat": 4,
 "nbformat_minor": 2
}

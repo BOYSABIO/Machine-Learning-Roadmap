{
 "cells": [
  {
   "cell_type": "markdown",
   "metadata": {},
   "source": [
    "### Practice Questions for Datatypes"
   ]
  },
  {
   "cell_type": "markdown",
   "metadata": {},
   "source": [
    "\n",
    "### Task:\n",
    "- Load the CSV file.\n",
    "- Determine the category with the highest total `Quantity Sold`.\n",
    "\n",
    "---\n",
    "\n",
    "### 2. Unstructured Data:\n",
    "You have two folders named `cat_pics` and `dog_pics`. Each folder contains random images.\n",
    "\n",
    "### Task:\n",
    "- Count the number of images in each folder.\n",
    "\n",
    "---\n",
    "\n",
    "### 3. Semi-Structured Data:\n",
    "Parse a JSON file (`customer_reviews.json`) containing customer reviews."
   ]
  },
  {
   "cell_type": "code",
   "execution_count": 6,
   "metadata": {},
   "outputs": [
    {
     "name": "stdout",
     "output_type": "stream",
     "text": [
      "   Product ID     Category  Quantity Sold\n",
      "0         101  Electronics            150\n",
      "1         102    Furniture            300\n",
      "2         103     Clothing            250\n",
      "3         104  Electronics            200\n",
      "4         105    Furniture            120\n",
      "5         106     Clothing            400\n",
      "6         107  Electronics            350\n",
      "7         108    Furniture            180\n",
      "8         109     Clothing            220\n"
     ]
    },
    {
     "data": {
      "text/plain": [
       "5    Clothing\n",
       "Name: Category, dtype: object"
      ]
     },
     "execution_count": 6,
     "metadata": {},
     "output_type": "execute_result"
    }
   ],
   "source": [
    "import pandas as pd\n",
    "\n",
    "df = pd.read_csv('CSV/datatypes.csv')\n",
    "\n",
    "print(df)\n",
    "\n",
    "df[df['Quantity Sold'] == df['Quantity Sold'].max()]['Category']"
   ]
  },
  {
   "cell_type": "code",
   "execution_count": 8,
   "metadata": {},
   "outputs": [
    {
     "name": "stdout",
     "output_type": "stream",
     "text": [
      "The most popular product category is: Clothing\n"
     ]
    }
   ],
   "source": [
    "most_popular = df[df['Quantity Sold'] == df['Quantity Sold'].max()]['Category'].iloc[0]\n",
    "print(f'The most popular product category is: {most_popular}')"
   ]
  },
  {
   "cell_type": "code",
   "execution_count": 9,
   "metadata": {},
   "outputs": [
    {
     "name": "stdout",
     "output_type": "stream",
     "text": [
      "Number of images: 3\n"
     ]
    }
   ],
   "source": [
    "import os\n",
    "import glob\n",
    "\n",
    "def count_images(folder_path):\n",
    "    image_extensions = ['*.jpg', '*.jpeg', '*.png', '*.gif', '*.bmp', '*.tiff']\n",
    "    image_files = []\n",
    "\n",
    "    for extension in image_extensions:\n",
    "        image_files.extend(glob.glob(os.path.join(folder_path, extension)))\n",
    "\n",
    "    return len(image_files)\n",
    "\n",
    "folder_path = 'IMAGES'\n",
    "print(f'Number of images: {count_images(folder_path)}')"
   ]
  },
  {
   "cell_type": "code",
   "execution_count": 10,
   "metadata": {},
   "outputs": [
    {
     "name": "stdout",
     "output_type": "stream",
     "text": [
      "Number of images: 3\n"
     ]
    }
   ],
   "source": [
    "if not os.path.exists(folder_path):\n",
    "    print(f\"Folder not found: {folder_path}\")\n",
    "else:\n",
    "    num_images = count_images(folder_path)\n",
    "    print(f\"Number of images: {num_images}\")"
   ]
  },
  {
   "cell_type": "code",
   "execution_count": 12,
   "metadata": {},
   "outputs": [
    {
     "data": {
      "text/html": [
       "<div>\n",
       "<style scoped>\n",
       "    .dataframe tbody tr th:only-of-type {\n",
       "        vertical-align: middle;\n",
       "    }\n",
       "\n",
       "    .dataframe tbody tr th {\n",
       "        vertical-align: top;\n",
       "    }\n",
       "\n",
       "    .dataframe thead th {\n",
       "        text-align: right;\n",
       "    }\n",
       "</style>\n",
       "<table border=\"1\" class=\"dataframe\">\n",
       "  <thead>\n",
       "    <tr style=\"text-align: right;\">\n",
       "      <th></th>\n",
       "      <th>review_id</th>\n",
       "      <th>rating</th>\n",
       "      <th>comment</th>\n",
       "    </tr>\n",
       "  </thead>\n",
       "  <tbody>\n",
       "    <tr>\n",
       "      <th>0</th>\n",
       "      <td>1</td>\n",
       "      <td>4</td>\n",
       "      <td>Great product!</td>\n",
       "    </tr>\n",
       "    <tr>\n",
       "      <th>1</th>\n",
       "      <td>2</td>\n",
       "      <td>5</td>\n",
       "      <td>Loved it!</td>\n",
       "    </tr>\n",
       "    <tr>\n",
       "      <th>2</th>\n",
       "      <td>3</td>\n",
       "      <td>3</td>\n",
       "      <td>It was okay.</td>\n",
       "    </tr>\n",
       "  </tbody>\n",
       "</table>\n",
       "</div>"
      ],
      "text/plain": [
       "   review_id  rating         comment\n",
       "0          1       4  Great product!\n",
       "1          2       5       Loved it!\n",
       "2          3       3    It was okay."
      ]
     },
     "execution_count": 12,
     "metadata": {},
     "output_type": "execute_result"
    }
   ],
   "source": [
    "import pandas as pd\n",
    "\n",
    "df = pd.read_json('JSON/datatypes.json')\n",
    "\n",
    "df"
   ]
  },
  {
   "cell_type": "code",
   "execution_count": 13,
   "metadata": {},
   "outputs": [
    {
     "name": "stdout",
     "output_type": "stream",
     "text": [
      "The average customer rating is: 4.0\n"
     ]
    }
   ],
   "source": [
    "average_rating = df['rating'].mean()\n",
    "print(f'The average customer rating is: {average_rating}')"
   ]
  }
 ],
 "metadata": {
  "kernelspec": {
   "display_name": "Python 3",
   "language": "python",
   "name": "python3"
  },
  "language_info": {
   "codemirror_mode": {
    "name": "ipython",
    "version": 3
   },
   "file_extension": ".py",
   "mimetype": "text/x-python",
   "name": "python",
   "nbconvert_exporter": "python",
   "pygments_lexer": "ipython3",
   "version": "3.10.6"
  }
 },
 "nbformat": 4,
 "nbformat_minor": 2
}

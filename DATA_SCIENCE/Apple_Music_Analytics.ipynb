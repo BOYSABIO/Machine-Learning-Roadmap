{
 "cells": [
  {
   "cell_type": "markdown",
   "metadata": {
    "cell_id": "00000-7315c1ec-b779-4b4f-9e39-5203768d01f3",
    "deepnote_cell_type": "text-cell-h1",
    "tags": []
   },
   "source": [
    "# 🎵 Apple Music Stream Data Analysis"
   ]
  },
  {
   "cell_type": "markdown",
   "metadata": {
    "cell_id": "00001-19e4ad05-b835-4ec0-abd8-afdfab47a86c",
    "deepnote_cell_type": "text-cell-p",
    "tags": []
   },
   "source": [
    "In this project, we are going to explore my personal music streaming data from Apple Music. Apple Music is a music and video streaming service developed by Apple Inc. The dataset used here showcases my personal streaming on the platform. "
   ]
  },
  {
   "cell_type": "markdown",
   "metadata": {
    "cell_id": "00002-f0386bec-1135-4297-8400-ad9c145c7506",
    "deepnote_cell_type": "markdown",
    "tags": []
   },
   "source": [
    "We can see many things in the dataset like\n",
    "\n",
    "- List of songs played\n",
    "- List of Singers/Artists\n",
    "- Start time and position of songs\n",
    "- Music Labels\n",
    "\n",
    "and much more. \n",
    "\n",
    "I got this data from Apple's privacy website."
   ]
  },
  {
   "cell_type": "markdown",
   "metadata": {
    "cell_id": "00002-701cd7b3-42a7-4e48-ac9b-4c3fc8dcbe3a",
    "deepnote_cell_type": "markdown",
    "tags": []
   },
   "source": [
    "## Requesting and downloading data\n",
    "\n",
    "Follow these steps request your personal data from apple\n",
    "- Go to privacy.apple.com\n",
    "- Log in to your account\n",
    "- Click on **Request a copy of your data**\n",
    "- Be sure to check mark on **Apple Media Services Information** and click on continue at bottom\n",
    "- Choose default size and click on **Complete Request**\n",
    "\n",
    "Check the below screenshots for reference"
   ]
  },
  {
   "cell_type": "markdown",
   "metadata": {
    "cell_id": "00003-c0fbcb43-a260-4d2f-83e6-758a514efbaa",
    "deepnote_cell_type": "markdown",
    "tags": []
   },
   "source": [
    "![Picture title](image-20210605-194813.png)"
   ]
  },
  {
   "cell_type": "markdown",
   "metadata": {
    "cell_id": "00005-4647447b-510c-486d-9b00-e334958ef9f0",
    "deepnote_cell_type": "markdown",
    "tags": []
   },
   "source": [
    "![Picture title](image-20210605-194845.png)"
   ]
  },
  {
   "cell_type": "markdown",
   "metadata": {
    "cell_id": "00007-41473e64-ee82-4aa1-a148-0ffb4d0b11d5",
    "deepnote_cell_type": "markdown",
    "tags": []
   },
   "source": [
    "![Picture title](image-20210605-194900.png)"
   ]
  },
  {
   "cell_type": "markdown",
   "metadata": {
    "cell_id": "00003-7a010497-02e4-40d5-b26e-0cd0cee493ac",
    "deepnote_cell_type": "markdown",
    "tags": []
   },
   "source": [
    "## Data Preparation and cleaning\n",
    "\n",
    "\n",
    "Steps:-\n",
    "\n",
    "1. Load the dataset (csv file)\n",
    "2. Check for shape and columns of dataframe\n",
    "3. Check for missing values\n",
    "4. Check the basic statistics of columns\n"
   ]
  },
  {
   "cell_type": "code",
   "execution_count": null,
   "metadata": {
    "cell_id": "00000-158d9353-18f9-4d51-8be8-3a513fad36f2",
    "deepnote_cell_type": "code",
    "deepnote_to_be_reexecuted": false,
    "execution": {
     "iopub.execute_input": "2021-06-10T04:44:50.803541Z",
     "iopub.status.busy": "2021-06-10T04:44:50.803192Z",
     "iopub.status.idle": "2021-06-10T04:44:50.808613Z",
     "shell.execute_reply": "2021-06-10T04:44:50.807601Z",
     "shell.execute_reply.started": "2021-06-10T04:44:50.803507Z"
    },
    "execution_millis": 3,
    "execution_start": 1623051219275,
    "source_hash": "89db510f",
    "tags": [],
    "trusted": true
   },
   "outputs": [],
   "source": [
    "file_path = '../input/applemusicstreaming/Apple Music Play Activity.csv'"
   ]
  },
  {
   "cell_type": "code",
   "execution_count": null,
   "metadata": {
    "cell_id": "00005-d8705162-1a41-43bb-b4c3-fda45a032df1",
    "deepnote_cell_type": "code",
    "deepnote_to_be_reexecuted": false,
    "execution": {
     "iopub.execute_input": "2021-06-10T04:44:50.811194Z",
     "iopub.status.busy": "2021-06-10T04:44:50.810621Z",
     "iopub.status.idle": "2021-06-10T04:44:57.387453Z",
     "shell.execute_reply": "2021-06-10T04:44:57.386189Z",
     "shell.execute_reply.started": "2021-06-10T04:44:50.811144Z"
    },
    "execution_millis": 6445,
    "execution_start": 1623051219283,
    "source_hash": "33b5eb1e",
    "tags": [],
    "trusted": true
   },
   "outputs": [],
   "source": [
    "# Install plotly express if not already installed\n",
    "!pip install plotly_express --quiet"
   ]
  },
  {
   "cell_type": "code",
   "execution_count": null,
   "metadata": {
    "allow_embed": "code_output",
    "cell_id": "00001-e9a001b0-d55f-4d3e-bed3-26b32fc6be5d",
    "deepnote_cell_type": "code",
    "deepnote_to_be_reexecuted": false,
    "execution": {
     "iopub.execute_input": "2021-06-10T04:44:57.389645Z",
     "iopub.status.busy": "2021-06-10T04:44:57.38928Z",
     "iopub.status.idle": "2021-06-10T04:44:59.526302Z",
     "shell.execute_reply": "2021-06-10T04:44:59.525181Z",
     "shell.execute_reply.started": "2021-06-10T04:44:57.389609Z"
    },
    "execution_millis": 1692,
    "execution_start": 1623051225734,
    "source_hash": "6b3a9b55",
    "tags": [],
    "trusted": true
   },
   "outputs": [],
   "source": [
    "import numpy as np\n",
    "import pandas as pd\n",
    "import matplotlib.pyplot as plt\n",
    "import seaborn as sns\n",
    "import plotly_express as px\n",
    "\n",
    "pd.set_option('display.max_columns', None)"
   ]
  },
  {
   "cell_type": "code",
   "execution_count": null,
   "metadata": {
    "cell_id": "00007-b3b3bebd-c352-4c03-be7f-1074cbecbc32",
    "deepnote_cell_type": "code",
    "deepnote_to_be_reexecuted": false,
    "execution": {
     "iopub.execute_input": "2021-06-10T04:44:59.532098Z",
     "iopub.status.busy": "2021-06-10T04:44:59.53171Z",
     "iopub.status.idle": "2021-06-10T04:44:59.536986Z",
     "shell.execute_reply": "2021-06-10T04:44:59.535367Z",
     "shell.execute_reply.started": "2021-06-10T04:44:59.532064Z"
    },
    "execution_millis": 1,
    "execution_start": 1623051227431,
    "source_hash": "67cfebb3",
    "tags": [],
    "trusted": true
   },
   "outputs": [],
   "source": [
    "from matplotlib import rcParams\n",
    "# figure size in inches\n",
    "rcParams['figure.figsize'] = 12, 8"
   ]
  },
  {
   "cell_type": "code",
   "execution_count": null,
   "metadata": {
    "allow_embed": "code_output",
    "cell_id": "00002-7f3d0c8f-1e95-4461-a02a-bcaa6aed74f4",
    "deepnote_cell_type": "code",
    "deepnote_to_be_reexecuted": false,
    "execution": {
     "iopub.execute_input": "2021-06-10T04:44:59.541845Z",
     "iopub.status.busy": "2021-06-10T04:44:59.541434Z",
     "iopub.status.idle": "2021-06-10T04:45:00.037972Z",
     "shell.execute_reply": "2021-06-10T04:45:00.036906Z",
     "shell.execute_reply.started": "2021-06-10T04:44:59.541812Z"
    },
    "execution_millis": 221,
    "execution_start": 1623051227437,
    "source_hash": "793a2264",
    "tags": [],
    "trusted": true
   },
   "outputs": [],
   "source": [
    "music_df = pd.read_csv(file_path)"
   ]
  },
  {
   "cell_type": "code",
   "execution_count": null,
   "metadata": {
    "cell_id": "00003-79088d29-67ed-4d29-95f7-e4fa6f4a9daa",
    "deepnote_cell_type": "code",
    "deepnote_to_be_reexecuted": false,
    "execution": {
     "iopub.execute_input": "2021-06-10T04:45:00.039998Z",
     "iopub.status.busy": "2021-06-10T04:45:00.039561Z",
     "iopub.status.idle": "2021-06-10T04:45:00.107425Z",
     "shell.execute_reply": "2021-06-10T04:45:00.106077Z",
     "shell.execute_reply.started": "2021-06-10T04:45:00.039955Z"
    },
    "execution_millis": 135,
    "execution_start": 1623051227680,
    "source_hash": "366b6df",
    "tags": [],
    "trusted": true
   },
   "outputs": [],
   "source": [
    "music_df.head()"
   ]
  },
  {
   "cell_type": "code",
   "execution_count": null,
   "metadata": {
    "cell_id": "00004-379ce751-d121-465b-9758-0a25d0b2ad06",
    "deepnote_cell_type": "code",
    "deepnote_to_be_reexecuted": false,
    "execution": {
     "iopub.execute_input": "2021-06-10T04:45:00.109913Z",
     "iopub.status.busy": "2021-06-10T04:45:00.109225Z",
     "iopub.status.idle": "2021-06-10T04:45:00.117121Z",
     "shell.execute_reply": "2021-06-10T04:45:00.115908Z",
     "shell.execute_reply.started": "2021-06-10T04:45:00.109862Z"
    },
    "execution_millis": 3,
    "execution_start": 1623051227796,
    "source_hash": "94595692",
    "tags": [],
    "trusted": true
   },
   "outputs": [],
   "source": [
    "print(\"Rows x Columns: {}\".format(music_df.shape))"
   ]
  },
  {
   "cell_type": "code",
   "execution_count": null,
   "metadata": {
    "cell_id": "00010-b7ad52b4-a939-47f7-8c0b-7c196eabbe0b",
    "deepnote_cell_type": "code",
    "deepnote_to_be_reexecuted": false,
    "execution": {
     "iopub.execute_input": "2021-06-10T04:45:00.119581Z",
     "iopub.status.busy": "2021-06-10T04:45:00.118866Z",
     "iopub.status.idle": "2021-06-10T04:45:00.13424Z",
     "shell.execute_reply": "2021-06-10T04:45:00.132954Z",
     "shell.execute_reply.started": "2021-06-10T04:45:00.119531Z"
    },
    "execution_millis": 15,
    "execution_start": 1623051227804,
    "source_hash": "585e713b",
    "tags": [],
    "trusted": true
   },
   "outputs": [],
   "source": [
    "# check for available columns\n",
    "music_df.columns.to_list()"
   ]
  },
  {
   "cell_type": "markdown",
   "metadata": {
    "cell_id": "00010-7953f536-9d84-4be9-8d93-bf9e02c72988",
    "deepnote_cell_type": "text-cell-p",
    "tags": []
   },
   "source": [
    "display basic statistics of numerical variables"
   ]
  },
  {
   "cell_type": "code",
   "execution_count": null,
   "metadata": {
    "cell_id": "00010-b8b372dc-2016-430d-9eba-9a39aa4da6af",
    "deepnote_cell_type": "code",
    "deepnote_to_be_reexecuted": false,
    "execution": {
     "iopub.execute_input": "2021-06-10T04:45:00.136863Z",
     "iopub.status.busy": "2021-06-10T04:45:00.136228Z",
     "iopub.status.idle": "2021-06-10T04:45:00.244852Z",
     "shell.execute_reply": "2021-06-10T04:45:00.243778Z",
     "shell.execute_reply.started": "2021-06-10T04:45:00.136826Z"
    },
    "execution_millis": 159,
    "execution_start": 1623051227811,
    "source_hash": "7c7b550d",
    "tags": [],
    "trusted": true
   },
   "outputs": [],
   "source": [
    "music_df.describe()"
   ]
  },
  {
   "cell_type": "code",
   "execution_count": null,
   "metadata": {
    "cell_id": "00011-3c46ead6-0e7e-4834-b676-67e015cbdbd2",
    "deepnote_cell_type": "code",
    "deepnote_to_be_reexecuted": false,
    "execution": {
     "iopub.execute_input": "2021-06-10T04:45:00.246748Z",
     "iopub.status.busy": "2021-06-10T04:45:00.246419Z",
     "iopub.status.idle": "2021-06-10T04:45:00.310206Z",
     "shell.execute_reply": "2021-06-10T04:45:00.309363Z",
     "shell.execute_reply.started": "2021-06-10T04:45:00.246718Z"
    },
    "execution_millis": 60,
    "execution_start": 1623051227965,
    "source_hash": "1423676c",
    "tags": [],
    "trusted": true
   },
   "outputs": [],
   "source": [
    "music_df.info()"
   ]
  },
  {
   "cell_type": "markdown",
   "metadata": {
    "cell_id": "00013-866d8e98-b149-4e6e-84ab-c98d0636272d",
    "deepnote_cell_type": "text-cell-p",
    "tags": []
   },
   "source": [
    "Check for the no. of missing values in each column"
   ]
  },
  {
   "cell_type": "code",
   "execution_count": null,
   "metadata": {
    "cell_id": "00012-c063cd37-5961-4331-a557-4de2c2fc0d1b",
    "deepnote_cell_type": "code",
    "deepnote_to_be_reexecuted": false,
    "execution": {
     "iopub.execute_input": "2021-06-10T04:45:00.311872Z",
     "iopub.status.busy": "2021-06-10T04:45:00.311397Z",
     "iopub.status.idle": "2021-06-10T04:45:00.364056Z",
     "shell.execute_reply": "2021-06-10T04:45:00.362676Z",
     "shell.execute_reply.started": "2021-06-10T04:45:00.311834Z"
    },
    "execution_millis": 48,
    "execution_start": 1623051228076,
    "source_hash": "2e4bf63",
    "tags": [],
    "trusted": true
   },
   "outputs": [],
   "source": [
    "music_df.isnull().sum()"
   ]
  },
  {
   "cell_type": "code",
   "execution_count": null,
   "metadata": {
    "cell_id": "00016-14ce8bbd-cefe-4575-b620-f05fafcdf1a9",
    "deepnote_cell_type": "code",
    "deepnote_to_be_reexecuted": false,
    "execution": {
     "iopub.execute_input": "2021-06-10T04:45:00.366392Z",
     "iopub.status.busy": "2021-06-10T04:45:00.365924Z",
     "iopub.status.idle": "2021-06-10T04:45:02.575652Z",
     "shell.execute_reply": "2021-06-10T04:45:02.574812Z",
     "shell.execute_reply.started": "2021-06-10T04:45:00.366358Z"
    },
    "execution_millis": 2811,
    "execution_start": 1623051228119,
    "source_hash": "c22977e4",
    "tags": [],
    "trusted": true
   },
   "outputs": [],
   "source": [
    "sns.heatmap(music_df.isnull())\n",
    "plt.show()"
   ]
  },
  {
   "cell_type": "markdown",
   "metadata": {
    "cell_id": "00015-1003e21b-b7f0-4612-b212-44e60b0ce9ed",
    "deepnote_cell_type": "text-cell-p",
    "tags": []
   },
   "source": [
    "Our DataFrame many columns which have all the NULL values. Such columns have to be removed from the dataset.  Our goal should be making the above HeatMap as dark as possible (i.e without any white marks)"
   ]
  },
  {
   "cell_type": "code",
   "execution_count": null,
   "metadata": {
    "allow_embed": "code_output",
    "cell_id": "00015-3bdd2cc0-479c-4f8d-91d7-ea17fc81a986",
    "deepnote_cell_type": "code",
    "deepnote_to_be_reexecuted": false,
    "execution": {
     "iopub.execute_input": "2021-06-10T04:45:02.57728Z",
     "iopub.status.busy": "2021-06-10T04:45:02.576813Z",
     "iopub.status.idle": "2021-06-10T04:45:02.632842Z",
     "shell.execute_reply": "2021-06-10T04:45:02.63165Z",
     "shell.execute_reply.started": "2021-06-10T04:45:02.577247Z"
    },
    "execution_millis": 24,
    "execution_start": 1623051230924,
    "source_hash": "4db3dc7f",
    "tags": [],
    "trusted": true
   },
   "outputs": [],
   "source": [
    "nans = [col for col in music_df.columns if music_df[col].isnull().all()==True]"
   ]
  },
  {
   "cell_type": "code",
   "execution_count": null,
   "metadata": {
    "allow_embed": "code_output",
    "cell_id": "00018-7d831f73-f48c-433a-8565-0c3ae26a279a",
    "deepnote_cell_type": "code",
    "deepnote_to_be_reexecuted": false,
    "execution": {
     "iopub.execute_input": "2021-06-10T04:45:02.634458Z",
     "iopub.status.busy": "2021-06-10T04:45:02.634163Z",
     "iopub.status.idle": "2021-06-10T04:45:02.646241Z",
     "shell.execute_reply": "2021-06-10T04:45:02.644988Z",
     "shell.execute_reply.started": "2021-06-10T04:45:02.63443Z"
    },
    "execution_millis": 1,
    "execution_start": 1623051230994,
    "source_hash": "8838b338",
    "tags": [],
    "trusted": true
   },
   "outputs": [],
   "source": [
    "# drop the above columns from the dataframe\n",
    "music_df.drop(nans, axis=1, inplace=True)"
   ]
  },
  {
   "cell_type": "code",
   "execution_count": null,
   "metadata": {
    "cell_id": "00021-ce7b2ff0-da54-4f5b-a0f9-74b41670e673",
    "deepnote_cell_type": "code",
    "deepnote_to_be_reexecuted": false,
    "execution": {
     "iopub.execute_input": "2021-06-10T04:45:02.648278Z",
     "iopub.status.busy": "2021-06-10T04:45:02.64762Z",
     "iopub.status.idle": "2021-06-10T04:45:02.655776Z",
     "shell.execute_reply": "2021-06-10T04:45:02.654451Z",
     "shell.execute_reply.started": "2021-06-10T04:45:02.648242Z"
    },
    "execution_millis": 8,
    "execution_start": 1623051230995,
    "source_hash": "e2e8beb5",
    "tags": [],
    "trusted": true
   },
   "outputs": [],
   "source": [
    "# check for current shape of df\n",
    "music_df.shape"
   ]
  },
  {
   "cell_type": "markdown",
   "metadata": {
    "cell_id": "00022-d6ed4451-9718-41c2-b808-5b29b71b2f87",
    "deepnote_cell_type": "text-cell-p",
    "tags": []
   },
   "source": [
    "We have reduced our DataFrame columns from 45 cols -&gt; 30 cols"
   ]
  },
  {
   "cell_type": "code",
   "execution_count": null,
   "metadata": {
    "cell_id": "00019-d12dd195-5e86-43f5-8c74-e5c6e1a47e63",
    "deepnote_cell_type": "code",
    "deepnote_to_be_reexecuted": false,
    "execution": {
     "iopub.execute_input": "2021-06-10T04:45:02.658235Z",
     "iopub.status.busy": "2021-06-10T04:45:02.657737Z",
     "iopub.status.idle": "2021-06-10T04:45:02.714384Z",
     "shell.execute_reply": "2021-06-10T04:45:02.713216Z",
     "shell.execute_reply.started": "2021-06-10T04:45:02.65819Z"
    },
    "execution_millis": 7,
    "execution_start": 1623051230996,
    "source_hash": "2e4bf63",
    "tags": [],
    "trusted": true
   },
   "outputs": [],
   "source": [
    "music_df.isnull().sum()"
   ]
  },
  {
   "cell_type": "markdown",
   "metadata": {
    "cell_id": "00019-b69dd6d5-a07f-4b1d-98d0-65c0c1bc3d54",
    "deepnote_cell_type": "text-cell-p",
    "tags": []
   },
   "source": [
    "There are more columns like ID's which are not going to contribute much in our analysis. So we will drop these columns as well manually"
   ]
  },
  {
   "cell_type": "code",
   "execution_count": null,
   "metadata": {
    "allow_embed": "code_output",
    "cell_id": "00019-5eb1c056-123d-4f30-90ef-33de47acb92b",
    "deepnote_cell_type": "code",
    "deepnote_to_be_reexecuted": false,
    "execution": {
     "iopub.execute_input": "2021-06-10T04:45:02.71644Z",
     "iopub.status.busy": "2021-06-10T04:45:02.715826Z",
     "iopub.status.idle": "2021-06-10T04:45:02.727647Z",
     "shell.execute_reply": "2021-06-10T04:45:02.726517Z",
     "shell.execute_reply.started": "2021-06-10T04:45:02.716393Z"
    },
    "execution_millis": 9,
    "execution_start": 1623051230999,
    "source_hash": "165d10db",
    "tags": [],
    "trusted": true
   },
   "outputs": [],
   "source": [
    "to_delete = ['Apple Id Number', 'Build Version', 'Client IP Address', 'Device Identifier', 'Metrics Bucket Id', 'Metrics Client Id', 'UTC Offset In Seconds', 'Store Country Name']\n",
    "music_df.drop(to_delete, axis=1, inplace=True)"
   ]
  },
  {
   "cell_type": "code",
   "execution_count": null,
   "metadata": {
    "cell_id": "00029-8f8e9d98-20b8-4bdc-8c0e-e333c58c41c2",
    "deepnote_cell_type": "code",
    "deepnote_to_be_reexecuted": false,
    "execution": {
     "iopub.execute_input": "2021-06-10T04:45:02.729644Z",
     "iopub.status.busy": "2021-06-10T04:45:02.729205Z",
     "iopub.status.idle": "2021-06-10T04:45:02.771768Z",
     "shell.execute_reply": "2021-06-10T04:45:02.770582Z",
     "shell.execute_reply.started": "2021-06-10T04:45:02.729599Z"
    },
    "execution_millis": 14,
    "execution_start": 1623051231020,
    "source_hash": "2e4bf63",
    "tags": [],
    "trusted": true
   },
   "outputs": [],
   "source": [
    "music_df.isnull().sum()"
   ]
  },
  {
   "cell_type": "code",
   "execution_count": null,
   "metadata": {
    "cell_id": "00027-5a0ee383-cadc-4e68-8279-83e2aae71696",
    "deepnote_cell_type": "code",
    "deepnote_to_be_reexecuted": false,
    "execution": {
     "iopub.execute_input": "2021-06-10T04:45:02.773631Z",
     "iopub.status.busy": "2021-06-10T04:45:02.77317Z",
     "iopub.status.idle": "2021-06-10T04:45:02.78123Z",
     "shell.execute_reply": "2021-06-10T04:45:02.78018Z",
     "shell.execute_reply.started": "2021-06-10T04:45:02.773558Z"
    },
    "execution_millis": 10,
    "execution_start": 1623051231070,
    "source_hash": "3af4d8a",
    "tags": [],
    "trusted": true
   },
   "outputs": [],
   "source": [
    "music_df.shape"
   ]
  },
  {
   "cell_type": "markdown",
   "metadata": {
    "cell_id": "00028-5dca4eaa-dfb6-4fd7-88c0-8000906d9a8e",
    "deepnote_cell_type": "text-cell-h3",
    "tags": []
   },
   "source": [
    "### Converting timestamp columns to actual TimeStamp"
   ]
  },
  {
   "cell_type": "markdown",
   "metadata": {
    "cell_id": "00029-f24e63a3-ac8a-4a31-b8ec-a19270066829",
    "deepnote_cell_type": "text-cell-p",
    "tags": []
   },
   "source": [
    "Timestamp columns - Event End Timestamp, Event Start Timestamp, Event Received Timestamp are not exactly timestamp but string. We have to convert these columns into actual timestamps"
   ]
  },
  {
   "cell_type": "code",
   "execution_count": null,
   "metadata": {
    "allow_embed": "code_output",
    "cell_id": "00030-2bef2cf7-20aa-4449-a712-7b75f3dd55aa",
    "deepnote_cell_type": "code",
    "deepnote_to_be_reexecuted": false,
    "execution": {
     "iopub.execute_input": "2021-06-10T04:45:02.783292Z",
     "iopub.status.busy": "2021-06-10T04:45:02.782833Z",
     "iopub.status.idle": "2021-06-10T04:45:02.849089Z",
     "shell.execute_reply": "2021-06-10T04:45:02.847809Z",
     "shell.execute_reply.started": "2021-06-10T04:45:02.783247Z"
    },
    "execution_millis": 43,
    "execution_start": 1623051231071,
    "source_hash": "ce1eeb71",
    "tags": [],
    "trusted": true
   },
   "outputs": [],
   "source": [
    "music_df['Event End Timestamp'] = pd.to_datetime(music_df['Event End Timestamp'], format='%Y-%m-%dT%H:%M:%S')\n",
    "music_df['Event Received Timestamp'] = pd.to_datetime(music_df['Event Received Timestamp'], format='%Y-%m-%dT%H:%M:%S')\n",
    "music_df['Event Start Timestamp'] = pd.to_datetime(music_df['Event Start Timestamp'], format='%Y-%m-%dT%H:%M:%S')"
   ]
  },
  {
   "cell_type": "code",
   "execution_count": null,
   "metadata": {
    "cell_id": "00028-c97ba2b4-4ca8-458e-b64c-6ddc0214f398",
    "deepnote_cell_type": "code",
    "deepnote_to_be_reexecuted": false,
    "execution": {
     "iopub.execute_input": "2021-06-10T04:45:02.851442Z",
     "iopub.status.busy": "2021-06-10T04:45:02.850936Z",
     "iopub.status.idle": "2021-06-10T04:45:02.886261Z",
     "shell.execute_reply": "2021-06-10T04:45:02.885214Z",
     "shell.execute_reply.started": "2021-06-10T04:45:02.851394Z"
    },
    "execution_millis": 76,
    "execution_start": 1623051231135,
    "source_hash": "366b6df",
    "tags": [],
    "trusted": true
   },
   "outputs": [],
   "source": [
    "music_df.head()"
   ]
  },
  {
   "cell_type": "markdown",
   "metadata": {
    "cell_id": "00036-8f58d1a0-7e20-4d89-90c1-afb608409863",
    "deepnote_cell_type": "markdown",
    "tags": []
   },
   "source": [
    "## Data Analysis"
   ]
  },
  {
   "cell_type": "markdown",
   "metadata": {
    "cell_id": "00033-9fe39404-46a1-44cb-ae9c-dd5ef9be48df",
    "deepnote_cell_type": "markdown",
    "tags": []
   },
   "source": [
    "Questions to ask for data analysis\n",
    "\n",
    "1. Who are the top 10 favourite artists?\n",
    "2. Which are the top 10 songs played?\n",
    "3. Who are top 10 favourite content providers or music labels?\n",
    "4. Which are the top 10 songs that were listened for longest time?\n",
    "5. What is the reason of ending the song most?\n",
    "6. Which are your most loved genre?\n",
    "7. Which media type do you prefer most on Apple Music?\n",
    "8. Do you prefer listening to music when you are online/offline?\n",
    "9. What time do you prefer to listen music?\n",
    "10. Which was the most active month?\n",
    "11. Which was the most active year?\n",
    "12. Total time spent on the platform?"
   ]
  },
  {
   "cell_type": "markdown",
   "metadata": {
    "cell_id": "00038-7d79cf0e-1d77-42b9-a039-03ddb20a89c9",
    "deepnote_cell_type": "text-cell-h3",
    "tags": []
   },
   "source": [
    "### 1. Who are your top 10 favourite artists/singers/band?"
   ]
  },
  {
   "cell_type": "code",
   "execution_count": null,
   "metadata": {
    "cell_id": "00038-a6c211c8-c019-4e53-a53b-a5d9afc37568",
    "deepnote_cell_type": "code",
    "deepnote_to_be_reexecuted": false,
    "execution": {
     "iopub.execute_input": "2021-06-10T04:45:02.88863Z",
     "iopub.status.busy": "2021-06-10T04:45:02.888192Z",
     "iopub.status.idle": "2021-06-10T04:45:02.900785Z",
     "shell.execute_reply": "2021-06-10T04:45:02.899651Z",
     "shell.execute_reply.started": "2021-06-10T04:45:02.888583Z"
    },
    "execution_millis": 17,
    "execution_start": 1623051231206,
    "source_hash": "fca5dc78",
    "tags": [],
    "trusted": true
   },
   "outputs": [],
   "source": [
    "top_10_artist = music_df['Artist Name'].value_counts()[:10]"
   ]
  },
  {
   "cell_type": "code",
   "execution_count": null,
   "metadata": {
    "allow_embed": "code_output",
    "cell_id": "00037-1c5e90ee-2f32-4cf1-890a-8789bf82d0e4",
    "deepnote_cell_type": "code",
    "deepnote_to_be_reexecuted": false,
    "execution": {
     "iopub.execute_input": "2021-06-10T04:45:02.903082Z",
     "iopub.status.busy": "2021-06-10T04:45:02.902411Z",
     "iopub.status.idle": "2021-06-10T04:45:04.10501Z",
     "shell.execute_reply": "2021-06-10T04:45:04.10392Z",
     "shell.execute_reply.started": "2021-06-10T04:45:02.902982Z"
    },
    "execution_millis": 2009,
    "execution_start": 1623051231227,
    "source_hash": "114d620d",
    "tags": [],
    "trusted": true
   },
   "outputs": [],
   "source": [
    "fig = px.bar(top_10_artist, title=\"Top 10 favourite artists\", labels={\"index\":\"Artists\", 'value':\"No. of times song played\"}, color_discrete_sequence=px.colors.qualitative.Set2)\n",
    "fig.show()"
   ]
  },
  {
   "cell_type": "code",
   "execution_count": null,
   "metadata": {
    "cell_id": "00038-bf36a24e-d963-4521-ac39-b285b60186a1",
    "deepnote_cell_type": "code",
    "deepnote_to_be_reexecuted": false,
    "execution_millis": 12,
    "execution_start": 1623051233232,
    "source_hash": "b623e53d",
    "tags": []
   },
   "outputs": [],
   "source": []
  },
  {
   "cell_type": "markdown",
   "metadata": {
    "cell_id": "00042-4f2f31d5-25f6-4230-b45c-92e0b7f70016",
    "deepnote_cell_type": "text-cell-h3",
    "tags": []
   },
   "source": [
    "### 2. Which are the top 20 songs played? (favourite songs)"
   ]
  },
  {
   "cell_type": "code",
   "execution_count": null,
   "metadata": {
    "cell_id": "00039-2e2a0093-5813-4de5-953b-c2783b5a347d",
    "deepnote_cell_type": "code",
    "deepnote_to_be_reexecuted": false,
    "execution": {
     "iopub.execute_input": "2021-06-10T04:45:04.107303Z",
     "iopub.status.busy": "2021-06-10T04:45:04.106853Z",
     "iopub.status.idle": "2021-06-10T04:45:04.121319Z",
     "shell.execute_reply": "2021-06-10T04:45:04.120405Z",
     "shell.execute_reply.started": "2021-06-10T04:45:04.107258Z"
    },
    "execution_millis": 0,
    "execution_start": 1623051233258,
    "source_hash": "3b009fdf",
    "tags": [],
    "trusted": true
   },
   "outputs": [],
   "source": [
    "top_20_songs = music_df['Content Name'].value_counts()[:20]"
   ]
  },
  {
   "cell_type": "code",
   "execution_count": null,
   "metadata": {
    "cell_id": "00040-f60145c5-bd69-4ecd-bbda-c620a843f069",
    "deepnote_cell_type": "code",
    "deepnote_to_be_reexecuted": false,
    "execution": {
     "iopub.execute_input": "2021-06-10T04:45:04.123131Z",
     "iopub.status.busy": "2021-06-10T04:45:04.122598Z",
     "iopub.status.idle": "2021-06-10T04:45:04.135024Z",
     "shell.execute_reply": "2021-06-10T04:45:04.133687Z",
     "shell.execute_reply.started": "2021-06-10T04:45:04.123086Z"
    },
    "execution_millis": 0,
    "execution_start": 1623051233267,
    "source_hash": "77e9875f",
    "tags": [],
    "trusted": true
   },
   "outputs": [],
   "source": [
    "# (optional)\n",
    "# changing the name of longest song name\n",
    "as_list = top_20_songs.index.tolist()\n",
    "idx = as_list.index(\"I'm the One (feat. Justin Bieber, Quavo, Chance the Rapper & Lil Wayne)\")\n",
    "as_list[idx] = 'I am the one (ft. Justin Bieber)'\n",
    "top_20_songs.index = as_list"
   ]
  },
  {
   "cell_type": "code",
   "execution_count": null,
   "metadata": {
    "allow_embed": "code_output",
    "cell_id": "00040-007fbdd1-3b1e-4681-92e8-f0751d02147c",
    "deepnote_cell_type": "code",
    "deepnote_to_be_reexecuted": false,
    "execution": {
     "iopub.execute_input": "2021-06-10T04:45:04.137001Z",
     "iopub.status.busy": "2021-06-10T04:45:04.136475Z",
     "iopub.status.idle": "2021-06-10T04:45:04.22299Z",
     "shell.execute_reply": "2021-06-10T04:45:04.222168Z",
     "shell.execute_reply.started": "2021-06-10T04:45:04.136964Z"
    },
    "execution_millis": 94,
    "execution_start": 1623051233270,
    "source_hash": "fdc19414",
    "tags": [],
    "trusted": true
   },
   "outputs": [],
   "source": [
    "fig = px.bar(top_20_songs, title=\"Top 20 favourite songs\", labels={\"index\":\"Songs\", 'value':\"No. of times song played\"}, color_discrete_sequence=px.colors.qualitative.Bold)\n",
    "fig.update_xaxes(tickangle=22)\n",
    "fig.show()"
   ]
  },
  {
   "cell_type": "code",
   "execution_count": null,
   "metadata": {
    "cell_id": "00042-c5357c25-263f-4cd1-b979-6d0c827ba1f1",
    "deepnote_cell_type": "code",
    "deepnote_to_be_reexecuted": false,
    "execution_millis": 4,
    "execution_start": 1623051233331,
    "source_hash": "b623e53d",
    "tags": []
   },
   "outputs": [],
   "source": []
  },
  {
   "cell_type": "markdown",
   "metadata": {
    "cell_id": "00046-52e755e5-8d93-4efe-b42e-8fd87cedd983",
    "deepnote_cell_type": "text-cell-h3",
    "tags": []
   },
   "source": [
    "### 3. Which are the top 10 favourite content providers?"
   ]
  },
  {
   "cell_type": "code",
   "execution_count": null,
   "metadata": {
    "cell_id": "00048-8e1b8376-6019-4518-94af-b2617f0410a6",
    "deepnote_cell_type": "code",
    "deepnote_to_be_reexecuted": false,
    "execution": {
     "iopub.execute_input": "2021-06-10T04:45:04.224474Z",
     "iopub.status.busy": "2021-06-10T04:45:04.224071Z",
     "iopub.status.idle": "2021-06-10T04:45:04.234567Z",
     "shell.execute_reply": "2021-06-10T04:45:04.233525Z",
     "shell.execute_reply.started": "2021-06-10T04:45:04.224444Z"
    },
    "execution_millis": 3,
    "execution_start": 1623051233342,
    "source_hash": "31e4ba92",
    "tags": [],
    "trusted": true
   },
   "outputs": [],
   "source": [
    "top_10_labels = music_df['Content Provider'].value_counts()[:10]"
   ]
  },
  {
   "cell_type": "code",
   "execution_count": null,
   "metadata": {
    "cell_id": "00049-83bcecef-a7e0-481f-8b41-52ba35a340b0",
    "deepnote_cell_type": "code",
    "deepnote_to_be_reexecuted": false,
    "execution": {
     "iopub.execute_input": "2021-06-10T04:45:04.236655Z",
     "iopub.status.busy": "2021-06-10T04:45:04.236315Z",
     "iopub.status.idle": "2021-06-10T04:45:04.252581Z",
     "shell.execute_reply": "2021-06-10T04:45:04.251203Z",
     "shell.execute_reply.started": "2021-06-10T04:45:04.236623Z"
    },
    "execution_millis": 2,
    "execution_start": 1623051233351,
    "source_hash": "6b7c35ba",
    "tags": [],
    "trusted": true
   },
   "outputs": [],
   "source": [
    "# (optional)\n",
    "# changing the name of longest label name\n",
    "as_list = top_10_labels.index.tolist()\n",
    "idx = as_list.index(\"Super Cassettes Industries Pvt Limited a.k.a. T-Series\")\n",
    "as_list[idx] = 'T-Series'\n",
    "top_10_labels.index = as_list"
   ]
  },
  {
   "cell_type": "code",
   "execution_count": null,
   "metadata": {
    "allow_embed": "code_output",
    "cell_id": "00050-6f41789d-6878-4283-848b-8e7dbf263f55",
    "deepnote_cell_type": "code",
    "deepnote_to_be_reexecuted": false,
    "execution": {
     "iopub.execute_input": "2021-06-10T04:45:04.254551Z",
     "iopub.status.busy": "2021-06-10T04:45:04.254196Z",
     "iopub.status.idle": "2021-06-10T04:45:04.336053Z",
     "shell.execute_reply": "2021-06-10T04:45:04.335088Z",
     "shell.execute_reply.started": "2021-06-10T04:45:04.254507Z"
    },
    "execution_millis": 41,
    "execution_start": 1623051233398,
    "source_hash": "d666253",
    "tags": [],
    "trusted": true
   },
   "outputs": [],
   "source": [
    "fig = px.bar(top_10_labels, title=\"Top 20 favourite labels\", labels={\"index\":\"Music Labels\", 'value':\"No. of times song label played\"}, color_discrete_sequence=px.colors.qualitative.Pastel)\n",
    "fig.update_xaxes(tickangle=25)\n",
    "fig.show()"
   ]
  },
  {
   "cell_type": "markdown",
   "metadata": {
    "cell_id": "00047-e95811e0-70af-4fe9-8d50-9732106653a7",
    "deepnote_cell_type": "text-cell-p",
    "tags": []
   },
   "source": [
    "What are the top songs played from particular label?"
   ]
  },
  {
   "cell_type": "code",
   "execution_count": null,
   "metadata": {
    "allow_embed": "code",
    "cell_id": "00051-3bc94375-ba01-4235-be2f-7dd943d21967",
    "deepnote_cell_type": "code",
    "deepnote_to_be_reexecuted": false,
    "execution": {
     "iopub.execute_input": "2021-06-10T04:45:04.337872Z",
     "iopub.status.busy": "2021-06-10T04:45:04.337518Z",
     "iopub.status.idle": "2021-06-10T04:45:04.346247Z",
     "shell.execute_reply": "2021-06-10T04:45:04.345081Z",
     "shell.execute_reply.started": "2021-06-10T04:45:04.337841Z"
    },
    "execution_millis": 5,
    "execution_start": 1623051233444,
    "source_hash": "756ff8a2",
    "tags": [],
    "trusted": true
   },
   "outputs": [],
   "source": [
    "def top_10_song_of_label(label):\n",
    "    \"\"\"\n",
    "    Function to see what are the top musics played from particular label. \n",
    "    \"\"\"\n",
    "    # use groupby method and sort ascending\n",
    "    label_df = music_df[music_df['Content Provider'] == label]\n",
    "    top_10_song = label_df['Content Name'].value_counts()[:10]\n",
    "    print(top_10_song)\n",
    "    fig = px.bar(top_10_song, labels={\"index\": \"Song Names\", \"value\": \"No. of time song played\", \"variable\":\"Song name\"}, title=f\"Top songs from {label}\")\n",
    "    fig.show()"
   ]
  },
  {
   "cell_type": "code",
   "execution_count": null,
   "metadata": {
    "allow_embed": "code_output",
    "cell_id": "00048-49b92020-9af3-4ef1-b32a-67dd8ec9f085",
    "deepnote_cell_type": "code",
    "deepnote_to_be_reexecuted": false,
    "execution": {
     "iopub.execute_input": "2021-06-10T04:45:04.354641Z",
     "iopub.status.busy": "2021-06-10T04:45:04.35391Z",
     "iopub.status.idle": "2021-06-10T04:45:04.435693Z",
     "shell.execute_reply": "2021-06-10T04:45:04.434531Z",
     "shell.execute_reply.started": "2021-06-10T04:45:04.354587Z"
    },
    "execution_millis": 46,
    "execution_start": 1623051233497,
    "source_hash": "66a34174",
    "tags": [],
    "trusted": true
   },
   "outputs": [],
   "source": [
    "top_10_song_of_label('The Warner Music Group')"
   ]
  },
  {
   "cell_type": "code",
   "execution_count": null,
   "metadata": {
    "allow_embed": "code_output",
    "cell_id": "00050-0fc1e302-3dae-4ea2-9000-31b7d7914fc6",
    "deepnote_cell_type": "code",
    "deepnote_to_be_reexecuted": false,
    "execution": {
     "iopub.execute_input": "2021-06-10T04:45:04.437647Z",
     "iopub.status.busy": "2021-06-10T04:45:04.437332Z",
     "iopub.status.idle": "2021-06-10T04:45:04.518579Z",
     "shell.execute_reply": "2021-06-10T04:45:04.517465Z",
     "shell.execute_reply.started": "2021-06-10T04:45:04.437615Z"
    },
    "execution_millis": 32,
    "execution_start": 1623051233589,
    "source_hash": "44ec1681",
    "tags": [],
    "trusted": true
   },
   "outputs": [],
   "source": [
    "top_10_song_of_label('Super Cassettes Industries Pvt Limited a.k.a. T-Series')"
   ]
  },
  {
   "cell_type": "markdown",
   "metadata": {
    "cell_id": "00055-1cb5135d-d97e-42eb-ab55-71b1b80aefa7",
    "deepnote_cell_type": "text-cell-h3",
    "tags": []
   },
   "source": [
    "### 4. Which are the top 10 songs that were listened for longest time? "
   ]
  },
  {
   "cell_type": "code",
   "execution_count": null,
   "metadata": {
    "cell_id": "00052-b0ddb235-4d2e-4ae6-b29a-87fd9f9070a7",
    "deepnote_cell_type": "code",
    "deepnote_to_be_reexecuted": false,
    "execution": {
     "iopub.execute_input": "2021-06-10T04:45:04.520957Z",
     "iopub.status.busy": "2021-06-10T04:45:04.52051Z",
     "iopub.status.idle": "2021-06-10T04:45:04.534721Z",
     "shell.execute_reply": "2021-06-10T04:45:04.533382Z",
     "shell.execute_reply.started": "2021-06-10T04:45:04.520914Z"
    },
    "execution_millis": 3,
    "execution_start": 1623051233609,
    "source_hash": "219f8f65",
    "tags": [],
    "trusted": true
   },
   "outputs": [],
   "source": [
    "top_longest_played = music_df.groupby('Content Name')['Play Duration Milliseconds'].sum().sort_values(ascending=False)"
   ]
  },
  {
   "cell_type": "code",
   "execution_count": null,
   "metadata": {
    "cell_id": "00055-7bf6a253-40c9-4417-aa27-22802fb24945",
    "deepnote_cell_type": "code",
    "deepnote_to_be_reexecuted": false,
    "execution": {
     "iopub.execute_input": "2021-06-10T04:45:04.536778Z",
     "iopub.status.busy": "2021-06-10T04:45:04.536395Z",
     "iopub.status.idle": "2021-06-10T04:45:04.569523Z",
     "shell.execute_reply": "2021-06-10T04:45:04.56854Z",
     "shell.execute_reply.started": "2021-06-10T04:45:04.536744Z"
    },
    "execution_millis": 7,
    "execution_start": 1623051233616,
    "source_hash": "20f14bad",
    "tags": [],
    "trusted": true
   },
   "outputs": [],
   "source": [
    "# Converting milliseconds to minutes\n",
    "top_longest_played = top_longest_played / 60000"
   ]
  },
  {
   "cell_type": "code",
   "execution_count": null,
   "metadata": {
    "cell_id": "00055-3418c42b-8f42-4b38-88f0-aa2c2edf9cd1",
    "deepnote_cell_type": "code",
    "deepnote_to_be_reexecuted": false,
    "execution": {
     "iopub.execute_input": "2021-06-10T04:45:04.571508Z",
     "iopub.status.busy": "2021-06-10T04:45:04.57111Z",
     "iopub.status.idle": "2021-06-10T04:45:04.575877Z",
     "shell.execute_reply": "2021-06-10T04:45:04.574795Z",
     "shell.execute_reply.started": "2021-06-10T04:45:04.571468Z"
    },
    "execution_millis": 1,
    "execution_start": 1623051233628,
    "source_hash": "ac10499f",
    "tags": [],
    "trusted": true
   },
   "outputs": [],
   "source": [
    "colors = px.colors.qualitative"
   ]
  },
  {
   "cell_type": "code",
   "execution_count": null,
   "metadata": {
    "allow_embed": "code_output",
    "cell_id": "00055-8a4a5ce8-b138-44b7-858c-5cee271eafe9",
    "deepnote_cell_type": "code",
    "deepnote_to_be_reexecuted": false,
    "execution": {
     "iopub.execute_input": "2021-06-10T04:45:04.578342Z",
     "iopub.status.busy": "2021-06-10T04:45:04.577804Z",
     "iopub.status.idle": "2021-06-10T04:45:04.669526Z",
     "shell.execute_reply": "2021-06-10T04:45:04.668398Z",
     "shell.execute_reply.started": "2021-06-10T04:45:04.578294Z"
    },
    "execution_millis": 88,
    "execution_start": 1623051233643,
    "source_hash": "a86f9ae5",
    "tags": [],
    "trusted": true
   },
   "outputs": [],
   "source": [
    "fig = px.bar(top_longest_played[:10], labels={\"Content Name\": \"Song Names\", \"value\": \"Play Time (in mins)\", \"variable\":\"Duration\"}, color_discrete_sequence=colors.G10_r)\n",
    "fig.show()"
   ]
  },
  {
   "cell_type": "code",
   "execution_count": null,
   "metadata": {
    "cell_id": "00056-e43f20e8-a093-43b0-94a6-658c7ddb6976",
    "deepnote_cell_type": "code",
    "deepnote_to_be_reexecuted": false,
    "execution_millis": 1,
    "execution_start": 1623051233693,
    "source_hash": "b623e53d",
    "tags": []
   },
   "outputs": [],
   "source": []
  },
  {
   "cell_type": "markdown",
   "metadata": {
    "cell_id": "00061-1bd196d7-0996-49ba-9082-d7ad77416b21",
    "deepnote_cell_type": "text-cell-h3",
    "tags": []
   },
   "source": [
    "### 5.  What is the reason of ending the song most?"
   ]
  },
  {
   "cell_type": "code",
   "execution_count": null,
   "metadata": {
    "cell_id": "00063-9f40faf4-57d5-46c6-81d5-8d52b97d546b",
    "deepnote_cell_type": "code",
    "deepnote_to_be_reexecuted": false,
    "execution": {
     "iopub.execute_input": "2021-06-10T04:45:04.671683Z",
     "iopub.status.busy": "2021-06-10T04:45:04.671232Z",
     "iopub.status.idle": "2021-06-10T04:45:04.686847Z",
     "shell.execute_reply": "2021-06-10T04:45:04.685856Z",
     "shell.execute_reply.started": "2021-06-10T04:45:04.671637Z"
    },
    "execution_millis": 26,
    "execution_start": 1623051233705,
    "source_hash": "8d7c7783",
    "tags": [],
    "trusted": true
   },
   "outputs": [],
   "source": [
    "music_df['End Reason Type'].value_counts()"
   ]
  },
  {
   "cell_type": "code",
   "execution_count": null,
   "metadata": {
    "allow_embed": "output",
    "cell_id": "00063-7287d468-c1e3-4fd0-a570-2518dbe61fe3",
    "deepnote_cell_type": "code",
    "deepnote_to_be_reexecuted": false,
    "execution": {
     "iopub.execute_input": "2021-06-10T04:45:04.688387Z",
     "iopub.status.busy": "2021-06-10T04:45:04.688096Z",
     "iopub.status.idle": "2021-06-10T04:45:04.906524Z",
     "shell.execute_reply": "2021-06-10T04:45:04.905752Z",
     "shell.execute_reply.started": "2021-06-10T04:45:04.688359Z"
    },
    "execution_millis": 209,
    "execution_start": 1623051233715,
    "source_hash": "1ca5deec",
    "tags": [],
    "trusted": true
   },
   "outputs": [],
   "source": [
    "fig = px.pie(music_df, names='End Reason Type', color_discrete_sequence=colors.Set3)\n",
    "fig.show()"
   ]
  },
  {
   "cell_type": "markdown",
   "metadata": {
    "cell_id": "00063-10b5688a-50db-415a-a664-0e3c4cf6d785",
    "deepnote_cell_type": "text-cell-p",
    "tags": []
   },
   "source": [
    "I don't usually listen to full songs 😂"
   ]
  },
  {
   "cell_type": "code",
   "execution_count": null,
   "metadata": {
    "cell_id": "00063-0683be2b-faa7-4fed-81ed-9cd4ed27e3ce",
    "deepnote_cell_type": "code",
    "deepnote_to_be_reexecuted": false,
    "execution_millis": 84121683,
    "execution_start": 1623051233911,
    "source_hash": "b623e53d",
    "tags": []
   },
   "outputs": [],
   "source": []
  },
  {
   "cell_type": "markdown",
   "metadata": {
    "cell_id": "00065-521c59ba-07af-40da-bb74-b67c7702e978",
    "deepnote_cell_type": "text-cell-h3",
    "tags": []
   },
   "source": [
    "### 6. Which are your most loved genre?"
   ]
  },
  {
   "cell_type": "code",
   "execution_count": null,
   "metadata": {
    "cell_id": "00065-c0be49ec-3575-43b9-ba1d-0563748e7b70",
    "deepnote_cell_type": "code",
    "deepnote_to_be_reexecuted": false,
    "execution": {
     "iopub.execute_input": "2021-06-10T04:45:04.908033Z",
     "iopub.status.busy": "2021-06-10T04:45:04.907594Z",
     "iopub.status.idle": "2021-06-10T04:45:04.918121Z",
     "shell.execute_reply": "2021-06-10T04:45:04.917158Z",
     "shell.execute_reply.started": "2021-06-10T04:45:04.907994Z"
    },
    "execution_millis": 84121684,
    "execution_start": 1623051233912,
    "source_hash": "20994dd0",
    "tags": [],
    "trusted": true
   },
   "outputs": [],
   "source": [
    "top_genre = music_df.Genre.value_counts()[:10]"
   ]
  },
  {
   "cell_type": "code",
   "execution_count": null,
   "metadata": {
    "allow_embed": "code_output",
    "cell_id": "00063-06c1c10b-40b9-49c1-ab11-675892b00db4",
    "deepnote_cell_type": "code",
    "deepnote_to_be_reexecuted": false,
    "execution": {
     "iopub.execute_input": "2021-06-10T04:45:04.919949Z",
     "iopub.status.busy": "2021-06-10T04:45:04.919401Z",
     "iopub.status.idle": "2021-06-10T04:45:04.998447Z",
     "shell.execute_reply": "2021-06-10T04:45:04.997681Z",
     "shell.execute_reply.started": "2021-06-10T04:45:04.919905Z"
    },
    "execution_millis": 41,
    "execution_start": 1623051233915,
    "source_hash": "3ade738f",
    "tags": [],
    "trusted": true
   },
   "outputs": [],
   "source": [
    "fig = px.bar(top_genre, color_discrete_sequence=colors.T10_r)\n",
    "fig.show()"
   ]
  },
  {
   "cell_type": "code",
   "execution_count": null,
   "metadata": {
    "cell_id": "00068-f72b5c61-2ec8-4a72-a6d4-3815cc4465e4",
    "deepnote_cell_type": "code",
    "deepnote_to_be_reexecuted": false,
    "execution_millis": 0,
    "execution_start": 1623051233946,
    "source_hash": "b623e53d",
    "tags": []
   },
   "outputs": [],
   "source": []
  },
  {
   "cell_type": "markdown",
   "metadata": {
    "cell_id": "00069-923f5281-57eb-4dde-a744-2383a7bdc3ed",
    "deepnote_cell_type": "text-cell-h3",
    "tags": []
   },
   "source": [
    "### 7. Which media type do you prefer most on Apple Music?"
   ]
  },
  {
   "cell_type": "code",
   "execution_count": null,
   "metadata": {
    "allow_embed": "code_output",
    "cell_id": "00071-7738b62e-5c1c-43e1-a76f-569f5e09b3e6",
    "deepnote_cell_type": "code",
    "deepnote_to_be_reexecuted": false,
    "execution": {
     "iopub.execute_input": "2021-06-10T04:45:05.000089Z",
     "iopub.status.busy": "2021-06-10T04:45:04.999586Z",
     "iopub.status.idle": "2021-06-10T04:45:05.179256Z",
     "shell.execute_reply": "2021-06-10T04:45:05.17818Z",
     "shell.execute_reply.started": "2021-06-10T04:45:05.000054Z"
    },
    "execution_millis": 97,
    "execution_start": 1623051233993,
    "source_hash": "d2e9533e",
    "tags": [],
    "trusted": true
   },
   "outputs": [],
   "source": [
    "fig = px.pie(music_df, names='Media Type', color_discrete_sequence=colors.Dark2, title=\"Most preferable Media Type (eg. Audio/Video)\")\n",
    "fig.show()"
   ]
  },
  {
   "cell_type": "code",
   "execution_count": null,
   "metadata": {
    "cell_id": "00078-df41661d-6aaa-4070-a12e-6980e83907b6",
    "deepnote_cell_type": "code",
    "deepnote_to_be_reexecuted": false,
    "execution_millis": 84121656,
    "execution_start": 1623051234079,
    "source_hash": "b623e53d",
    "tags": []
   },
   "outputs": [],
   "source": []
  },
  {
   "cell_type": "markdown",
   "metadata": {
    "cell_id": "00085-b491938f-5005-4938-8a48-f752eb36a7f5",
    "deepnote_cell_type": "text-cell-h3",
    "tags": []
   },
   "source": [
    "### 8. Do you prefer listening to music when you are online/offline?"
   ]
  },
  {
   "cell_type": "code",
   "execution_count": null,
   "metadata": {
    "cell_id": "00086-7b2be043-2aa6-47fc-960f-28a2bfd32abd",
    "deepnote_cell_type": "code",
    "deepnote_to_be_reexecuted": false,
    "execution": {
     "iopub.execute_input": "2021-06-10T04:45:05.180848Z",
     "iopub.status.busy": "2021-06-10T04:45:05.180533Z",
     "iopub.status.idle": "2021-06-10T04:45:05.189235Z",
     "shell.execute_reply": "2021-06-10T04:45:05.188371Z",
     "shell.execute_reply.started": "2021-06-10T04:45:05.180817Z"
    },
    "execution_millis": 84121612,
    "execution_start": 1623051234126,
    "source_hash": "d0435f5",
    "tags": [],
    "trusted": true
   },
   "outputs": [],
   "source": [
    "music_df.Offline.value_counts()"
   ]
  },
  {
   "cell_type": "code",
   "execution_count": null,
   "metadata": {
    "allow_embed": "code_output",
    "cell_id": "00087-4f138ee9-2a5a-47a2-98ff-f08f81be1f42",
    "deepnote_cell_type": "code",
    "deepnote_to_be_reexecuted": false,
    "execution": {
     "iopub.execute_input": "2021-06-10T04:45:05.191001Z",
     "iopub.status.busy": "2021-06-10T04:45:05.19065Z",
     "iopub.status.idle": "2021-06-10T04:45:05.342289Z",
     "shell.execute_reply": "2021-06-10T04:45:05.341344Z",
     "shell.execute_reply.started": "2021-06-10T04:45:05.190933Z"
    },
    "execution_millis": 51,
    "execution_start": 1623051234127,
    "source_hash": "95869c27",
    "tags": [],
    "trusted": true
   },
   "outputs": [],
   "source": [
    "fig = px.pie(music_df, names=\"Offline\", title=\"Do you prefer listening to music Offline?\")\n",
    "fig.show()"
   ]
  },
  {
   "cell_type": "markdown",
   "metadata": {
    "cell_id": "00075-89e99475-028c-40ae-95ba-610fa8c40e9c",
    "deepnote_cell_type": "text-cell-p",
    "tags": []
   },
   "source": [
    "Yeah!! A Lot. Around 38% of the time, I like listening to songs when I am offline. Most probably, I close my eyes and feel the music. "
   ]
  },
  {
   "cell_type": "markdown",
   "metadata": {
    "cell_id": "00092-9fbe47bb-a616-4a2c-94e0-1c89c0624f79",
    "deepnote_cell_type": "text-cell-h3",
    "tags": []
   },
   "source": [
    "### 9. What time do you prefer to listen to music?"
   ]
  },
  {
   "cell_type": "code",
   "execution_count": null,
   "metadata": {
    "cell_id": "00091-278514d4-c592-468a-88bb-93dbb6749d85",
    "deepnote_cell_type": "code",
    "deepnote_to_be_reexecuted": false,
    "execution": {
     "iopub.execute_input": "2021-06-10T04:45:05.343971Z",
     "iopub.status.busy": "2021-06-10T04:45:05.343668Z",
     "iopub.status.idle": "2021-06-10T04:45:05.35354Z",
     "shell.execute_reply": "2021-06-10T04:45:05.352358Z",
     "shell.execute_reply.started": "2021-06-10T04:45:05.34394Z"
    },
    "execution_millis": 10,
    "execution_start": 1623051234207,
    "source_hash": "5342b775",
    "tags": [],
    "trusted": true
   },
   "outputs": [],
   "source": [
    "music_df['Event Start Timestamp']"
   ]
  },
  {
   "cell_type": "code",
   "execution_count": null,
   "metadata": {
    "cell_id": "00092-459e77a4-d51f-4e17-833a-12c7990d493b",
    "deepnote_cell_type": "code",
    "deepnote_to_be_reexecuted": false,
    "execution": {
     "iopub.execute_input": "2021-06-10T04:45:05.355609Z",
     "iopub.status.busy": "2021-06-10T04:45:05.355309Z",
     "iopub.status.idle": "2021-06-10T04:45:05.38655Z",
     "shell.execute_reply": "2021-06-10T04:45:05.38542Z",
     "shell.execute_reply.started": "2021-06-10T04:45:05.355581Z"
    },
    "execution_millis": 9,
    "execution_start": 1623051234208,
    "source_hash": "cdbfecf1",
    "tags": [],
    "trusted": true
   },
   "outputs": [],
   "source": [
    "# converting event start timestamp to separate time section\n",
    "music_df[\"Event Start Time\"] = music_df['Event Start Timestamp'].dt.time\n",
    "music_df[\"Event Start Time\"].head()"
   ]
  },
  {
   "cell_type": "code",
   "execution_count": null,
   "metadata": {
    "cell_id": "00080-431be44f-138a-4149-a7b1-ca9e0466bdfe",
    "deepnote_cell_type": "code",
    "deepnote_to_be_reexecuted": false,
    "execution": {
     "iopub.execute_input": "2021-06-10T04:45:05.388658Z",
     "iopub.status.busy": "2021-06-10T04:45:05.388198Z",
     "iopub.status.idle": "2021-06-10T04:45:05.407308Z",
     "shell.execute_reply": "2021-06-10T04:45:05.406092Z",
     "shell.execute_reply.started": "2021-06-10T04:45:05.38862Z"
    },
    "execution_millis": 1,
    "execution_start": 1623051234208,
    "source_hash": "67076ae1",
    "tags": [],
    "trusted": true
   },
   "outputs": [],
   "source": [
    "hours = music_df[\"Event Start Time\"].groupby(music_df[\"Event Start Timestamp\"].dt.hour).count()"
   ]
  },
  {
   "cell_type": "code",
   "execution_count": null,
   "metadata": {
    "allow_embed": "code_output",
    "cell_id": "00081-dab0ce4c-4a5a-4cef-ba51-589c7b882adf",
    "deepnote_cell_type": "code",
    "deepnote_to_be_reexecuted": false,
    "execution": {
     "iopub.execute_input": "2021-06-10T04:45:05.409612Z",
     "iopub.status.busy": "2021-06-10T04:45:05.408961Z",
     "iopub.status.idle": "2021-06-10T04:45:05.483195Z",
     "shell.execute_reply": "2021-06-10T04:45:05.482124Z",
     "shell.execute_reply.started": "2021-06-10T04:45:05.409569Z"
    },
    "execution_millis": 41,
    "execution_start": 1623051234241,
    "source_hash": "702316e1",
    "tags": [],
    "trusted": true
   },
   "outputs": [],
   "source": [
    "fig = px.bar(hours, title=\"Most active hours (24hr)\", labels={\"value\": \"count\", \"Event Start Timestamp\":\"Timings (hours)\"}, color_discrete_sequence=colors.Prism)\n",
    "fig.update_xaxes(dtick=1)\n",
    "fig.show()"
   ]
  },
  {
   "cell_type": "markdown",
   "metadata": {
    "cell_id": "00081-13e9e97d-10a3-45e7-87b9-90473845c7d2",
    "deepnote_cell_type": "text-cell-p",
    "tags": []
   },
   "source": [
    "Looks like I can hear music at any time from above graph. HAHA!! "
   ]
  },
  {
   "cell_type": "code",
   "execution_count": null,
   "metadata": {
    "cell_id": "00081-e7687267-2fa8-41b7-a0d4-072ca8c192b0",
    "deepnote_cell_type": "code",
    "deepnote_to_be_reexecuted": false,
    "execution_start": 1623051234285,
    "source_hash": "b623e53d",
    "tags": []
   },
   "outputs": [],
   "source": []
  },
  {
   "cell_type": "markdown",
   "metadata": {
    "cell_id": "00097-526384e0-d987-4cfd-8996-8f93d80c68a7",
    "deepnote_cell_type": "text-cell-h3",
    "tags": []
   },
   "source": [
    "### 10. What month have you listened to songs most?"
   ]
  },
  {
   "cell_type": "code",
   "execution_count": null,
   "metadata": {
    "cell_id": "00096-27bfe69e-83b0-4b3e-a287-35cc38031ff1",
    "deepnote_cell_type": "code",
    "deepnote_to_be_reexecuted": false,
    "execution": {
     "iopub.execute_input": "2021-06-10T04:45:05.484844Z",
     "iopub.status.busy": "2021-06-10T04:45:05.484541Z",
     "iopub.status.idle": "2021-06-10T04:45:05.495979Z",
     "shell.execute_reply": "2021-06-10T04:45:05.494756Z",
     "shell.execute_reply.started": "2021-06-10T04:45:05.484816Z"
    },
    "execution_millis": 0,
    "execution_start": 1623051234334,
    "source_hash": "75c83740",
    "tags": [],
    "trusted": true
   },
   "outputs": [],
   "source": [
    "months = music_df[\"Event Start Time\"].groupby(music_df[\"Event Start Timestamp\"].dt.month).count()"
   ]
  },
  {
   "cell_type": "code",
   "execution_count": null,
   "metadata": {
    "allow_embed": "code_output",
    "cell_id": "00097-5fb9300b-3841-4c67-9238-a8c606f7c70a",
    "deepnote_cell_type": "code",
    "deepnote_to_be_reexecuted": false,
    "execution": {
     "iopub.execute_input": "2021-06-10T04:45:05.497887Z",
     "iopub.status.busy": "2021-06-10T04:45:05.497572Z",
     "iopub.status.idle": "2021-06-10T04:45:05.576521Z",
     "shell.execute_reply": "2021-06-10T04:45:05.575586Z",
     "shell.execute_reply.started": "2021-06-10T04:45:05.497851Z"
    },
    "execution_millis": 50,
    "execution_start": 1623051281373,
    "source_hash": "7a91d688",
    "tags": [],
    "trusted": true
   },
   "outputs": [],
   "source": [
    "m = ['Jan', 'Feb', 'Mar', 'Apr', 'May', 'Jun', 'Jul', 'Aug', 'Sept', 'Oct', 'Nov','Dec']\n",
    "fig = px.bar(months, title=\"Most active Months\", text=m, labels={\"value\": \"count\", \"Event Start Timestamp\":\"Months\"}, color_discrete_sequence=colors.Light24)\n",
    "fig.update_xaxes(dtick=1)\n",
    "fig.show()"
   ]
  },
  {
   "cell_type": "code",
   "execution_count": null,
   "metadata": {
    "cell_id": "00099-890ae485-08b1-4fd2-a867-9963d84f242d",
    "deepnote_cell_type": "code",
    "deepnote_to_be_reexecuted": false,
    "execution_millis": 2,
    "execution_start": 1623051234364,
    "source_hash": "b623e53d",
    "tags": []
   },
   "outputs": [],
   "source": []
  },
  {
   "cell_type": "markdown",
   "metadata": {
    "cell_id": "00102-b8f08711-788e-482c-8964-672b5c95e283",
    "deepnote_cell_type": "text-cell-h3",
    "tags": []
   },
   "source": [
    "### 11. Which year have you listened to songs most on Apple Music?"
   ]
  },
  {
   "cell_type": "code",
   "execution_count": null,
   "metadata": {
    "cell_id": "00101-fab2a982-68fe-4f71-aa9b-5180d0bf2d37",
    "deepnote_cell_type": "code",
    "deepnote_to_be_reexecuted": false,
    "execution": {
     "iopub.execute_input": "2021-06-10T04:45:05.578809Z",
     "iopub.status.busy": "2021-06-10T04:45:05.578375Z",
     "iopub.status.idle": "2021-06-10T04:45:05.591985Z",
     "shell.execute_reply": "2021-06-10T04:45:05.590782Z",
     "shell.execute_reply.started": "2021-06-10T04:45:05.578765Z"
    },
    "execution_millis": 0,
    "execution_start": 1623051234414,
    "source_hash": "41c8f65c",
    "tags": [],
    "trusted": true
   },
   "outputs": [],
   "source": [
    "years = music_df[\"Event Start Time\"].groupby(music_df[\"Event Start Timestamp\"].dt.year).count()"
   ]
  },
  {
   "cell_type": "code",
   "execution_count": null,
   "metadata": {
    "allow_embed": "code_output",
    "cell_id": "00102-bf5913f2-383d-4db3-8083-1456d549914f",
    "deepnote_cell_type": "code",
    "deepnote_to_be_reexecuted": false,
    "execution": {
     "iopub.execute_input": "2021-06-10T04:45:05.594419Z",
     "iopub.status.busy": "2021-06-10T04:45:05.593862Z",
     "iopub.status.idle": "2021-06-10T04:45:05.672344Z",
     "shell.execute_reply": "2021-06-10T04:45:05.671367Z",
     "shell.execute_reply.started": "2021-06-10T04:45:05.594373Z"
    },
    "execution_millis": 38,
    "execution_start": 1623051234480,
    "source_hash": "4ac8fb2b",
    "tags": [],
    "trusted": true
   },
   "outputs": [],
   "source": [
    "fig = px.bar(years, title=\"Most active years\", labels={\"value\": \"count\", \"Event Start Timestamp\":\"Year\"}, color_discrete_sequence=colors.Prism_r)\n",
    "fig.update_xaxes(dtick=1)\n",
    "fig.show()"
   ]
  },
  {
   "cell_type": "code",
   "execution_count": null,
   "metadata": {
    "cell_id": "00093-65613b10-3ea0-4d48-87a5-580ea6945702",
    "deepnote_cell_type": "code",
    "deepnote_to_be_reexecuted": false,
    "execution_millis": 0,
    "execution_start": 1623051234540,
    "source_hash": "b623e53d",
    "tags": []
   },
   "outputs": [],
   "source": []
  },
  {
   "cell_type": "markdown",
   "metadata": {
    "cell_id": "00095-88114f7b-a09f-4976-a230-e3d51095f5a4",
    "deepnote_cell_type": "text-cell-h3",
    "tags": []
   },
   "source": [
    "### 12. Total time spent listening to&nbsp;music"
   ]
  },
  {
   "cell_type": "code",
   "execution_count": null,
   "metadata": {
    "cell_id": "00096-7d01073a-371b-46a3-858f-a00e927e609d",
    "deepnote_cell_type": "code",
    "deepnote_to_be_reexecuted": false,
    "execution": {
     "iopub.execute_input": "2021-06-10T04:45:05.673751Z",
     "iopub.status.busy": "2021-06-10T04:45:05.673458Z",
     "iopub.status.idle": "2021-06-10T04:45:05.67861Z",
     "shell.execute_reply": "2021-06-10T04:45:05.677695Z",
     "shell.execute_reply.started": "2021-06-10T04:45:05.673723Z"
    },
    "execution_millis": 1,
    "execution_start": 1623051234540,
    "source_hash": "6f277507",
    "tags": [],
    "trusted": true
   },
   "outputs": [],
   "source": [
    "total_time = music_df['Play Duration Milliseconds'].sum()"
   ]
  },
  {
   "cell_type": "code",
   "execution_count": null,
   "metadata": {
    "allow_embed": "code_output",
    "cell_id": "00097-1f1b85a6-67c2-4755-9ffa-042efd201eb3",
    "deepnote_cell_type": "code",
    "deepnote_to_be_reexecuted": false,
    "execution": {
     "iopub.execute_input": "2021-06-10T04:45:05.680348Z",
     "iopub.status.busy": "2021-06-10T04:45:05.680016Z",
     "iopub.status.idle": "2021-06-10T04:45:05.692603Z",
     "shell.execute_reply": "2021-06-10T04:45:05.691348Z",
     "shell.execute_reply.started": "2021-06-10T04:45:05.680319Z"
    },
    "execution_millis": 18,
    "execution_start": 1623051234541,
    "source_hash": "8eae6f95",
    "tags": [],
    "trusted": true
   },
   "outputs": [],
   "source": [
    "total_mins = total_time/60000\n",
    "print(\"Total minutes spent: {:.2f} mins\".format(total_mins))\n",
    "total_hours = total_mins/60\n",
    "print(\"Total hours spent: {:.2f} hours\".format(total_hours))"
   ]
  },
  {
   "cell_type": "code",
   "execution_count": null,
   "metadata": {
    "cell_id": "00098-ad375f10-8e08-4715-a722-2e70feb2ba65",
    "deepnote_cell_type": "code",
    "deepnote_to_be_reexecuted": false,
    "execution": {
     "iopub.execute_input": "2021-06-10T04:45:05.696115Z",
     "iopub.status.busy": "2021-06-10T04:45:05.695417Z",
     "iopub.status.idle": "2021-06-10T04:45:05.705397Z",
     "shell.execute_reply": "2021-06-10T04:45:05.704453Z",
     "shell.execute_reply.started": "2021-06-10T04:45:05.696057Z"
    },
    "execution_millis": 6,
    "execution_start": 1623051234542,
    "source_hash": "4971eea",
    "tags": [],
    "trusted": true
   },
   "outputs": [],
   "source": [
    "start_time = music_df['Event End Timestamp'].min()\n",
    "end_time = music_df['Event End Timestamp'].max()"
   ]
  },
  {
   "cell_type": "code",
   "execution_count": null,
   "metadata": {
    "cell_id": "00099-67e8277a-e726-4a0c-b811-c63874bd6c91",
    "deepnote_cell_type": "code",
    "deepnote_to_be_reexecuted": false,
    "execution": {
     "iopub.execute_input": "2021-06-10T04:45:05.7073Z",
     "iopub.status.busy": "2021-06-10T04:45:05.706826Z",
     "iopub.status.idle": "2021-06-10T04:45:05.7187Z",
     "shell.execute_reply": "2021-06-10T04:45:05.717712Z",
     "shell.execute_reply.started": "2021-06-10T04:45:05.707246Z"
    },
    "execution_millis": 1,
    "execution_start": 1623051234550,
    "source_hash": "92955a09",
    "tags": [],
    "trusted": true
   },
   "outputs": [],
   "source": [
    "total_possible_time = (end_time - start_time).days"
   ]
  },
  {
   "cell_type": "code",
   "execution_count": null,
   "metadata": {
    "allow_embed": "code_output",
    "cell_id": "00100-2ea36f1f-1917-42f5-9b56-590eef4d27ba",
    "deepnote_cell_type": "code",
    "deepnote_to_be_reexecuted": false,
    "execution": {
     "iopub.execute_input": "2021-06-10T04:45:05.720762Z",
     "iopub.status.busy": "2021-06-10T04:45:05.720359Z",
     "iopub.status.idle": "2021-06-10T04:45:05.732887Z",
     "shell.execute_reply": "2021-06-10T04:45:05.731647Z",
     "shell.execute_reply.started": "2021-06-10T04:45:05.720646Z"
    },
    "execution_millis": 23045,
    "execution_start": 1623051234594,
    "source_hash": "891dcf9a",
    "tags": [],
    "trusted": true
   },
   "outputs": [],
   "source": [
    "total_possible_hours = total_possible_time * 24\n",
    "print(\"Total possible time could be spent: {:.2f} hours\".format(total_possible_hours))"
   ]
  },
  {
   "cell_type": "code",
   "execution_count": null,
   "metadata": {
    "allow_embed": "output",
    "cell_id": "00101-d2c9509f-9d7e-44c5-85d0-0fd066fb6a17",
    "deepnote_cell_type": "code",
    "deepnote_to_be_reexecuted": false,
    "execution": {
     "iopub.execute_input": "2021-06-10T04:45:05.73464Z",
     "iopub.status.busy": "2021-06-10T04:45:05.7343Z",
     "iopub.status.idle": "2021-06-10T04:45:05.891313Z",
     "shell.execute_reply": "2021-06-10T04:45:05.890237Z",
     "shell.execute_reply.started": "2021-06-10T04:45:05.734601Z"
    },
    "execution_millis": 104,
    "execution_start": 1623051234595,
    "source_hash": "c70be7aa",
    "tags": [],
    "trusted": true
   },
   "outputs": [],
   "source": [
    "hours_spent_list = np.array([total_hours, total_possible_hours])\n",
    "hours_spent_list_labels = [\" Actual Hours Spent\", \"Possible Hours\"]\n",
    "\n",
    "fig, ax = plt.subplots(figsize=(12,6))\n",
    "ax.pie(hours_spent_list, labels= hours_spent_list_labels, autopct='%1.1f%%',  explode=[0.2,0.2], startangle=180, shadow = True);\n",
    "plt.title(\"Hours Spent Percentage\");"
   ]
  },
  {
   "cell_type": "code",
   "execution_count": null,
   "metadata": {
    "cell_id": "00102-a67d8693-e6b7-4b87-86cf-15de7e09e903",
    "deepnote_cell_type": "code",
    "deepnote_to_be_reexecuted": false,
    "execution_millis": 0,
    "execution_start": 1623051234715,
    "source_hash": "b623e53d",
    "tags": []
   },
   "outputs": [],
   "source": []
  },
  {
   "cell_type": "markdown",
   "metadata": {
    "cell_id": "00103-2961df9a-7fa6-4932-b392-2b3457fc2435",
    "deepnote_cell_type": "text-cell-h3",
    "tags": []
   },
   "source": [
    "### Daily average songs played"
   ]
  },
  {
   "cell_type": "code",
   "execution_count": null,
   "metadata": {
    "allow_embed": "code_output",
    "cell_id": "00104-feba3675-dcdd-4786-a5e4-782f646b42d4",
    "deepnote_cell_type": "code",
    "deepnote_to_be_reexecuted": false,
    "execution": {
     "iopub.execute_input": "2021-06-10T04:45:05.892761Z",
     "iopub.status.busy": "2021-06-10T04:45:05.892469Z",
     "iopub.status.idle": "2021-06-10T04:45:05.901879Z",
     "shell.execute_reply": "2021-06-10T04:45:05.9004Z",
     "shell.execute_reply.started": "2021-06-10T04:45:05.892734Z"
    },
    "execution_millis": 36,
    "execution_start": 1623051234715,
    "source_hash": "15bfac1b",
    "tags": [],
    "trusted": true
   },
   "outputs": [],
   "source": [
    "total_songs = music_df.shape[0]\n",
    "print(\"Daily average of songs played: {:.2f} songs\".format(total_songs/total_possible_time))"
   ]
  },
  {
   "cell_type": "code",
   "execution_count": null,
   "metadata": {
    "cell_id": "00105-efd8809c-34b5-4459-817c-ef227e5a09d3",
    "deepnote_cell_type": "code",
    "deepnote_to_be_reexecuted": false,
    "execution_millis": 20,
    "execution_start": 1623051234716,
    "source_hash": "b623e53d",
    "tags": []
   },
   "outputs": [],
   "source": []
  },
  {
   "cell_type": "markdown",
   "metadata": {
    "created_in_deepnote_cell": true,
    "deepnote_cell_type": "markdown",
    "tags": []
   },
   "source": [
    "<a style='text-decoration:none;line-height:16px;display:flex;color:#5B5B62;padding:10px;justify-content:end;' href='https://deepnote.com?utm_source=created-in-deepnote-cell&projectId=4597a1b6-de90-4f9a-b59d-60c2ea6c17ad' target=\"_blank\">\n",
    "<img alt='Created in deepnote.com' style='display:inline;max-height:16px;margin:0px;margin-right:7.5px;' src='data:image/svg+xml;base64,PD94bWwgdmVyc2lvbj0iMS4wIiBlbmNvZGluZz0iVVRGLTgiPz4KPHN2ZyB3aWR0aD0iODBweCIgaGVpZ2h0PSI4MHB4IiB2aWV3Qm94PSIwIDAgODAgODAiIHZlcnNpb249IjEuMSIgeG1sbnM9Imh0dHA6Ly93d3cudzMub3JnLzIwMDAvc3ZnIiB4bWxuczp4bGluaz0iaHR0cDovL3d3dy53My5vcmcvMTk5OS94bGluayI+CiAgICA8IS0tIEdlbmVyYXRvcjogU2tldGNoIDU0LjEgKDc2NDkwKSAtIGh0dHBzOi8vc2tldGNoYXBwLmNvbSAtLT4KICAgIDx0aXRsZT5Hcm91cCAzPC90aXRsZT4KICAgIDxkZXNjPkNyZWF0ZWQgd2l0aCBTa2V0Y2guPC9kZXNjPgogICAgPGcgaWQ9IkxhbmRpbmciIHN0cm9rZT0ibm9uZSIgc3Ryb2tlLXdpZHRoPSIxIiBmaWxsPSJub25lIiBmaWxsLXJ1bGU9ImV2ZW5vZGQiPgogICAgICAgIDxnIGlkPSJBcnRib2FyZCIgdHJhbnNmb3JtPSJ0cmFuc2xhdGUoLTEyMzUuMDAwMDAwLCAtNzkuMDAwMDAwKSI+CiAgICAgICAgICAgIDxnIGlkPSJHcm91cC0zIiB0cmFuc2Zvcm09InRyYW5zbGF0ZSgxMjM1LjAwMDAwMCwgNzkuMDAwMDAwKSI+CiAgICAgICAgICAgICAgICA8cG9seWdvbiBpZD0iUGF0aC0yMCIgZmlsbD0iIzAyNjVCNCIgcG9pbnRzPSIyLjM3NjIzNzYyIDgwIDM4LjA0NzY2NjcgODAgNTcuODIxNzgyMiA3My44MDU3NTkyIDU3LjgyMTc4MjIgMzIuNzU5MjczOSAzOS4xNDAyMjc4IDMxLjY4MzE2ODMiPjwvcG9seWdvbj4KICAgICAgICAgICAgICAgIDxwYXRoIGQ9Ik0zNS4wMDc3MTgsODAgQzQyLjkwNjIwMDcsNzYuNDU0OTM1OCA0Ny41NjQ5MTY3LDcxLjU0MjI2NzEgNDguOTgzODY2LDY1LjI2MTk5MzkgQzUxLjExMjI4OTksNTUuODQxNTg0MiA0MS42NzcxNzk1LDQ5LjIxMjIyODQgMjUuNjIzOTg0Niw0OS4yMTIyMjg0IEMyNS40ODQ5Mjg5LDQ5LjEyNjg0NDggMjkuODI2MTI5Niw0My4yODM4MjQ4IDM4LjY0NzU4NjksMzEuNjgzMTY4MyBMNzIuODcxMjg3MSwzMi41NTQ0MjUgTDY1LjI4MDk3Myw2Ny42NzYzNDIxIEw1MS4xMTIyODk5LDc3LjM3NjE0NCBMMzUuMDA3NzE4LDgwIFoiIGlkPSJQYXRoLTIyIiBmaWxsPSIjMDAyODY4Ij48L3BhdGg+CiAgICAgICAgICAgICAgICA8cGF0aCBkPSJNMCwzNy43MzA0NDA1IEwyNy4xMTQ1MzcsMC4yNTcxMTE0MzYgQzYyLjM3MTUxMjMsLTEuOTkwNzE3MDEgODAsMTAuNTAwMzkyNyA4MCwzNy43MzA0NDA1IEM4MCw2NC45NjA0ODgyIDY0Ljc3NjUwMzgsNzkuMDUwMzQxNCAzNC4zMjk1MTEzLDgwIEM0Ny4wNTUzNDg5LDc3LjU2NzA4MDggNTMuNDE4MjY3Nyw3MC4zMTM2MTAzIDUzLjQxODI2NzcsNTguMjM5NTg4NSBDNTMuNDE4MjY3Nyw0MC4xMjg1NTU3IDM2LjMwMzk1NDQsMzcuNzMwNDQwNSAyNS4yMjc0MTcsMzcuNzMwNDQwNSBDMTcuODQzMDU4NiwzNy43MzA0NDA1IDkuNDMzOTE5NjYsMzcuNzMwNDQwNSAwLDM3LjczMDQ0MDUgWiIgaWQ9IlBhdGgtMTkiIGZpbGw9IiMzNzkzRUYiPjwvcGF0aD4KICAgICAgICAgICAgPC9nPgogICAgICAgIDwvZz4KICAgIDwvZz4KPC9zdmc+' > </img>\n",
    "Created in <span style='font-weight:600;margin-left:4px;'>Deepnote</span></a>"
   ]
  }
 ],
 "metadata": {
  "kaggle": {
   "accelerator": "none",
   "dataSources": [
    {
     "datasetId": 1399976,
     "sourceId": 2319425,
     "sourceType": "datasetVersion"
    }
   ],
   "dockerImageVersionId": 30096,
   "isGpuEnabled": false,
   "isInternetEnabled": false,
   "language": "python",
   "sourceType": "notebook"
  },
  "kernelspec": {
   "display_name": "Python 3",
   "language": "python",
   "name": "python3"
  },
  "language_info": {
   "codemirror_mode": {
    "name": "ipython",
    "version": 3
   },
   "file_extension": ".py",
   "mimetype": "text/x-python",
   "name": "python",
   "nbconvert_exporter": "python",
   "pygments_lexer": "ipython3",
   "version": "3.6.4"
  }
 },
 "nbformat": 4,
 "nbformat_minor": 4
}
